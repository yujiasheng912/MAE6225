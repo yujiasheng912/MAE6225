{
 "cells": [
  {
   "cell_type": "code",
   "execution_count": 1,
   "metadata": {
    "collapsed": true
   },
   "outputs": [],
   "source": [
    "from matplotlib import pyplot\n",
    "from math import pi\n",
    "import numpy\n",
    "%matplotlib inline\n",
    "from matplotlib import rcParams\n",
    "rcParams['font.family'] = 'serif'\n",
    "rcParams['font.size'] = 16\n",
    "import numba\n",
    "from numba import jit"
   ]
  },
  {
   "cell_type": "code",
   "execution_count": 2,
   "metadata": {
    "collapsed": true
   },
   "outputs": [],
   "source": [
    "def Fc1(u,v,dx,dy):\n",
    "    F=numpy.zeros(numpy.shape(u))\n",
    "    F[1:-1,1:-1]=-((u[1:-1,1:-1]+u[1:-1,2:])**2-(u[1:-1,1:-1]+u[1:-1,:-2])**2)/(4*dx)-\\\n",
    "                  ((u[1:-1,1:-1]+u[2:,1:-1])*(v[1:-1,2:]+v[1:-1,1:-1])-\\\n",
    "                  (u[1:-1,1:-1]+u[:-2,1:-1])*(v[:-2,2:]+v[:-2,1:-1]))/(4*dy)\n",
    "        \n",
    "    F[:,0]=-F[:,1]\n",
    "    F[:,-1]=-F[:,-2]\n",
    "    F[0,:]=-F[1,:]\n",
    "    F[-1,:]=-F[-2,:]\n",
    "    return F"
   ]
  },
  {
   "cell_type": "code",
   "execution_count": 3,
   "metadata": {
    "collapsed": true
   },
   "outputs": [],
   "source": [
    "def Fv1(u,v,dx,dy):\n",
    "    F=numpy.zeros(numpy.shape(u))\n",
    "    F[1:-1,1:-1]=((u[1:-1,2:]-2*u[1:-1,1:-1]+u[1:-1,:-2])/dx**2+\\\n",
    "                 (u[2:,1:-1]-2*u[1:-1,1:-1]+u[:-2,1:-1])/dy**2)/100\n",
    "    \n",
    "    F[:,0]=-F[:,1]\n",
    "    F[:,-1]=-F[:,-2]\n",
    "    F[0,:]=-F[1,:]\n",
    "    F[-1,:]=-F[-2,:]\n",
    "    return F"
   ]
  },
  {
   "cell_type": "code",
   "execution_count": 4,
   "metadata": {
    "collapsed": true
   },
   "outputs": [],
   "source": [
    "def Fp1(p,dx,dy):\n",
    "    F=numpy.zeros(numpy.shape(p))\n",
    "    F[1:-1,1:-1]=-(p[1:-1,2:]-p[1:-1,1:-1])/dx\n",
    "    F[:,0]=-F[:,1]\n",
    "    F[:,-1]=-F[:,-2]\n",
    "    F[0,:]=-F[1,:]\n",
    "    F[-1,:]=-F[-2,:]\n",
    "    return F"
   ]
  },
  {
   "cell_type": "code",
   "execution_count": 5,
   "metadata": {
    "collapsed": true
   },
   "outputs": [],
   "source": [
    "def Fc2(u,v,dx,dy):\n",
    "    F=numpy.zeros((numpy.shape(u)))\n",
    "    F[1:-1,1:-1]=-((u[2:,1:-1]+u[1:-1,1:-1])*(v[1:-1,1:-1]+v[1:-1,2:])-\\\n",
    "                   (u[2:,:-2]+u[1:-1,:-2])*(v[1:-1,1:-1]+v[1:-1,:-2]))/(4*dx)-\\\n",
    "                  ((v[1:-1,1:-1]+[v[2:,1:-1]])**2-(v[1:-1,1:-1]+v[:-2,1:-1])**2)/(4*dy)\n",
    "        \n",
    "    F[:,0]=-F[:,1]\n",
    "    F[:,-1]=-F[:,-2]\n",
    "    F[0,:]=-F[1,:]\n",
    "    F[-1,:]=-F[-2,:]\n",
    "    return F"
   ]
  },
  {
   "cell_type": "code",
   "execution_count": 6,
   "metadata": {
    "collapsed": true
   },
   "outputs": [],
   "source": [
    "def Fv2(u,v,dx,dy):\n",
    "    F=numpy.zeros((numpy.shape(u)))\n",
    "    F[1:-1,1:-1]=((v[1:-1,2:]-2*v[1:-1,1:-1]+v[1:-1,:-2])/dx**2+\\\n",
    "                 (v[2:,1:-1]-2*v[1:-1,1:-1]+v[:-2,1:-1])/dy**2)/100\n",
    "        \n",
    "    F[:,0]=-F[:,1]\n",
    "    F[:,-1]=-F[:,-2]\n",
    "    F[0,:]=-F[1,:]\n",
    "    F[-1,:]=-F[-2,:]\n",
    "    return F"
   ]
  },
  {
   "cell_type": "code",
   "execution_count": 7,
   "metadata": {
    "collapsed": true
   },
   "outputs": [],
   "source": [
    "def Fp2(p,dx,dy):\n",
    "    F=numpy.zeros((numpy.shape(p)))\n",
    "    F[1:-1,1:-1]=-(p[2:,1:-1]-p[1:-1,1:-1])/dy\n",
    "        \n",
    "    F[:,0]=-F[:,1]\n",
    "    F[:,-1]=-F[:,-2]\n",
    "    F[0,:]=-F[1,:]\n",
    "    F[-1,:]=-F[-2,:]\n",
    "    return F"
   ]
  },
  {
   "cell_type": "code",
   "execution_count": 8,
   "metadata": {
    "collapsed": true
   },
   "outputs": [],
   "source": [
    "@jit\n",
    "def poisson(f,omega):\n",
    "    nj,ni=numpy.shape(f)-numpy.array((1,1))\n",
    "    dx=1./(ni-1)\n",
    "    dy=1./(nj-1)\n",
    "    x=numpy.linspace(-dx/2,1+dx/2,ni+1)\n",
    "    y=numpy.linspace(-dy/2,1+dy/2,nj+1)\n",
    "    X,Y=numpy.meshgrid(x,y)\n",
    "    p=numpy.zeros(numpy.shape(f))\n",
    "    res=numpy.zeros(numpy.shape(f))\n",
    "    \n",
    "    res_max=1e3\n",
    "    \n",
    "    while res_max>1e-6:\n",
    "        \n",
    "        for j in range(1,nj):\n",
    "            for i in range(1,ni):\n",
    "                p[j,i]=omega/(2*(dx**2+dy**2))*((p[j,i-1]+p[j,i+1])*dy**2+\\\n",
    "                       (p[j-1,i]+p[j+1,i])*dx**2-f[j,i]*dx**2*dy**2)+\\\n",
    "                       (1-omega)*p[j,i]\n",
    "        p[0,:]=-p[1,:]\n",
    "        p[-1,:]=-p[-2,:]\n",
    "        p[:,0]=-p[:,1]\n",
    "        p[:,-1]=-p[:,-2]\n",
    "        \n",
    "        for j in range(1,nj):\n",
    "            for i in range(1,ni):\n",
    "                res[j,i]=numpy.abs(f[j,i]-(p[j,i-1]-2*p[j,i]+p[j,i+1])/dx**2-\\\n",
    "                                  (p[j-1,i]-2*p[j,i]+p[j+1,i])/dy**2)\n",
    "        res_max=numpy.max(res)\n",
    "    \n",
    "    return p"
   ]
  },
  {
   "cell_type": "code",
   "execution_count": 9,
   "metadata": {
    "collapsed": true
   },
   "outputs": [],
   "source": [
    "@jit\n",
    "def getuv(w1,w2,p,dx,dy,dt):\n",
    "    u=w1+Fp1(p,dx,dy)*dt\n",
    "    v=w2+Fp2(p,dx,dy)*dt\n",
    "    \n",
    "    u[0,:]=-u[1,:]\n",
    "    u[-1,:]=2-u[-2,:]\n",
    "    u[:,0]=0\n",
    "    u[:,-2]=0\n",
    "    u[:,-1]=-u[:,-3]\n",
    "\n",
    "    v[:,0]=-v[:,1]\n",
    "    v[:,-1]=-v[:,-2]\n",
    "    v[0,:]=0\n",
    "    v[-2,:]=0\n",
    "    v[-1,:]=-v[-3,:]\n",
    "    \n",
    "    return u,v"
   ]
  },
  {
   "cell_type": "code",
   "execution_count": 10,
   "metadata": {
    "collapsed": true
   },
   "outputs": [],
   "source": [
    "@jit\n",
    "def difference(p,pold):\n",
    "    nj,ni=numpy.shape(p)-numpy.array((1,1))\n",
    "    diff=numpy.zeros(numpy.shape(p))\n",
    "    for j in range(nj+1):\n",
    "        for i in range(ni+1):\n",
    "            diff[j,i]=numpy.abs(p[j,i]-pold[j,i])\n",
    "    diff_max=numpy.max(diff)\n",
    "    return diff_max"
   ]
  },
  {
   "cell_type": "code",
   "execution_count": 11,
   "metadata": {
    "collapsed": true
   },
   "outputs": [],
   "source": [
    "def grid_p(ni,nj):\n",
    "    dx=1./(ni-1)\n",
    "    dy=1./(nj-1)\n",
    "    x=numpy.linspace(-dx/2,1+dx/2,ni+1)\n",
    "    y=numpy.linspace(-dy/2,1+dy/2,nj+1)\n",
    "    X,Y=numpy.meshgrid(x,y)\n",
    "    return X,Y\n",
    "\n",
    "def grid_u(ni,nj):\n",
    "    dx=1./(ni-1)\n",
    "    dy=1./(nj-1)\n",
    "    xu=numpy.linspace(0,1+dx,ni+1)\n",
    "    yu=numpy.linspace(-dy/2,1+dy/2,nj+1)\n",
    "    X,Y=numpy.meshgrid(xu,yu)\n",
    "    return X,Y\n",
    "\n",
    "def grid_v(ni,nj):\n",
    "    dx=1./(ni-1)\n",
    "    dy=1./(nj-1)\n",
    "    xv=numpy.linspace(-dx/2,1+dx/2,ni+1)\n",
    "    yv=numpy.linspace(0,1+dy,nj+1)\n",
    "    X,Y=numpy.meshgrid(xv,yv)\n",
    "    return X,Y"
   ]
  },
  {
   "cell_type": "code",
   "execution_count": 12,
   "metadata": {
    "collapsed": true
   },
   "outputs": [],
   "source": [
    "ni=129\n",
    "nj=129\n",
    "dx=1./20\n",
    "dy=1./20\n",
    "x=numpy.linspace(-dx/2,1+dx/2,22)\n",
    "y=numpy.linspace(-dy/2,1+dy/2,22)\n",
    "X,Y=numpy.meshgrid(x,y)\n",
    "u0=numpy.zeros((nj+1,ni+1))\n",
    "v0=numpy.zeros((nj+1,ni+1))\n",
    "u0[-1,1:-2]=2.\n",
    "p0=numpy.zeros((nj+1,ni+1))\n",
    "omega0=numpy.zeros((nj+1,ni+1))\n",
    "\n",
    "u=u0.copy()\n",
    "v=v0.copy()\n",
    "p=p0.copy()\n",
    "omega=omega0.copy()\n",
    "G1=numpy.zeros((nj+1,ni+1))\n",
    "G2=numpy.zeros((nj+1,ni+1))\n",
    "w1=numpy.zeros((nj+1,ni+1))\n",
    "w2=numpy.zeros((nj+1,ni+1)) \n",
    "f=numpy.zeros((nj+1,ni+1))"
   ]
  },
  {
   "cell_type": "code",
   "execution_count": 13,
   "metadata": {
    "collapsed": true
   },
   "outputs": [],
   "source": [
    "G1=Fc1(u,v,dx,dy)+Fv1(u,v,dx,dy)\n",
    "G2=Fc2(u,v,dx,dy)+Fv2(u,v,dx,dy)"
   ]
  },
  {
   "cell_type": "code",
   "execution_count": 14,
   "metadata": {
    "collapsed": false
   },
   "outputs": [],
   "source": [
    "dt=0.001\n",
    "w1=u+dt/3*G1\n",
    "w2=v+dt/3*G2"
   ]
  },
  {
   "cell_type": "code",
   "execution_count": 15,
   "metadata": {
    "collapsed": false
   },
   "outputs": [
    {
     "data": {
      "text/plain": [
       "array([[ 0.        ,  0.        ,  0.        , ...,  0.        ,\n",
       "         0.        ,  0.        ],\n",
       "       [ 0.        ,  0.        ,  0.        , ...,  0.        ,\n",
       "         0.        ,  0.        ],\n",
       "       [ 0.        ,  0.        ,  0.        , ...,  0.        ,\n",
       "         0.        ,  0.        ],\n",
       "       ..., \n",
       "       [ 0.        ,  0.        ,  0.        , ...,  0.        ,\n",
       "         0.        ,  0.        ],\n",
       "       [-0.00266667,  0.00266667,  0.00266667, ...,  0.00266667,\n",
       "         0.        ,  0.        ],\n",
       "       [ 0.00266667,  1.99733333,  1.99733333, ...,  1.99733333,\n",
       "         0.        ,  0.        ]])"
      ]
     },
     "execution_count": 15,
     "metadata": {},
     "output_type": "execute_result"
    }
   ],
   "source": [
    "w1"
   ]
  },
  {
   "cell_type": "code",
   "execution_count": 16,
   "metadata": {
    "collapsed": true
   },
   "outputs": [],
   "source": [
    "f[1:-1,1:-1]=3./dt*((w1[1:-1,1:-1]-w1[1:-1,:-2])/dx+(w2[1:-1,1:-1]-w2[:-2,1:-1])/dy)"
   ]
  },
  {
   "cell_type": "code",
   "execution_count": 17,
   "metadata": {
    "collapsed": false
   },
   "outputs": [
    {
     "data": {
      "text/plain": [
       "array([[ -3.67192520e-11,   3.67192520e-11,   7.97605979e-11, ...,\n",
       "         -2.60323164e-12,  -1.06089695e-12,   1.06089695e-12],\n",
       "       [  3.67192520e-11,  -3.67192520e-11,  -7.97605979e-11, ...,\n",
       "          2.60323164e-12,   1.06089695e-12,  -1.06089695e-12],\n",
       "       [  7.98338329e-11,  -7.98338329e-11,  -2.12101758e-10, ...,\n",
       "          8.15842120e-12,   2.90128615e-12,  -2.90128615e-12],\n",
       "       ..., \n",
       "       [  8.80280041e-04,  -8.80280041e-04,  -5.96024743e-04, ...,\n",
       "          2.98012152e-04,   4.40139947e-04,  -4.40139947e-04],\n",
       "       [  3.54863501e-03,  -3.54863501e-03,  -8.80280040e-04, ...,\n",
       "          4.40139947e-04,   1.77431748e-03,  -1.77431748e-03],\n",
       "       [ -3.54863501e-03,   3.54863501e-03,   8.80280040e-04, ...,\n",
       "         -4.40139947e-04,  -1.77431748e-03,   1.77431748e-03]])"
      ]
     },
     "execution_count": 17,
     "metadata": {},
     "output_type": "execute_result"
    }
   ],
   "source": [
    "p=poisson(f,1.85)\n",
    "p"
   ]
  },
  {
   "cell_type": "code",
   "execution_count": null,
   "metadata": {
    "collapsed": true
   },
   "outputs": [],
   "source": [
    "@jit\n",
    "def euler(ni,nj,dt,N):\n",
    "    dx=1./(ni-1)\n",
    "    dy=1./(nj-1)\n",
    "    x=numpy.linspace(-dx/2,1+dx/2,ni+1)\n",
    "    y=numpy.linspace(-dy/2,1+dy/2,nj+1)\n",
    "    xu=numpy.linspace(0,1+dx,ni+1)\n",
    "    yu=numpy.linspace(-dy/2,1+dy/2,nj+1)\n",
    "    xv=numpy.linspace(-dx/2,1+dx/2,ni+1)\n",
    "    yv=numpy.linspace(0,1+dy,nj+1)\n",
    "\n",
    "    X,Y=numpy.meshgrid(x,y)\n",
    "    Xu,Yu=numpy.meshgrid(xu,yu)\n",
    "    Xv,Yv=numpy.meshgrid(xv,yv)\n",
    "\n",
    "    u0=numpy.zeros((nj+1,ni+1))\n",
    "    v0=numpy.zeros((nj+1,ni+1))\n",
    "    u0[-1,1:-3]=2.\n",
    "    p0=numpy.zeros((nj+1,ni+1))\n",
    "    omega0=numpy.zeros((nj+1,ni+1))\n",
    "\n",
    "    u=u0.copy()\n",
    "    v=v0.copy()\n",
    "    p=p0.copy()\n",
    "    omega=omega0.copy()\n",
    "    G1=numpy.zeros((nj+1,ni+1))\n",
    "    G2=numpy.zeros((nj+1,ni+1))\n",
    "    w1=numpy.zeros((nj+1,ni+1))\n",
    "    w2=numpy.zeros((nj+1,ni+1)) \n",
    "    f=numpy.zeros((nj+1,ni+1))\n",
    "    \n",
    "    T=2.\n",
    "    t=0.\n",
    "    nt=0\n",
    "    while nt<N:\n",
    "        uold=u.copy()\n",
    "        vold=v.copy()\n",
    "        pold=p.copy()\n",
    "        G1=Fc1(u,v,dx,dy)+Fv1(u,v,dx,dy)\n",
    "        G2=Fc2(u,v,dx,dy)+Fv2(u,v,dx,dy)\n",
    "        w1=u+dt*G1\n",
    "        w2=v+dt*G2\n",
    "        f[1:-1,1:-1]=1./dt*((w1[1:-1,1:-1]-w1[1:-1,:-2])/dx+(w2[1:-1,1:-1]-w2[:-2,1:-1])/dy)\n",
    "        p=poisson(f,1.85)\n",
    "        u,v=getuv(w1,w2,p,dx,dy,dt)\n",
    "        if nt%500==0:\n",
    "            print(nt,difference(u,uold))\n",
    "        nt+=1\n",
    "        t+=dt\n",
    "        \n",
    "    psi=numpy.zeros((nj+1,ni+1))\n",
    "    for j in range(1,nj+1):\n",
    "        for i in range(ni+1):\n",
    "            psi[j,i]=psi[j-1,i]+u[j,i]*dy\n",
    "    \n",
    "    \n",
    "    return u,v,p,psi"
   ]
  },
  {
   "cell_type": "code",
   "execution_count": null,
   "metadata": {
    "collapsed": true
   },
   "outputs": [],
   "source": [
    "@jit\n",
    "def RK3(ni,nj,dt,N):\n",
    "    \n",
    "    dx=1./(ni-1)\n",
    "    dy=1./(nj-1)\n",
    "    x=numpy.linspace(-dx/2,1+dx/2,ni+1)\n",
    "    y=numpy.linspace(-dy/2,1+dy/2,nj+1)\n",
    "    xu=numpy.linspace(0,1+dx,ni+1)\n",
    "    yu=numpy.linspace(-dy/2,1+dy/2,nj+1)\n",
    "    xv=numpy.linspace(-dx/2,1+dx/2,ni+1)\n",
    "    yv=numpy.linspace(0,1+dy,nj+1)\n",
    "\n",
    "    X,Y=numpy.meshgrid(x,y)\n",
    "    Xu,Yu=numpy.meshgrid(xu,yu)\n",
    "    Xv,Yv=numpy.meshgrid(xv,yv)\n",
    "\n",
    "    u0=numpy.zeros((nj+1,ni+1))\n",
    "    v0=numpy.zeros((nj+1,ni+1))\n",
    "    u0[-1,1:-3]=2.\n",
    "    p0=numpy.zeros((nj+1,ni+1))\n",
    "    omega0=numpy.zeros((nj+1,ni+1))\n",
    "            \n",
    "    u=u0.copy()\n",
    "    v=v0.copy()\n",
    "    p=p0.copy()\n",
    "    omega=omega0.copy()\n",
    "    \n",
    "    G1=numpy.zeros((nj+1,ni+1))\n",
    "    G2=numpy.zeros((nj+1,ni+1))\n",
    "    w1=numpy.zeros((nj+1,ni+1))\n",
    "    w2=numpy.zeros((nj+1,ni+1)) \n",
    "    f=numpy.zeros((nj+1,ni+1))\n",
    "    T=2.\n",
    "    t=0.\n",
    "    nt=0\n",
    "    \n",
    "    while nt<N:\n",
    "        uold=u.copy()\n",
    "        vold=v.copy()\n",
    "        pold=p.copy()\n",
    "        \n",
    "        #from t to t+dt/3\n",
    "        #t+=dt/3\n",
    "        G1=Fc1(u,v,dx,dy)+Fv1(u,v,dx,dy)\n",
    "        G2=Fc2(u,v,dx,dy)+Fv2(u,v,dx,dy)\n",
    "        w1=u+dt/3*G1\n",
    "        w2=v+dt/3*G2\n",
    "        f[1:-1,1:-1]=3./dt*((w1[1:-1,1:-1]-w1[1:-1,:-2])/dx+(w2[1:-1,1:-1]-w2[:-2,1:-1])/dy)\n",
    "        p=poisson(f,1.85)\n",
    "        u,v=getuv(w1,w2,p,dx,dy,dt/3)\n",
    "        \n",
    "        #from t+dt/3 to t+3dt/4\n",
    "        #t+=5/12*dt\n",
    "        G1=-5./9*G1+Fc1(u,v,dx,dy)+Fv1(u,v,dx,dy)\n",
    "        G2=-5./9*G2+Fc2(u,v,dx,dy)+Fv2(u,v,dx,dy)\n",
    "        w1=u+dt*15./16*G1\n",
    "        w2=v+dt*15./16*G2\n",
    "        f[1:-1,1:-1]=12./5/dt*((w1[1:-1,1:-1]-w1[1:-1,:-2])/dx+(w2[1:-1,1:-1]-w2[:-2,1:-1])/dy)        \n",
    "        p=poisson(f,1.85)\n",
    "        u,v=getuv(w1,w2,p,dx,dy,5*dt/12)\n",
    "        \n",
    "        #from t+3dt/4 to t+dt\n",
    "        #t+=dt/4\n",
    "        G1=-153./128*G1+Fc1(u,v,dx,dy)+Fv1(u,v,dx,dy)\n",
    "        G2=-153./128*G2+Fc2(u,v,dx,dy)+Fv2(u,v,dx,dy)\n",
    "        w1=u+dt*8./15*G1\n",
    "        w2=v+dt*8./15*G2\n",
    "        f[1:-1,1:-1]=4./dt*((w1[1:-1,1:-1]-w1[1:-1,:-2])/dx+(w2[1:-1,1:-1]-w2[:-2,1:-1])/dy)\n",
    "        p=poisson(f,1.85)\n",
    "        u,v=getuv(w1,w2,p,dx,dy,dt/4)\n",
    "        \n",
    "        if nt%10==0:\n",
    "            print(nt,difference(u,uold))\n",
    "        nt+=1\n",
    "        t+=dt\n",
    "        \n",
    "    psi=numpy.zeros((nj+1,ni+1))\n",
    "    for j in range(1,nj+1):\n",
    "        for i in range(ni+1):\n",
    "            psi[j,i]=psi[j-1,i]+u[j,i]*dy\n",
    "        \n",
    "    return u,v,p,psi"
   ]
  },
  {
   "cell_type": "code",
   "execution_count": null,
   "metadata": {
    "collapsed": false
   },
   "outputs": [],
   "source": [
    "u1,v1,p1,psi1=euler(41,41,2e-4,10000)"
   ]
  },
  {
   "cell_type": "code",
   "execution_count": null,
   "metadata": {
    "collapsed": true
   },
   "outputs": [],
   "source": [
    "X,Y=grid_p(41,41)\n",
    "Xu,Yu=grid_u(41,41)\n",
    "Xv,Yv=grid_v(41,41)"
   ]
  },
  {
   "cell_type": "code",
   "execution_count": null,
   "metadata": {
    "collapsed": false
   },
   "outputs": [],
   "source": [
    "pyplot.figure(figsize=(6.5,5))\n",
    "pyplot.contour(X[1:-2,1:-2],Y[1:-2,1:-2],psi1[1:-2,1:-2],30)\n",
    "pyplot.xlabel('$x$')\n",
    "pyplot.ylabel('$y$')\n",
    "pyplot.colorbar()\n",
    "pyplot.quiver(X[1:-2:2,1:-2:2],Y[1:-2:2,1:-2:2],u1[1:-2:2,1:-2:2],v1[1:-2:2,1:-2:2],scale=3)"
   ]
  },
  {
   "cell_type": "code",
   "execution_count": null,
   "metadata": {
    "collapsed": false
   },
   "outputs": [],
   "source": [
    "pyplot.figure(figsize=(6.5,5))\n",
    "pyplot.contour(X[1:15,-15:-1],Y[1:15,-15:-1],psi1[1:15,-15:-1],20)\n",
    "pyplot.xlabel('$x$')\n",
    "pyplot.ylabel('$y$')\n",
    "pyplot.colorbar()"
   ]
  },
  {
   "cell_type": "code",
   "execution_count": null,
   "metadata": {
    "collapsed": false
   },
   "outputs": [],
   "source": [
    "\n",
    "ni=41\n",
    "nj=41\n",
    "dx=1./(ni-1)\n",
    "dy=1./(nj-1)\n",
    "x=numpy.linspace(-dx/2,1+dx/2,ni+1)\n",
    "y=numpy.linspace(-dy/2,1+dy/2,nj+1)\n",
    "xu=numpy.linspace(0,1+dx,ni+1)\n",
    "yu=numpy.linspace(-dy/2,1+dy/2,nj+1)\n",
    "xv=numpy.linspace(-dx/2,1+dx/2,ni+1)\n",
    "yv=numpy.linspace(0,1+dy,nj+1)\n",
    "\n",
    "X,Y=numpy.meshgrid(x,y)\n",
    "Xu,Yu=numpy.meshgrid(xu,yu)\n",
    "Xv,Yv=numpy.meshgrid(xv,yv)\n",
    "\n",
    "u0=numpy.zeros((nj+1,ni+1))\n",
    "v0=numpy.zeros((nj+1,ni+1))\n",
    "u0[-1,1:-3]=2.\n",
    "p0=numpy.zeros((nj+1,ni+1))\n",
    "omega0=numpy.zeros((nj+1,ni+1))\n",
    "\n",
    "u=u0.copy()\n",
    "v=v0.copy()\n",
    "p=p0.copy()\n",
    "omega=omega0.copy()\n",
    "G1=numpy.zeros((nj+1,ni+1))\n",
    "G2=numpy.zeros((nj+1,ni+1))\n",
    "w1=numpy.zeros((nj+1,ni+1))\n",
    "w2=numpy.zeros((nj+1,ni+1)) \n",
    "f=numpy.zeros((nj+1,ni+1))\n",
    "nt=0\n",
    "dt=3e-4\n",
    "uold=u.copy()\n",
    "vold=v.copy()\n",
    "pold=p.copy()\n",
    "        \n",
    "        #from t to t+dt/3\n",
    "        #t+=dt/3\n",
    "G1=Fc1(u,v,dx,dy)+Fv1(u,v,dx,dy)\n",
    "G2=Fc2(u,v,dx,dy)+Fv2(u,v,dx,dy)\n",
    "w1=u+dt/3*G1\n",
    "w2=v+dt/3*G2\n"
   ]
  },
  {
   "cell_type": "code",
   "execution_count": null,
   "metadata": {
    "collapsed": true
   },
   "outputs": [],
   "source": [
    "f[1:-1,1:-1]=3./dt*((w1[1:-1,1:-1]-w1[1:-1,:-2])/dx+(w2[1:-1,1:-1]-w2[:-2,1:-1])/dy)\n",
    "p=poisson(f,1.9)\n",
    "u,v=getuv(w1,w2,p,dx,dy,dt/3)"
   ]
  },
  {
   "cell_type": "code",
   "execution_count": null,
   "metadata": {
    "collapsed": false
   },
   "outputs": [],
   "source": [
    "(w1[1:-1,1:-1]-w1[1:-1,:-2])\n"
   ]
  },
  {
   "cell_type": "code",
   "execution_count": null,
   "metadata": {
    "collapsed": false
   },
   "outputs": [],
   "source": [
    "w2"
   ]
  },
  {
   "cell_type": "code",
   "execution_count": null,
   "metadata": {
    "collapsed": false
   },
   "outputs": [],
   "source": [
    "p"
   ]
  },
  {
   "cell_type": "code",
   "execution_count": null,
   "metadata": {
    "collapsed": false
   },
   "outputs": [],
   "source": [
    "pyplot.figure(figsize=(6.5,5))\n",
    "pyplot.contour(X,Y,G2,scale=13)\n",
    "pyplot.xlabel('$x$')\n",
    "pyplot.ylabel('$y$')\n",
    "pyplot.colorbar()"
   ]
  },
  {
   "cell_type": "code",
   "execution_count": null,
   "metadata": {
    "collapsed": true
   },
   "outputs": [],
   "source": [
    "while nt<1000:\n",
    "    uold=u.copy()\n",
    "    vold=v.copy()\n",
    "    pold=p.copy()\n",
    "    G1=Fc1(u,v,dx,dy)+Fv1(u,v,dx,dy)\n",
    "    G2=Fc2(u,v,dx,dy)+Fv2(u,v,dx,dy)\n",
    "    w1=u+dt*G1\n",
    "    w2=v+dt*G2\n",
    "    f[1:-1,1:-1]=1./dt*((w1[1:-1,1:-1]-w1[1:-1,:-2])/dx+(w2[1:-1,1:-1]-w2[:-2,1:-1])/dy)\n",
    "    p=poisson(f,1.85)\n",
    "    u,v=getuv(w1,w2,p,dx,dy,dt)\n",
    "    if nt%100==0:\n",
    "        print(difference(u,uold))\n",
    "    nt+=1"
   ]
  },
  {
   "cell_type": "code",
   "execution_count": null,
   "metadata": {
    "collapsed": true
   },
   "outputs": [],
   "source": [
    "psi=numpy.zeros((nj+1,ni+1))\n",
    "for j in range(1,nj+1):\n",
    "    for i in range(ni+1):\n",
    "        psi[j,i]=psi[j-1,i]+u[j,i]*dy"
   ]
  },
  {
   "cell_type": "code",
   "execution_count": null,
   "metadata": {
    "collapsed": true
   },
   "outputs": [],
   "source": [
    "uold=u.copy()\n",
    "vold=v.copy()\n",
    "pold=p.copy()\n",
    "G1=Fc1(u,v,dx,dy)+Fv1(u,v,dx,dy)\n",
    "G2=Fc2(u,v,dx,dy)+Fv2(u,v,dx,dy)\n",
    "w1=u+dt*G1\n",
    "w2=v+dt*G2\n",
    "f[1:-1,1:-1]=1./dt*((w1[1:-1,1:-1]-w1[1:-1,:-2])/dx+(w2[1:-1,1:-1]-w2[:-2,1:-1])/dy)\n",
    "\n"
   ]
  },
  {
   "cell_type": "code",
   "execution_count": null,
   "metadata": {
    "collapsed": false
   },
   "outputs": [],
   "source": [
    "pyplot.figure(figsize=(6.5,5))\n",
    "pyplot.contour(X,Y,psi,scale=13)\n",
    "pyplot.xlabel('$x$')\n",
    "pyplot.ylabel('$y$')\n",
    "pyplot.colorbar()"
   ]
  },
  {
   "cell_type": "code",
   "execution_count": null,
   "metadata": {
    "collapsed": false
   },
   "outputs": [],
   "source": [
    "u[-2,:]+u[-1,:]"
   ]
  },
  {
   "cell_type": "code",
   "execution_count": null,
   "metadata": {
    "collapsed": true
   },
   "outputs": [],
   "source": [
    "p=poisson(f,1.85)\n",
    "u,v=getuv(w1,w2,p,dx,dy,dt)\n",
    "if nt%1==0:\n",
    "    print(difference(u,uold))\n",
    "nt+=1"
   ]
  },
  {
   "cell_type": "code",
   "execution_count": null,
   "metadata": {
    "collapsed": true
   },
   "outputs": [],
   "source": [
    "omega[1:,1:]=(v[1:,1:]-v[1:,:-1])/dx-(u[1:,1:]-u[:-1,1:])/dy"
   ]
  },
  {
   "cell_type": "code",
   "execution_count": null,
   "metadata": {
    "collapsed": false
   },
   "outputs": [],
   "source": [
    "pyplot.figure(figsize=(6.5,5))\n",
    "pyplot.contour(X,Y,u,scale=13)\n",
    "pyplot.xlabel('$x$')\n",
    "pyplot.ylabel('$y$')\n",
    "pyplot.colorbar()"
   ]
  },
  {
   "cell_type": "code",
   "execution_count": null,
   "metadata": {
    "collapsed": true
   },
   "outputs": [],
   "source": [
    "def grid_p(ni,nj):\n",
    "    dx=2*pi/(ni-1)\n",
    "    dy=2*pi/(nj-1)\n",
    "    x=numpy.linspace(-dx/2,2*pi+dx/2,ni+1)\n",
    "    y=numpy.linspace(-dy/2,2*pi+dy/2,nj+1)\n",
    "    X,Y=numpy.meshgrid(x,y)\n",
    "    return X,Y\n",
    "\n",
    "def grid_u(ni,nj):\n",
    "    dx=2*pi/(ni-1)\n",
    "    dy=2*pi/(nj-1)\n",
    "    xu=numpy.linspace(0,2*pi+dx,ni+1)\n",
    "    yu=numpy.linspace(-dy/2,2*pi+dy/2,nj+1)\n",
    "    X,Y=numpy.meshgrid(xu,yu)\n",
    "    return X,Y\n",
    "\n",
    "def grid_v(ni,nj):\n",
    "    dx=2*pi/(ni-1)\n",
    "    dy=2*pi/(nj-1)\n",
    "    xv=numpy.linspace(-dx/2,2*pi+dx/2,ni+1)\n",
    "    yv=numpy.linspace(0,2*pi+dy,nj+1)\n",
    "    X,Y=numpy.meshgrid(xv,yv)\n",
    "    return X,Y"
   ]
  },
  {
   "cell_type": "code",
   "execution_count": null,
   "metadata": {
    "collapsed": true
   },
   "outputs": [],
   "source": [
    "@jit\n",
    "def RK3(ni,nj,dt):\n",
    "    T=2.\n",
    "    nt=int(T/dt)\n",
    "    t=0.\n",
    "    dx=1./(ni-1)\n",
    "    dy=1./(nj-1)\n",
    "    x=numpy.linspace(-dx/2,2*pi+dx/2,ni+1)\n",
    "    y=numpy.linspace(-dy/2,2*pi+dy/2,nj+1)\n",
    "    xu=numpy.linspace(0,2*pi+dx,ni+1)\n",
    "    yu=numpy.linspace(-dy/2,2*pi+dy/2,nj+1)\n",
    "    xv=numpy.linspace(-dx/2,2*pi+dx/2,ni+1)\n",
    "    yv=numpy.linspace(0,2*pi+dy,nj+1)\n",
    "\n",
    "    X,Y=numpy.meshgrid(x,y)\n",
    "    Xu,Yu=numpy.meshgrid(xu,yu)\n",
    "    Xv,Yv=numpy.meshgrid(xv,yv)\n",
    "\n",
    "    u0=numpy.zeros((nj+1,ni+1))\n",
    "    v0=numpy.zeros((nj+1,ni+1))\n",
    "    u0[-1,1:-3]=1.\n",
    "    p0=numpy.zeros((nj+1,ni+1))\n",
    "    omega0=numpy.zeros((nj+1,ni+1))\n",
    "\n",
    "    u=u0.copy()\n",
    "    v=v0.copy()\n",
    "    p=p0.copy()\n",
    "    omega=omega0.copy()\n",
    "    res=numpy.zeros((nj+1,ni+1))\n",
    "    nt=0\n",
    "    \n",
    "    while t<T:\n",
    "        G1=numpy.zeros((nj+1,ni+1))\n",
    "        G2=numpy.zeros((nj+1,ni+1))\n",
    "        w1=numpy.zeros((nj+1,ni+1))\n",
    "        w2=numpy.zeros((nj+1,ni+1)) \n",
    "        f=numpy.zeros((nj+1,ni+1))\n",
    "        uold=u.copy()\n",
    "        vold=v.copy()\n",
    "        pold=p.copy()\n",
    "        \n",
    "        #from t to t+dt/3\n",
    "        t+=dt/3\n",
    "        G1=Fc1(u,v,dx,dy)+Fv1(u,v,dx,dy)\n",
    "        G2=Fc2(u,v,dx,dy)+Fv2(u,v,dx,dy)\n",
    "        w1=u+dt/3*G1\n",
    "        w2=v+dt/3*G2\n",
    "        f[1:-1,1:-1]=3./dt*((w1[1:-1,1:-1]-w1[1:-1,:-2])/dx+(w2[1:-1,1:-1]-w2[:-2,1:-1])/dy)\n",
    "        p=poisson(f,1.99)\n",
    "        u,v=getuv(w1,w2,p,dx,dy,dt/3)\n",
    "        \n",
    "        #from t+dt/3 to t+3dt/4\n",
    "        t+=5./12*dt\n",
    "        G1=-5./9*G1+Fc1(u,v,dx,dy)+Fv1(u,v,dx,dy)\n",
    "        G2=-5./9*G2+Fc2(u,v,dx,dy)+Fv2(u,v,dx,dy)\n",
    "        w1=u+dt*15./16*G1\n",
    "        w2=v+dt*15./16*G2\n",
    "        f[1:-1,1:-1]=12./5/dt*((w1[1:-1,1:-1]-w1[1:-1,:-2])/dx+(w2[1:-1,1:-1]-w2[:-2,1:-1])/dy)        \n",
    "        p=poisson(f,1.99)\n",
    "        u,v=getuv(w1,w2,p,dx,dy,5.*dt/12)\n",
    "        \n",
    "        #from t+3dt/4 to t+dt\n",
    "        t+=dt/4\n",
    "        G1=-153./128*G1+Fc1(u,v,dx,dy)+Fv1(u,v,dx,dy)\n",
    "        G2=-153./128*G2+Fc2(u,v,dx,dy)+Fv2(u,v,dx,dy)\n",
    "        w1=u+dt*8./15*G1\n",
    "        w2=v+dt*8./15*G2\n",
    "        f[1:-1,1:-1]=4./dt*((w1[1:-1,1:-1]-w1[1:-1,:-2])/dx+(w2[1:-1,1:-1]-w2[:-2,1:-1])/dy)\n",
    "        p=poisson(f,1.99)\n",
    "        u,v=getuv(w1,w2,p,dx,dy,dt/4)\n",
    "        \n",
    "        if (nt)%200==0:\n",
    "            print(difference(u,uold),difference(v,vold),difference(p,pold))\n",
    "        nt+=1\n",
    "    \n",
    "    A=numpy.array([u,v,p])\n",
    "    return A"
   ]
  },
  {
   "cell_type": "code",
   "execution_count": null,
   "metadata": {
    "collapsed": false,
    "scrolled": false
   },
   "outputs": [],
   "source": [
    "A1_1=RK3(21,21,3e-4)"
   ]
  },
  {
   "cell_type": "code",
   "execution_count": null,
   "metadata": {
    "collapsed": true
   },
   "outputs": [],
   "source": []
  },
  {
   "cell_type": "code",
   "execution_count": null,
   "metadata": {
    "collapsed": true
   },
   "outputs": [],
   "source": []
  }
 ],
 "metadata": {
  "kernelspec": {
   "display_name": "Python 3",
   "language": "python",
   "name": "python3"
  },
  "language_info": {
   "codemirror_mode": {
    "name": "ipython",
    "version": 3
   },
   "file_extension": ".py",
   "mimetype": "text/x-python",
   "name": "python",
   "nbconvert_exporter": "python",
   "pygments_lexer": "ipython3",
   "version": "3.4.4"
  }
 },
 "nbformat": 4,
 "nbformat_minor": 0
}
