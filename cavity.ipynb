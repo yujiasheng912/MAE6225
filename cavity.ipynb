{
 "cells": [
  {
   "cell_type": "code",
   "execution_count": 1,
   "metadata": {
    "collapsed": true
   },
   "outputs": [],
   "source": [
    "from matplotlib import pyplot\n",
    "from math import pi\n",
    "import numpy\n",
    "%matplotlib inline\n",
    "from matplotlib import rcParams\n",
    "rcParams['font.family'] = 'serif'\n",
    "rcParams['font.size'] = 16\n",
    "import numba\n",
    "from numba import jit"
   ]
  },
  {
   "cell_type": "code",
   "execution_count": 2,
   "metadata": {
    "collapsed": true
   },
   "outputs": [],
   "source": [
    "def Fc1(u,v,dx,dy):\n",
    "    F=numpy.zeros(numpy.shape(u))\n",
    "    F[1:-1,1:-1]=-((u[1:-1,1:-1]+u[1:-1,2:])**2-(u[1:-1,1:-1]+u[1:-1,:-2])**2)/(4*dx)-\\\n",
    "                  ((u[1:-1,1:-1]+u[2:,1:-1])*(v[1:-1,2:]+v[1:-1,1:-1])-\\\n",
    "                  (u[1:-1,1:-1]+u[:-2,1:-1])*(v[:-2,2:]+v[:-2,1:-1]))/(4*dy)\n",
    "        \n",
    "    F[:,0]=-F[:,1]\n",
    "    F[:,-1]=-F[:,-2]\n",
    "    F[0,:]=-F[1,:]\n",
    "    F[-1,:]=-F[-2,:]\n",
    "    return F"
   ]
  },
  {
   "cell_type": "code",
   "execution_count": 3,
   "metadata": {
    "collapsed": true
   },
   "outputs": [],
   "source": [
    "def Fv1(u,v,dx,dy):\n",
    "    F=numpy.zeros(numpy.shape(u))\n",
    "    F[1:-1,1:-1]=((u[1:-1,2:]-2*u[1:-1,1:-1]+u[1:-1,:-2])/dx**2+\\\n",
    "                 (u[2:,1:-1]-2*u[1:-1,1:-1]+u[:-2,1:-1])/dy**2)/100\n",
    "    \n",
    "    F[:,0]=-F[:,1]\n",
    "    F[:,-1]=-F[:,-2]\n",
    "    F[0,:]=-F[1,:]\n",
    "    F[-1,:]=-F[-2,:]\n",
    "    return F"
   ]
  },
  {
   "cell_type": "code",
   "execution_count": 4,
   "metadata": {
    "collapsed": true
   },
   "outputs": [],
   "source": [
    "def Fp1(p,dx,dy):\n",
    "    F=numpy.zeros(numpy.shape(p))\n",
    "    F[1:-1,1:-1]=-(p[1:-1,2:]-p[1:-1,1:-1])/dx/100\n",
    "    F[:,0]=-F[:,1]\n",
    "    F[:,-1]=-F[:,-2]\n",
    "    F[0,:]=-F[1,:]\n",
    "    F[-1,:]=-F[-2,:]\n",
    "    return F"
   ]
  },
  {
   "cell_type": "code",
   "execution_count": 5,
   "metadata": {
    "collapsed": true
   },
   "outputs": [],
   "source": [
    "def Fc2(u,v,dx,dy):\n",
    "    F=numpy.zeros((numpy.shape(u)))\n",
    "    F[1:-1,1:-1]=-((u[2:,1:-1]+u[1:-1,1:-1])*(v[1:-1,1:-1]+v[1:-1,2:])-\\\n",
    "                   (u[2:,:-2]+u[1:-1,:-2])*(v[1:-1,1:-1]+v[1:-1,:-2]))/(4*dx)-\\\n",
    "                  ((v[1:-1,1:-1]+[v[2:,1:-1]])**2-(v[1:-1,1:-1]+v[:-2,1:-1])**2)/(4*dy)\n",
    "        \n",
    "    F[:,0]=-F[:,1]\n",
    "    F[:,-1]=-F[:,-2]\n",
    "    F[0,:]=-F[1,:]\n",
    "    F[-1,:]=-F[-2,:]\n",
    "    return F"
   ]
  },
  {
   "cell_type": "code",
   "execution_count": 6,
   "metadata": {
    "collapsed": true
   },
   "outputs": [],
   "source": [
    "def Fv2(u,v,dx,dy):\n",
    "    F=numpy.zeros((numpy.shape(u)))\n",
    "    F[1:-1,1:-1]=((v[1:-1,2:]-2*v[1:-1,1:-1]+v[1:-1,:-2])/dx**2+\\\n",
    "                 (v[2:,1:-1]-2*v[1:-1,1:-1]+v[:-2,1:-1])/dy**2)/100\n",
    "        \n",
    "    F[:,0]=-F[:,1]\n",
    "    F[:,-1]=-F[:,-2]\n",
    "    F[0,:]=-F[1,:]\n",
    "    F[-1,:]=-F[-2,:]\n",
    "    return F"
   ]
  },
  {
   "cell_type": "code",
   "execution_count": 7,
   "metadata": {
    "collapsed": true
   },
   "outputs": [],
   "source": [
    "def Fp2(p,dx,dy):\n",
    "    F=numpy.zeros((numpy.shape(p)))\n",
    "    F[1:-1,1:-1]=-(p[2:,1:-1]-p[1:-1,1:-1])/dy/100\n",
    "        \n",
    "    F[:,0]=-F[:,1]\n",
    "    F[:,-1]=-F[:,-2]\n",
    "    F[0,:]=-F[1,:]\n",
    "    F[-1,:]=-F[-2,:]\n",
    "    return F"
   ]
  },
  {
   "cell_type": "code",
   "execution_count": 8,
   "metadata": {
    "collapsed": true
   },
   "outputs": [],
   "source": [
    "@jit\n",
    "def poisson(f,omega):\n",
    "    nj,ni=numpy.shape(f)-numpy.array((1,1))\n",
    "    dx=2*pi/(ni-1)\n",
    "    dy=2*pi/(nj-1)\n",
    "    x=numpy.linspace(-dx/2,2*pi+dx/2,ni+1)\n",
    "    y=numpy.linspace(-dy/2,2*pi+dy/2,nj+1)\n",
    "    X,Y=numpy.meshgrid(x,y)\n",
    "    p=numpy.zeros(numpy.shape(f))\n",
    "    res=numpy.zeros(numpy.shape(f))\n",
    "    \n",
    "    res_max=1e3\n",
    "    \n",
    "    while res_max>1e-6:\n",
    "        \n",
    "        for j in range(1,nj):\n",
    "            for i in range(1,ni):\n",
    "                p[j,i]=omega/(2*(dx**2+dy**2))*((p[j,i-1]+p[j,i+1])*dy**2+\\\n",
    "                       (p[j-1,i]+p[j+1,i])*dx**2-f[j,i]*dx**2*dy**2)+\\\n",
    "                       (1-omega)*p[j,i]\n",
    "        p[0,:]=-p[1,:]\n",
    "        p[-1,:]=-p[-2,:]\n",
    "        p[:,0]=-p[:,1]\n",
    "        p[:,-1]=-p[:,-2]\n",
    "        \n",
    "        for j in range(1,nj):\n",
    "            for i in range(1,ni):\n",
    "                res[j,i]=numpy.abs(f[j,i]-(p[j,i-1]-2*p[j,i]+p[j,i+1])/dx**2-\\\n",
    "                                  (p[j-1,i]-2*p[j,i]+p[j+1,i])/dy**2)\n",
    "        res_max=numpy.max(res)\n",
    "    \n",
    "    return p"
   ]
  },
  {
   "cell_type": "code",
   "execution_count": 9,
   "metadata": {
    "collapsed": true
   },
   "outputs": [],
   "source": [
    "@jit\n",
    "def getuv(w1,w2,p,dx,dy,dt):\n",
    "    u=w1+Fp1(p,dx,dy)*dt\n",
    "    v=w2+Fp2(p,dx,dy)*dt\n",
    "    \n",
    "    u[0,:]=-u[1,:]\n",
    "    u[-1,:]=2-u[-2,:]\n",
    "    u[:,0]=0\n",
    "    u[:,-2]=0\n",
    "    u[:,-1]=-u[:,-3]\n",
    "\n",
    "    v[:,0]=-v[:,1]\n",
    "    v[:,-1]=-v[:,-2]\n",
    "    v[0,:]=0\n",
    "    v[-2,:]=0\n",
    "    v[-1,:]=-v[-3,:]\n",
    "    \n",
    "    return u,v"
   ]
  },
  {
   "cell_type": "code",
   "execution_count": 10,
   "metadata": {
    "collapsed": true
   },
   "outputs": [],
   "source": [
    "@jit\n",
    "def difference(p,pold):\n",
    "    nj,ni=numpy.shape(p)-numpy.array((1,1))\n",
    "    diff=numpy.zeros(numpy.shape(p))\n",
    "    for j in range(nj+1):\n",
    "        for i in range(ni+1):\n",
    "            diff[j,i]=numpy.abs(p[j,i]-pold[j,i])\n",
    "    diff_max=numpy.max(diff)\n",
    "    return diff_max"
   ]
  },
  {
   "cell_type": "code",
   "execution_count": 14,
   "metadata": {
    "collapsed": true
   },
   "outputs": [],
   "source": [
    "def grid_p(ni,nj):\n",
    "    dx=2*pi/(ni-1)\n",
    "    dy=2*pi/(nj-1)\n",
    "    x=numpy.linspace(-dx/2,2*pi+dx/2,ni+1)\n",
    "    y=numpy.linspace(-dy/2,2*pi+dy/2,nj+1)\n",
    "    X,Y=numpy.meshgrid(x,y)\n",
    "    return X,Y\n",
    "\n",
    "def grid_u(ni,nj):\n",
    "    dx=2*pi/(ni-1)\n",
    "    dy=2*pi/(nj-1)\n",
    "    xu=numpy.linspace(0,2*pi+dx,ni+1)\n",
    "    yu=numpy.linspace(-dy/2,2*pi+dy/2,nj+1)\n",
    "    X,Y=numpy.meshgrid(xu,yu)\n",
    "    return X,Y\n",
    "\n",
    "def grid_v(ni,nj):\n",
    "    dx=2*pi/(ni-1)\n",
    "    dy=2*pi/(nj-1)\n",
    "    xv=numpy.linspace(-dx/2,2*pi+dx/2,ni+1)\n",
    "    yv=numpy.linspace(0,2*pi+dy,nj+1)\n",
    "    X,Y=numpy.meshgrid(xv,yv)\n",
    "    return X,Y"
   ]
  },
  {
   "cell_type": "code",
   "execution_count": 11,
   "metadata": {
    "collapsed": true
   },
   "outputs": [],
   "source": [
    "@jit\n",
    "def euler(ni,nj,dt,N):\n",
    "    dx=1./(ni-1)\n",
    "    dy=1./(nj-1)\n",
    "    x=numpy.linspace(-dx/2,1+dx/2,ni+1)\n",
    "    y=numpy.linspace(-dy/2,1+dy/2,nj+1)\n",
    "    xu=numpy.linspace(0,1+dx,ni+1)\n",
    "    yu=numpy.linspace(-dy/2,1+dy/2,nj+1)\n",
    "    xv=numpy.linspace(-dx/2,1+dx/2,ni+1)\n",
    "    yv=numpy.linspace(0,1+dy,nj+1)\n",
    "\n",
    "    X,Y=numpy.meshgrid(x,y)\n",
    "    Xu,Yu=numpy.meshgrid(xu,yu)\n",
    "    Xv,Yv=numpy.meshgrid(xv,yv)\n",
    "\n",
    "    u0=numpy.zeros((nj+1,ni+1))\n",
    "    v0=numpy.zeros((nj+1,ni+1))\n",
    "    u0[-1,1:-3]=2.\n",
    "    p0=numpy.zeros((nj+1,ni+1))\n",
    "    omega0=numpy.zeros((nj+1,ni+1))\n",
    "\n",
    "    u=u0.copy()\n",
    "    v=v0.copy()\n",
    "    p=p0.copy()\n",
    "    omega=omega0.copy()\n",
    "    G1=numpy.zeros((nj+1,ni+1))\n",
    "    G2=numpy.zeros((nj+1,ni+1))\n",
    "    w1=numpy.zeros((nj+1,ni+1))\n",
    "    w2=numpy.zeros((nj+1,ni+1)) \n",
    "    f=numpy.zeros((nj+1,ni+1))\n",
    "    \n",
    "    T=2.\n",
    "    t=0.\n",
    "    nt=0\n",
    "    while nt<N:\n",
    "        uold=u.copy()\n",
    "        vold=v.copy()\n",
    "        pold=p.copy()\n",
    "        G1=Fc1(u,v,dx,dy)+Fv1(u,v,dx,dy)\n",
    "        G2=Fc2(u,v,dx,dy)+Fv2(u,v,dx,dy)\n",
    "        w1=u+dt*G1\n",
    "        w2=v+dt*G2\n",
    "        f[1:-1,1:-1]=1./dt*((w1[1:-1,1:-1]-w1[1:-1,:-2])/dx+(w2[1:-1,1:-1]-w2[:-2,1:-1])/dy)\n",
    "        p=poisson(f,1.85)\n",
    "        u,v=getuv(w1,w2,p,dx,dy,dt)\n",
    "        if nt%200==0:\n",
    "            print(nt,difference(u,uold))\n",
    "        nt+=1\n",
    "        t+=dt\n",
    "        \n",
    "    psi=numpy.zeros((nj+1,ni+1))\n",
    "    for j in range(1,nj+1):\n",
    "        for i in range(ni+1):\n",
    "            psi[j,i]=psi[j-1,i]+u[j,i]*dy\n",
    "    \n",
    "    \n",
    "    return u,v,psi"
   ]
  },
  {
   "cell_type": "code",
   "execution_count": 12,
   "metadata": {
    "collapsed": false
   },
   "outputs": [
    {
     "name": "stdout",
     "output_type": "stream",
     "text": [
      "0 1.99975386391\n",
      "200 0.00123268599131\n",
      "400 0.000562076920025\n",
      "600 0.000354953092302\n",
      "800 0.000288017041952\n",
      "1000 0.000233076919135\n",
      "1200 0.000191109956248\n",
      "1400 0.000159446418206\n",
      "1600 0.000135242078226\n",
      "1800 0.000121843566453\n",
      "2000 0.000111497776378\n",
      "2200 0.000102234229329\n",
      "2400 9.39489976497e-05\n",
      "2600 8.65825512212e-05\n",
      "2800 8.00145844073e-05\n",
      "3000 7.41337071269e-05\n",
      "3200 6.88540071808e-05\n",
      "3400 6.41261713213e-05\n",
      "3600 6.01552691338e-05\n",
      "3800 5.7373589351e-05\n",
      "4000 5.47250684468e-05\n",
      "4200 5.22102405728e-05\n",
      "4400 4.98264931317e-05\n",
      "4600 4.75693247937e-05\n",
      "4800 4.54331685608e-05\n",
      "5000 4.3411927909e-05\n",
      "5200 4.14993229459e-05\n",
      "5400 3.96891104444e-05\n",
      "5600 3.79752200733e-05\n",
      "5800 3.63518350097e-05\n",
      "6000 3.48134357871e-05\n",
      "6200 3.36002473468e-05\n",
      "6400 3.25110001216e-05\n",
      "6600 3.14521526145e-05\n",
      "6800 3.04243253279e-05\n",
      "7000 2.94277948828e-05\n",
      "7200 2.84625672476e-05\n",
      "7400 2.75433025214e-05\n",
      "7600 2.66637107025e-05\n",
      "7800 2.58136100816e-05\n",
      "8000 2.4992299701e-05\n",
      "8200 2.41990295203e-05\n",
      "8400 2.34330163558e-05\n",
      "8600 2.26934565026e-05\n",
      "8800 2.1979535729e-05\n",
      "9000 2.12904370478e-05\n",
      "9200 2.07055154792e-05\n",
      "9400 2.0172985934e-05\n",
      "9600 1.96518270661e-05\n",
      "9800 1.91422427386e-05\n"
     ]
    }
   ],
   "source": [
    "u1,v1,psi1=euler(41,41,1e-4,10000)"
   ]
  },
  {
   "cell_type": "code",
   "execution_count": 15,
   "metadata": {
    "collapsed": true
   },
   "outputs": [],
   "source": [
    "X,Y=grid_p(41,41)\n",
    "Xu,Yu=grid_u(41,41)\n",
    "Xv,Yv=grid_v(41,41)"
   ]
  },
  {
   "cell_type": "code",
   "execution_count": 20,
   "metadata": {
    "collapsed": false
   },
   "outputs": [],
   "source": [
    "psi1=numpy.zeros((42,42))\n",
    "for j in range(1,42):\n",
    "    for i in range(42):\n",
    "        psi1[j,i]=psi1[j-1,i]+u1[j,i]*1./40"
   ]
  },
  {
   "cell_type": "code",
   "execution_count": 30,
   "metadata": {
    "collapsed": false
   },
   "outputs": [
    {
     "data": {
      "text/plain": [
       "<matplotlib.colorbar.Colorbar at 0x7f323bc80c18>"
      ]
     },
     "execution_count": 30,
     "metadata": {},
     "output_type": "execute_result"
    },
    {
     "data": {
      "image/png": "[encoded data removed]",
      "text/plain": [
       "<matplotlib.figure.Figure at 0x7f323c2d7a20>"
      ]
     },
     "metadata": {},
     "output_type": "display_data"
    }
   ],
   "source": [
    "pyplot.figure(figsize=(6.5,5))\n",
    "pyplot.contour(X[1:-1],Y[1:-1],psi1[1:-1],13)\n",
    "pyplot.xlabel('$x$')\n",
    "pyplot.ylabel('$y$')\n",
    "pyplot.colorbar()"
   ]
  },
  {
   "cell_type": "code",
   "execution_count": null,
   "metadata": {
    "collapsed": true
   },
   "outputs": [],
   "source": [
    "@jit\n",
    "def RK3(ni,nj,dt,N):\n",
    "    T=2.\n",
    "    t=0.\n",
    "    dx=2.*pi/(ni-1)\n",
    "    dy=2.*pi/(nj-1)\n",
    "    x=numpy.linspace(-dx/2,2*pi+dx/2,ni+1)\n",
    "    y=numpy.linspace(-dy/2,2*pi+dy/2,nj+1)\n",
    "    xu=numpy.linspace(0,2*pi+dx,ni+1)\n",
    "    yu=numpy.linspace(-dy/2,2*pi+dy/2,nj+1)\n",
    "    xv=numpy.linspace(-dx/2,2*pi+dx/2,ni+1)\n",
    "    yv=numpy.linspace(0,2*pi+dy,nj+1)\n",
    "\n",
    "    X,Y=numpy.meshgrid(x,y)\n",
    "    Xu,Yu=numpy.meshgrid(xu,yu)\n",
    "    Xv,Yv=numpy.meshgrid(xv,yv)\n",
    "\n",
    "    u0=numpy.zeros((nj+1,ni+1))\n",
    "    v0=numpy.zeros((nj+1,ni+1))\n",
    "    u0[-1,1:-3]=2.\n",
    "    p0=numpy.zeros((nj+1,ni+1))\n",
    "    omega0=numpy.zeros((nj+1,ni+1))\n",
    "            \n",
    "    u=u0.copy()\n",
    "    v=v0.copy()\n",
    "    p=p0.copy()\n",
    "    omega=omega0.copy()\n",
    "    res=numpy.zeros((nj+1,ni+1))\n",
    "    \n",
    "    G1=numpy.zeros((nj+1,ni+1))\n",
    "    G2=numpy.zeros((nj+1,ni+1))\n",
    "    w1=numpy.zeros((nj+1,ni+1))\n",
    "    w2=numpy.zeros((nj+1,ni+1)) \n",
    "    f=numpy.zeros((nj+1,ni+1))\n",
    "    nt=0\n",
    "    \n",
    "    while nt<N:\n",
    "        uold=u.copy()\n",
    "        vold=v.copy()\n",
    "        pold=p.copy()\n",
    "        \n",
    "        #from t to t+dt/3\n",
    "        #t+=dt/3\n",
    "        G1=Fc1(u,v,dx,dy)+Fv1(u,v,dx,dy)\n",
    "        G2=Fc2(u,v,dx,dy)+Fv2(u,v,dx,dy)\n",
    "        w1=u+dt/3*G1\n",
    "        w2=v+dt/3*G2\n",
    "        f[1:-1,1:-1]=3./dt*((w1[1:-1,1:-1]-w1[1:-1,:-2])/dx+(w2[1:-1,1:-1]-w2[:-2,1:-1])/dy)\n",
    "        p=poisson(f,1.85)\n",
    "        u,v=getuv(w1,w2,p,dx,dy,dt/3)\n",
    "        \n",
    "        #from t+dt/3 to t+3dt/4\n",
    "        #t+=5/12*dt\n",
    "        G1=-5./9*G1+Fc1(u,v,dx,dy)+Fv1(u,v,dx,dy)\n",
    "        G2=-5./9*G2+Fc2(u,v,dx,dy)+Fv2(u,v,dx,dy)\n",
    "        w1=u+dt*15./16*G1\n",
    "        w2=v+dt*15./16*G2\n",
    "        f[1:-1,1:-1]=12./5/dt*((w1[1:-1,1:-1]-w1[1:-1,:-2])/dx+(w2[1:-1,1:-1]-w2[:-2,1:-1])/dy)        \n",
    "        p=poisson(f,1e-6,1.99)\n",
    "        u,v=getuv(w1,w2,p,dx,dy,5.*dt/12)\n",
    "        \n",
    "        #from t+3dt/4 to t+dt\n",
    "        #t+=dt/4\n",
    "        G1=-153./128*G1+Fc1(u,v,dx,dy)+Fv1(u,v,dx,dy)\n",
    "        G2=-153./128*G2+Fc2(u,v,dx,dy)+Fv2(u,v,dx,dy)\n",
    "        w1=u+dt*8./15*G1\n",
    "        w2=v+dt*8./15*G2\n",
    "        f[1:-1,1:-1]=4./dt*((w1[1:-1,1:-1]-w1[1:-1,:-2])/dx+(w2[1:-1,1:-1]-w2[:-2,1:-1])/dy)\n",
    "        p=poisson(f,1e-6,1.99)\n",
    "        u,v=getuv(w1,w2,p,dx,dy,dt/4)\n",
    "        \n",
    "        if nt%200==0:\n",
    "            print(nt,difference(u,uold))\n",
    "        nt+=1\n",
    "        t+=dt\n",
    "        \n",
    "    psi=numpy.zeros((nj+1,ni+1))\n",
    "    for j in range(1,nj+1):\n",
    "        for i in range(ni+1):\n",
    "            psi[j,i]=psi[j-1,i]+u[j,i]*dy\n",
    "        \n",
    "    A=numpy.array([u,v,p,psi])\n",
    "    return A"
   ]
  },
  {
   "cell_type": "code",
   "execution_count": null,
   "metadata": {
    "collapsed": false
   },
   "outputs": [],
   "source": [
    "\n",
    "ni=41\n",
    "nj=41\n",
    "dx=1./(ni-1)\n",
    "dy=1./(nj-1)\n",
    "x=numpy.linspace(-dx/2,1+dx/2,ni+1)\n",
    "y=numpy.linspace(-dy/2,1+dy/2,nj+1)\n",
    "xu=numpy.linspace(0,1+dx,ni+1)\n",
    "yu=numpy.linspace(-dy/2,1+dy/2,nj+1)\n",
    "xv=numpy.linspace(-dx/2,1+dx/2,ni+1)\n",
    "yv=numpy.linspace(0,1+dy,nj+1)\n",
    "\n",
    "X,Y=numpy.meshgrid(x,y)\n",
    "Xu,Yu=numpy.meshgrid(xu,yu)\n",
    "Xv,Yv=numpy.meshgrid(xv,yv)\n",
    "\n",
    "u0=numpy.zeros((nj+1,ni+1))\n",
    "v0=numpy.zeros((nj+1,ni+1))\n",
    "u0[-1,1:-3]=2.\n",
    "p0=numpy.zeros((nj+1,ni+1))\n",
    "omega0=numpy.zeros((nj+1,ni+1))\n",
    "\n",
    "u=u0.copy()\n",
    "v=v0.copy()\n",
    "p=p0.copy()\n",
    "omega=omega0.copy()\n",
    "G1=numpy.zeros((nj+1,ni+1))\n",
    "G2=numpy.zeros((nj+1,ni+1))\n",
    "w1=numpy.zeros((nj+1,ni+1))\n",
    "w2=numpy.zeros((nj+1,ni+1)) \n",
    "f=numpy.zeros((nj+1,ni+1))\n",
    "nt=0\n",
    "dt=1e-4\n",
    "while nt<1000:\n",
    "    uold=u.copy()\n",
    "    vold=v.copy()\n",
    "    pold=p.copy()\n",
    "    G1=Fc1(u,v,dx,dy)+Fv1(u,v,dx,dy)\n",
    "    G2=Fc2(u,v,dx,dy)+Fv2(u,v,dx,dy)\n",
    "    w1=u+dt*G1\n",
    "    w2=v+dt*G2\n",
    "    f[1:-1,1:-1]=1./dt*((w1[1:-1,1:-1]-w1[1:-1,:-2])/dx+(w2[1:-1,1:-1]-w2[:-2,1:-1])/dy)\n",
    "    p=poisson(f,1.85)\n",
    "    u,v=getuv(w1,w2,p,dx,dy,dt)\n",
    "    if nt%100==0:\n",
    "        print(difference(u,uold))\n",
    "    nt+=1"
   ]
  },
  {
   "cell_type": "code",
   "execution_count": null,
   "metadata": {
    "collapsed": true
   },
   "outputs": [],
   "source": [
    "psi=numpy.zeros((nj+1,ni+1))\n",
    "for j in range(1,nj+1):\n",
    "    for i in range(ni+1):\n",
    "        psi[j,i]=psi[j-1,i]+u[j,i]*dy"
   ]
  },
  {
   "cell_type": "code",
   "execution_count": null,
   "metadata": {
    "collapsed": true
   },
   "outputs": [],
   "source": [
    "uold=u.copy()\n",
    "vold=v.copy()\n",
    "pold=p.copy()\n",
    "G1=Fc1(u,v,dx,dy)+Fv1(u,v,dx,dy)\n",
    "G2=Fc2(u,v,dx,dy)+Fv2(u,v,dx,dy)\n",
    "w1=u+dt*G1\n",
    "w2=v+dt*G2\n",
    "f[1:-1,1:-1]=1./dt*((w1[1:-1,1:-1]-w1[1:-1,:-2])/dx+(w2[1:-1,1:-1]-w2[:-2,1:-1])/dy)\n",
    "\n"
   ]
  },
  {
   "cell_type": "code",
   "execution_count": null,
   "metadata": {
    "collapsed": false
   },
   "outputs": [],
   "source": [
    "pyplot.figure(figsize=(6.5,5))\n",
    "pyplot.contour(X,Y,psi,scale=13)\n",
    "pyplot.xlabel('$x$')\n",
    "pyplot.ylabel('$y$')\n",
    "pyplot.colorbar()"
   ]
  },
  {
   "cell_type": "code",
   "execution_count": null,
   "metadata": {
    "collapsed": false
   },
   "outputs": [],
   "source": [
    "u[-2,:]+u[-1,:]"
   ]
  },
  {
   "cell_type": "code",
   "execution_count": null,
   "metadata": {
    "collapsed": true
   },
   "outputs": [],
   "source": [
    "p=poisson(f,1.85)\n",
    "u,v=getuv(w1,w2,p,dx,dy,dt)\n",
    "if nt%1==0:\n",
    "    print(difference(u,uold))\n",
    "nt+=1"
   ]
  },
  {
   "cell_type": "code",
   "execution_count": null,
   "metadata": {
    "collapsed": true
   },
   "outputs": [],
   "source": [
    "omega[1:,1:]=(v[1:,1:]-v[1:,:-1])/dx-(u[1:,1:]-u[:-1,1:])/dy"
   ]
  },
  {
   "cell_type": "code",
   "execution_count": null,
   "metadata": {
    "collapsed": false
   },
   "outputs": [],
   "source": [
    "pyplot.figure(figsize=(6.5,5))\n",
    "pyplot.contour(X,Y,u,scale=13)\n",
    "pyplot.xlabel('$x$')\n",
    "pyplot.ylabel('$y$')\n",
    "pyplot.colorbar()"
   ]
  },
  {
   "cell_type": "code",
   "execution_count": null,
   "metadata": {
    "collapsed": true
   },
   "outputs": [],
   "source": [
    "def grid_p(ni,nj):\n",
    "    dx=2*pi/(ni-1)\n",
    "    dy=2*pi/(nj-1)\n",
    "    x=numpy.linspace(-dx/2,2*pi+dx/2,ni+1)\n",
    "    y=numpy.linspace(-dy/2,2*pi+dy/2,nj+1)\n",
    "    X,Y=numpy.meshgrid(x,y)\n",
    "    return X,Y\n",
    "\n",
    "def grid_u(ni,nj):\n",
    "    dx=2*pi/(ni-1)\n",
    "    dy=2*pi/(nj-1)\n",
    "    xu=numpy.linspace(0,2*pi+dx,ni+1)\n",
    "    yu=numpy.linspace(-dy/2,2*pi+dy/2,nj+1)\n",
    "    X,Y=numpy.meshgrid(xu,yu)\n",
    "    return X,Y\n",
    "\n",
    "def grid_v(ni,nj):\n",
    "    dx=2*pi/(ni-1)\n",
    "    dy=2*pi/(nj-1)\n",
    "    xv=numpy.linspace(-dx/2,2*pi+dx/2,ni+1)\n",
    "    yv=numpy.linspace(0,2*pi+dy,nj+1)\n",
    "    X,Y=numpy.meshgrid(xv,yv)\n",
    "    return X,Y"
   ]
  },
  {
   "cell_type": "code",
   "execution_count": null,
   "metadata": {
    "collapsed": true
   },
   "outputs": [],
   "source": [
    "@jit\n",
    "def RK3(ni,nj,dt):\n",
    "    T=2.\n",
    "    nt=int(T/dt)\n",
    "    t=0.\n",
    "    dx=1./(ni-1)\n",
    "    dy=1./(nj-1)\n",
    "    x=numpy.linspace(-dx/2,2*pi+dx/2,ni+1)\n",
    "    y=numpy.linspace(-dy/2,2*pi+dy/2,nj+1)\n",
    "    xu=numpy.linspace(0,2*pi+dx,ni+1)\n",
    "    yu=numpy.linspace(-dy/2,2*pi+dy/2,nj+1)\n",
    "    xv=numpy.linspace(-dx/2,2*pi+dx/2,ni+1)\n",
    "    yv=numpy.linspace(0,2*pi+dy,nj+1)\n",
    "\n",
    "    X,Y=numpy.meshgrid(x,y)\n",
    "    Xu,Yu=numpy.meshgrid(xu,yu)\n",
    "    Xv,Yv=numpy.meshgrid(xv,yv)\n",
    "\n",
    "    u0=numpy.zeros((nj+1,ni+1))\n",
    "    v0=numpy.zeros((nj+1,ni+1))\n",
    "    u0[-1,1:-3]=1.\n",
    "    p0=numpy.zeros((nj+1,ni+1))\n",
    "    omega0=numpy.zeros((nj+1,ni+1))\n",
    "\n",
    "    u=u0.copy()\n",
    "    v=v0.copy()\n",
    "    p=p0.copy()\n",
    "    omega=omega0.copy()\n",
    "    res=numpy.zeros((nj+1,ni+1))\n",
    "    nt=0\n",
    "    \n",
    "    while t<T:\n",
    "        G1=numpy.zeros((nj+1,ni+1))\n",
    "        G2=numpy.zeros((nj+1,ni+1))\n",
    "        w1=numpy.zeros((nj+1,ni+1))\n",
    "        w2=numpy.zeros((nj+1,ni+1)) \n",
    "        f=numpy.zeros((nj+1,ni+1))\n",
    "        uold=u.copy()\n",
    "        vold=v.copy()\n",
    "        pold=p.copy()\n",
    "        \n",
    "        #from t to t+dt/3\n",
    "        t+=dt/3\n",
    "        G1=Fc1(u,v,dx,dy)+Fv1(u,v,dx,dy)\n",
    "        G2=Fc2(u,v,dx,dy)+Fv2(u,v,dx,dy)\n",
    "        w1=u+dt/3*G1\n",
    "        w2=v+dt/3*G2\n",
    "        f[1:-1,1:-1]=3./dt*((w1[1:-1,1:-1]-w1[1:-1,:-2])/dx+(w2[1:-1,1:-1]-w2[:-2,1:-1])/dy)\n",
    "        p=poisson(f,1.99)\n",
    "        u,v=getuv(w1,w2,p,dx,dy,dt/3)\n",
    "        \n",
    "        #from t+dt/3 to t+3dt/4\n",
    "        t+=5./12*dt\n",
    "        G1=-5./9*G1+Fc1(u,v,dx,dy)+Fv1(u,v,dx,dy)\n",
    "        G2=-5./9*G2+Fc2(u,v,dx,dy)+Fv2(u,v,dx,dy)\n",
    "        w1=u+dt*15./16*G1\n",
    "        w2=v+dt*15./16*G2\n",
    "        f[1:-1,1:-1]=12./5/dt*((w1[1:-1,1:-1]-w1[1:-1,:-2])/dx+(w2[1:-1,1:-1]-w2[:-2,1:-1])/dy)        \n",
    "        p=poisson(f,1.99)\n",
    "        u,v=getuv(w1,w2,p,dx,dy,5.*dt/12)\n",
    "        \n",
    "        #from t+3dt/4 to t+dt\n",
    "        t+=dt/4\n",
    "        G1=-153./128*G1+Fc1(u,v,dx,dy)+Fv1(u,v,dx,dy)\n",
    "        G2=-153./128*G2+Fc2(u,v,dx,dy)+Fv2(u,v,dx,dy)\n",
    "        w1=u+dt*8./15*G1\n",
    "        w2=v+dt*8./15*G2\n",
    "        f[1:-1,1:-1]=4./dt*((w1[1:-1,1:-1]-w1[1:-1,:-2])/dx+(w2[1:-1,1:-1]-w2[:-2,1:-1])/dy)\n",
    "        p=poisson(f,1.99)\n",
    "        u,v=getuv(w1,w2,p,dx,dy,dt/4)\n",
    "        \n",
    "        if (nt)%200==0:\n",
    "            print(difference(u,uold),difference(v,vold),difference(p,pold))\n",
    "        nt+=1\n",
    "    \n",
    "    A=numpy.array([u,v,p])\n",
    "    return A"
   ]
  },
  {
   "cell_type": "code",
   "execution_count": null,
   "metadata": {
    "collapsed": false,
    "scrolled": false
   },
   "outputs": [],
   "source": [
    "A1_1=RK3(21,21,3e-4)"
   ]
  },
  {
   "cell_type": "code",
   "execution_count": null,
   "metadata": {
    "collapsed": true
   },
   "outputs": [],
   "source": []
  },
  {
   "cell_type": "code",
   "execution_count": null,
   "metadata": {
    "collapsed": true
   },
   "outputs": [],
   "source": []
  }
 ],
 "metadata": {
  "kernelspec": {
   "display_name": "Python 3",
   "language": "python",
   "name": "python3"
  },
  "language_info": {
   "codemirror_mode": {
    "name": "ipython",
    "version": 3
   },
   "file_extension": ".py",
   "mimetype": "text/x-python",
   "name": "python",
   "nbconvert_exporter": "python",
   "pygments_lexer": "ipython3",
   "version": "3.4.4"
  }
 },
 "nbformat": 4,
 "nbformat_minor": 0
}
