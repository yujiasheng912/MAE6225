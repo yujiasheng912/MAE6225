{
 "cells": [
  {
   "cell_type": "code",
   "execution_count": 1,
   "metadata": {
    "collapsed": true
   },
   "outputs": [],
   "source": [
    "from matplotlib import pyplot\n",
    "from math import pi\n",
    "import numpy\n",
    "%matplotlib inline\n",
    "from matplotlib import rcParams\n",
    "rcParams['font.family'] = 'serif'\n",
    "rcParams['font.size'] = 16\n",
    "import numba\n",
    "from numba import jit"
   ]
  },
  {
   "cell_type": "code",
   "execution_count": 2,
   "metadata": {
    "collapsed": true
   },
   "outputs": [],
   "source": [
    "def uex(t,X,Y):\n",
    "    return -numpy.exp(-2*t)*numpy.cos(X)*numpy.sin(Y)\n",
    "\n",
    "def vex(t,X,Y):\n",
    "    return numpy.exp(-2*t)*numpy.sin(X)*numpy.cos(Y)\n",
    "\n",
    "def pex(t,X,Y):\n",
    "    return -numpy.exp(-4*t)/4.*(numpy.cos(2*X)+numpy.cos(2*Y))"
   ]
  },
  {
   "cell_type": "code",
   "execution_count": 3,
   "metadata": {
    "collapsed": true
   },
   "outputs": [],
   "source": [
    "def Fc1(u,v,dx,dy):\n",
    "    F=numpy.zeros(numpy.shape(u))\n",
    "    F[1:-1,1:-1]=-((u[1:-1,1:-1]+u[1:-1,2:])**2-(u[1:-1,1:-1]+u[1:-1,:-2])**2)/(4*dx)-\\\n",
    "                ((u[1:-1,1:-1]+u[2:,1:-1])*(v[1:-1,2:]+v[1:-1,1:-1])-(u[1:-1,1:-1]+u[:-2,1:-1])*(v[:-2,2:]+v[:-2,1:-1]))/(4*dy)\n",
    "        \n",
    "    F[:,0]=F[:,-2]\n",
    "    F[:,-1]=F[:,1]\n",
    "    F[0,:]=F[-2,:]\n",
    "    F[-1,:]=F[-1,:]\n",
    "    return F"
   ]
  },
  {
   "cell_type": "code",
   "execution_count": 4,
   "metadata": {
    "collapsed": true
   },
   "outputs": [],
   "source": [
    "def Fv1(u,v,dx,dy):\n",
    "    F=numpy.zeros(numpy.shape(u))\n",
    "    F[1:-1,1:-1]=(u[1:-1,2:]-2*u[1:-1,1:-1]+u[1:-1,:-2])/dx**2+(u[2:,1:-1]-2*u[1:-1,1:-1]+u[:-2,1:-1])/dy**2\n",
    "    \n",
    "    F[:,0]=F[:,-2]\n",
    "    F[:,-1]=F[:,1]\n",
    "    F[0,:]=F[-2,:]\n",
    "    F[-1,:]=F[-1,:]\n",
    "    return F"
   ]
  },
  {
   "cell_type": "code",
   "execution_count": 5,
   "metadata": {
    "collapsed": true
   },
   "outputs": [],
   "source": [
    "def Fp1(p,dx,dy):\n",
    "    F=numpy.zeros(numpy.shape(p))\n",
    "    F[1:-1,1:-1]=-(p[1:-1,2:]-p[1:-1,1:-1])/dx\n",
    "    F[:,0]=F[:,-2]\n",
    "    F[:,-1]=F[:,1]\n",
    "    F[0,:]=F[-2,:]\n",
    "    F[-1,:]=F[-1,:]\n",
    "    return F"
   ]
  },
  {
   "cell_type": "code",
   "execution_count": 6,
   "metadata": {
    "collapsed": true
   },
   "outputs": [],
   "source": [
    "def Fc2(u,v,dx,dy):\n",
    "    F=numpy.zeros((numpy.shape(u)))\n",
    "    F[1:-1,1:-1]=-((u[2:,1:-1]+u[1:-1,1:-1])*(v[1:-1,1:-1]+v[1:-1,2:])-(u[2:,:-2]+u[1:-1,:-2])*(v[1:-1,1:-1]+v[1:-1,:-2]))/(4*dx)-\\\n",
    "                 ((v[1:-1,1:-1]+[v[2:,1:-1]])**2-(v[1:-1,1:-1]+v[:-2,1:-1])**2)/(4*dy)\n",
    "        \n",
    "    F[:,0]=F[:,-2]\n",
    "    F[:,-1]=F[:,1]\n",
    "    F[0,:]=F[-2,:]\n",
    "    F[-1,:]=F[-1,:]\n",
    "    return F"
   ]
  },
  {
   "cell_type": "code",
   "execution_count": 7,
   "metadata": {
    "collapsed": true
   },
   "outputs": [],
   "source": [
    "def Fv2(u,v,dx,dy):\n",
    "    F=numpy.zeros((numpy.shape(u)))\n",
    "    F[1:-1,1:-1]=(v[1:-1,2:]-2*v[1:-1,1:-1]+v[1:-1,:-2])/dx**2+(v[2:,1:-1]-2*v[1:-1,1:-1]+v[:-2,1:-1])/dy**2\n",
    "        \n",
    "    F[:,0]=F[:,-2]\n",
    "    F[:,-1]=F[:,1]\n",
    "    F[0,:]=F[-2,:]\n",
    "    F[-1,:]=F[-1,:]\n",
    "    return F"
   ]
  },
  {
   "cell_type": "code",
   "execution_count": 8,
   "metadata": {
    "collapsed": true
   },
   "outputs": [],
   "source": [
    "def Fp2(p,dx,dy):\n",
    "    F=numpy.zeros((numpy.shape(p)))\n",
    "    F[1:-1,1:-1]=-(p[2:,1:-1]-p[1:-1,1:-1])/dy\n",
    "        \n",
    "    F[:,0]=F[:,-2]\n",
    "    F[:,-1]=F[:,1]\n",
    "    F[0,:]=F[-2,:]\n",
    "    F[-1,:]=F[-1,:]\n",
    "    return F"
   ]
  },
  {
   "cell_type": "code",
   "execution_count": 9,
   "metadata": {
    "collapsed": true
   },
   "outputs": [],
   "source": [
    "@jit\n",
    "def poisson(f,res_target,omega):\n",
    "    nj,ni=numpy.shape(f)-numpy.array((1,1))\n",
    "    dx=2*pi/(ni-1)\n",
    "    dy=2*pi/(nj-1)\n",
    "    x=numpy.linspace(-dx/2,2*pi+dx/2,ni+1)\n",
    "    y=numpy.linspace(-dy/2,2*pi+dy/2,nj+1)\n",
    "    X,Y=numpy.meshgrid(x,y)\n",
    "    \n",
    "    p=numpy.zeros(numpy.shape(f))\n",
    "    res=numpy.zeros(numpy.shape(f))\n",
    "    \n",
    "    res_max=1e3\n",
    "    n=0\n",
    "    while res_max>res_target:\n",
    "        \n",
    "        for j in range(1,nj):\n",
    "            for i in range(1,ni):\n",
    "                p[j,i]=omega/(2*(dx**2+dy**2))*((p[j,i-1]+p[j,i+1])*dy**2+\\\n",
    "                       (p[j-1,i]+p[j+1,i])*dx**2-f[j,i]*dx**2*dy**2)+\\\n",
    "                       (1-omega)*p[j,i]\n",
    "        p[0,:]=p[1,:]\n",
    "        p[-1,:]=p[-2,:]\n",
    "        p[:,0]=p[:,1]\n",
    "        p[:,-1]=p[:,-2]\n",
    "        n+=1\n",
    "        \n",
    "        for j in range(1,nj):\n",
    "            for i in range(1,ni):\n",
    "                res[j,i]=numpy.abs(f[j,i]-(p[j,i-1]-2*p[j,i]+p[j,i+1])/dx**2-\\\n",
    "                                  (p[j-1,i]-2*p[j,i]+p[j+1,i])/dy**2)\n",
    "        res_max=numpy.max(res)\n",
    "    \n",
    "    return p"
   ]
  },
  {
   "cell_type": "code",
   "execution_count": 10,
   "metadata": {
    "collapsed": true
   },
   "outputs": [],
   "source": [
    "@jit\n",
    "def getuv(w1,w2,p,dx,dy,dt):\n",
    "    u=w1+Fp1(p,dx,dy)*dt\n",
    "    v=w2+Fp2(p,dx,dy)*dt\n",
    "    \n",
    "    u[0,:]=-u[1,:]\n",
    "    u[-1,:]=-u[-2,:]\n",
    "    u[:,0]=u[:,-2]\n",
    "    u[:,-1]=u[:,1]\n",
    "\n",
    "    v[0,:]=v[-2,:]\n",
    "    v[-1,:]=v[1,:]\n",
    "    v[:,0]=-v[:,1]\n",
    "    v[:,-1]=-v[:,-2]\n",
    "    return u,v"
   ]
  },
  {
   "cell_type": "code",
   "execution_count": 11,
   "metadata": {
    "collapsed": true
   },
   "outputs": [],
   "source": [
    "@jit\n",
    "def error(p,p_ex):\n",
    "    nj,ni=numpy.shape(p)-numpy.array((1,1))\n",
    "    err=numpy.zeros(numpy.shape(p))\n",
    "    for j in range(nj+1):\n",
    "        for i in range(ni+1):\n",
    "            err[j,i]=numpy.abs(p[j,i]-p_ex[j,i])\n",
    "    err_max=numpy.mean(err[2:-2,2:-2])\n",
    "    return err_max"
   ]
  },
  {
   "cell_type": "code",
   "execution_count": 12,
   "metadata": {
    "collapsed": false
   },
   "outputs": [],
   "source": [
    "@jit\n",
    "def RK3(ni,nj,dt):\n",
    "    T=2.\n",
    "    t=0.\n",
    "    dx=2.*pi/(ni-1)\n",
    "    dy=2.*pi/(nj-1)\n",
    "    x=numpy.linspace(-dx/2,2*pi+dx/2,ni+1)\n",
    "    y=numpy.linspace(-dy/2,2*pi+dy/2,nj+1)\n",
    "    xu=numpy.linspace(0,2*pi+dx,ni+1)\n",
    "    yu=numpy.linspace(-dy/2,2*pi+dy/2,nj+1)\n",
    "    xv=numpy.linspace(-dx/2,2*pi+dx/2,ni+1)\n",
    "    yv=numpy.linspace(0,2*pi+dy,nj+1)\n",
    "\n",
    "    X,Y=numpy.meshgrid(x,y)\n",
    "    Xu,Yu=numpy.meshgrid(xu,yu)\n",
    "    Xv,Yv=numpy.meshgrid(xv,yv)\n",
    "\n",
    "    u0=uex(0,Xu,Yu)\n",
    "    v0=vex(0,Xv,Yv)\n",
    "    p0=pex(0,X,Y)\n",
    "            \n",
    "    u=u0.copy()\n",
    "    v=v0.copy()\n",
    "    p=p0.copy()\n",
    "    res=numpy.zeros((nj+1,ni+1))\n",
    "    nt=0\n",
    "    \n",
    "    while t<T:\n",
    "        G1=numpy.zeros((nj+1,ni+1))\n",
    "        G2=numpy.zeros((nj+1,ni+1))\n",
    "        w1=numpy.zeros((nj+1,ni+1))\n",
    "        w2=numpy.zeros((nj+1,ni+1)) \n",
    "        f=numpy.zeros((nj+1,ni+1))\n",
    "        \n",
    "        #from t to t+dt/3\n",
    "        #t+=dt/3\n",
    "        G1=Fc1(u,v,dx,dy)+Fv1(u,v,dx,dy)\n",
    "        G2=Fc2(u,v,dx,dy)+Fv2(u,v,dx,dy)\n",
    "        w1=u+dt/3*G1\n",
    "        w2=v+dt/3*G2\n",
    "        f[1:-1,1:-1]=3./dt*((w1[1:-1,1:-1]-w1[1:-1,:-2])/dx+(w2[1:-1,1:-1]-w2[:-2,1:-1])/dy)\n",
    "        p=poisson(f,1e-6,1.99)\n",
    "        u,v=getuv(w1,w2,p,dx,dy,dt/3)\n",
    "        \n",
    "        #from t+dt/3 to t+3dt/4\n",
    "        #t+=5/12*dt\n",
    "        G1=-5./9*G1+Fc1(u,v,dx,dy)+Fv1(u,v,dx,dy)\n",
    "        G2=-5./9*G2+Fc2(u,v,dx,dy)+Fv2(u,v,dx,dy)\n",
    "        w1=u+dt*15./16*G1\n",
    "        w2=v+dt*15./16*G2\n",
    "        f[1:-1,1:-1]=12./5/dt*((w1[1:-1,1:-1]-w1[1:-1,:-2])/dx+(w2[1:-1,1:-1]-w2[:-2,1:-1])/dy)        \n",
    "        p=poisson(f,1e-6,1.99)\n",
    "        u,v=getuv(w1,w2,p,dx,dy,5.*dt/12)\n",
    "        \n",
    "        #from t+3dt/4 to t+dt\n",
    "        #t+=dt/4\n",
    "        G1=-153./128*G1+Fc1(u,v,dx,dy)+Fv1(u,v,dx,dy)\n",
    "        G2=-153./128*G2+Fc2(u,v,dx,dy)+Fv2(u,v,dx,dy)\n",
    "        w1=u+dt*8./15*G1\n",
    "        w2=v+dt*8./15*G2\n",
    "        f[1:-1,1:-1]=4./dt*((w1[1:-1,1:-1]-w1[1:-1,:-2])/dx+(w2[1:-1,1:-1]-w2[:-2,1:-1])/dy)\n",
    "        p=poisson(f,1e-6,1.99)\n",
    "        u,v=getuv(w1,w2,p,dx,dy,dt/4)\n",
    "        \n",
    "        \n",
    "        if (int(t*10000))%1000==0:\n",
    "            print(int(t/dt),error(u,uex(t,Xu,Yu)),error(v,vex(t,Xv,Yv)),error(p,pex(t,X,Y)))\n",
    "        nt+=1\n",
    "        t+=dt\n",
    "        \n",
    "    A=numpy.array([u,v,p])\n",
    "    return A"
   ]
  },
  {
   "cell_type": "code",
   "execution_count": 13,
   "metadata": {
    "collapsed": true
   },
   "outputs": [],
   "source": [
    "def grid_p(ni,nj):\n",
    "    dx=2*pi/(ni-1)\n",
    "    dy=2*pi/(nj-1)\n",
    "    x=numpy.linspace(-dx/2,2*pi+dx/2,ni+1)\n",
    "    y=numpy.linspace(-dy/2,2*pi+dy/2,nj+1)\n",
    "    X,Y=numpy.meshgrid(x,y)\n",
    "    return X,Y\n",
    "\n",
    "def grid_u(ni,nj):\n",
    "    dx=2*pi/(ni-1)\n",
    "    dy=2*pi/(nj-1)\n",
    "    xu=numpy.linspace(0,2*pi+dx,ni+1)\n",
    "    yu=numpy.linspace(-dy/2,2*pi+dy/2,nj+1)\n",
    "    X,Y=numpy.meshgrid(xu,yu)\n",
    "    return X,Y\n",
    "\n",
    "def grid_v(ni,nj):\n",
    "    dx=2*pi/(ni-1)\n",
    "    dy=2*pi/(nj-1)\n",
    "    xv=numpy.linspace(-dx/2,2*pi+dx/2,ni+1)\n",
    "    yv=numpy.linspace(0,2*pi+dy,nj+1)\n",
    "    X,Y=numpy.meshgrid(xv,yv)\n",
    "    return X,Y"
   ]
  },
  {
   "cell_type": "code",
   "execution_count": 14,
   "metadata": {
    "collapsed": true
   },
   "outputs": [],
   "source": [
    "X,Y=grid_p(41,41)\n",
    "Xu,Yu=grid_u(41,41)\n",
    "Xv,Yv=grid_v(41,41)"
   ]
  },
  {
   "cell_type": "code",
   "execution_count": 15,
   "metadata": {
    "collapsed": false
   },
   "outputs": [
    {
     "name": "stdout",
     "output_type": "stream",
     "text": [
      "0 0.000327971193168 0.000327971193166 0.203895299316\n",
      "500 6.45586352476e-06 6.45586352558e-06 0.0917859768869\n",
      "750 9.79827382585e-05 9.79827382599e-05 0.0615829986216\n",
      "1000 0.000156146658284 0.000156146658283 0.0413185704494\n",
      "1250 0.000190029896068 0.000190029896064 0.0277223281944\n",
      "u error=5.605626254361603e-05\n",
      "v error=5.605626271830215e-05\n",
      "p error=6.967921329384435e-05\n"
     ]
    }
   ],
   "source": [
    "A1_1=RK3(41,41,4e-4)\n",
    "u_err=error(A1_1[0],uex(2,Xu,Yu))\n",
    "v_err=error(A1_1[1],vex(2,Xv,Yv))\n",
    "p_err=error(A1_1[2],pex(2,X,Y))\n",
    "    \n",
    "print('u error={}'.format(u_err))\n",
    "print('v error={}'.format(v_err))\n",
    "print('p error={}'.format(p_err))"
   ]
  },
  {
   "cell_type": "code",
   "execution_count": 16,
   "metadata": {
    "collapsed": false
   },
   "outputs": [
    {
     "name": "stdout",
     "output_type": "stream",
     "text": [
      "0 0.000164018326319 0.000164018326318 0.204032865582\n",
      "500 3.94258291704e-06 3.94258291629e-06 0.136894083975\n",
      "1000 0.000116447111441 0.000116447111442 0.0918478910727\n",
      "u error=5.908394342001041e-05\n",
      "v error=5.9083943506728404e-05\n",
      "p error=6.972625659109767e-05\n"
     ]
    }
   ],
   "source": [
    "A1_2=RK3(41,41,2e-4)\n",
    "u_err=error(A1_2[0],uex(2,Xu,Yu))\n",
    "v_err=error(A1_2[1],vex(2,Xv,Yv))\n",
    "p_err=error(A1_2[2],pex(2,X,Y))\n",
    "    \n",
    "print('u error={}'.format(u_err))\n",
    "print('v error={}'.format(v_err))\n",
    "print('p error={}'.format(p_err))"
   ]
  },
  {
   "cell_type": "code",
   "execution_count": 17,
   "metadata": {
    "collapsed": false
   },
   "outputs": [
    {
     "name": "stdout",
     "output_type": "stream",
     "text": [
      "0 8.2017347227e-05 8.20173472264e-05 0.204101710572\n",
      "1000 7.11068982442e-05 7.11068982439e-05 0.136940270093\n",
      "2000 0.000171538155633 0.000171538155633 0.0918422168783\n",
      "3000 0.000233177698548 0.000233177698549 0.0616207258239\n",
      "4000 0.000266865244428 0.000266865244428 0.0413438788229\n",
      "5000 0.000280703437099 0.000280703437098 0.0277393056922\n",
      "6000 0.000280776883394 0.000280776883394 0.0186114372429\n",
      "7000 0.000271617343395 0.000271617343394 0.0124871749391\n",
      "8000 0.000256566614438 0.00025656661444 0.00837815591056\n",
      "9000 0.000238058907457 0.000238058907456 0.0056212466045\n",
      "10000 0.000217839973835 0.000217839973834 0.00377152331474\n",
      "11000 0.00019713663066 0.00019713663066 0.00253046837231\n",
      "12000 0.000176787463462 0.000176787463462 0.00169779397969\n",
      "13000 0.000157343207848 0.000157343207845 0.00113911880929\n",
      "14000 0.000139143505754 0.000139143505753 0.000764280925415\n",
      "15000 0.000122375301287 0.000122375301266 0.000512787041097\n",
      "16000 0.000107117008649 0.00010711700866 0.000344049513233\n",
      "17000 9.33716907329e-05 9.33716907844e-05 0.000230837244893\n",
      "18000 8.10917795566e-05 8.10917797526e-05 0.000154878091089\n",
      "19000 7.01973146377e-05 7.01973148982e-05 0.000103915787169\n",
      "u error=6.0598236926571506e-05\n",
      "v error=6.059823697043974e-05\n",
      "p error=6.974979945718546e-05\n"
     ]
    }
   ],
   "source": [
    "A1_3=RK3(41,41,1e-4)\n",
    "u_err=error(A1_3[0],uex(2,Xu,Yu))\n",
    "v_err=error(A1_3[1],vex(2,Xv,Yv))\n",
    "p_err=error(A1_3[2],pex(2,X,Y))\n",
    "    \n",
    "print('u error={}'.format(u_err))\n",
    "print('v error={}'.format(v_err))\n",
    "print('p error={}'.format(p_err))"
   ]
  },
  {
   "cell_type": "code",
   "execution_count": 18,
   "metadata": {
    "collapsed": true
   },
   "outputs": [],
   "source": [
    "X,Y=grid_p(81,81)\n",
    "Xu,Yu=grid_u(81,81)\n",
    "Xv,Yv=grid_v(81,81)"
   ]
  },
  {
   "cell_type": "code",
   "execution_count": 19,
   "metadata": {
    "collapsed": false
   },
   "outputs": [
    {
     "name": "stdout",
     "output_type": "stream",
     "text": [
      "0 0.000326800083967 0.000326800083967 0.177244116611\n",
      "500 0.000162756831393 0.000162756831388 0.0796760280034\n",
      "750 0.000110201636404 0.000110201636385 0.0534202108057\n",
      "1000 7.13498307773e-05 7.13498307162e-05 0.0358165308945\n",
      "1250 4.29606468734e-05 4.29606467713e-05 0.0240138305961\n",
      "u error=9.412989543689925e-06\n",
      "v error=9.412995787303639e-06\n",
      "p error=5.972293066109929e-05\n"
     ]
    }
   ],
   "source": [
    "A2_1=RK3(81,81,4e-4)\n",
    "u_err=error(A2_1[0],uex(2,Xu,Yu))\n",
    "v_err=error(A2_1[1],vex(2,Xv,Yv))\n",
    "p_err=error(A2_1[2],pex(2,X,Y))\n",
    "    \n",
    "print('u error={}'.format(u_err))\n",
    "print('v error={}'.format(v_err))\n",
    "print('p error={}'.format(p_err))"
   ]
  },
  {
   "cell_type": "code",
   "execution_count": 20,
   "metadata": {
    "collapsed": false,
    "scrolled": true
   },
   "outputs": [
    {
     "name": "stdout",
     "output_type": "stream",
     "text": [
      "0 0.000163432705193 0.000163432705193 0.177358004581\n",
      "500 9.94105807708e-05 9.94105807705e-05 0.11891282978\n",
      "1000 5.32258860339e-05 5.32258860314e-05 0.0797272222136\n",
      "u error=1.241132428947986e-05\n",
      "v error=1.241132741104864e-05\n",
      "p error=5.9761521850812196e-05\n"
     ]
    }
   ],
   "source": [
    "A2_2=RK3(81,81,2e-4)\n",
    "u_err=error(A2_2[0],uex(2,Xu,Yu))\n",
    "v_err=error(A2_2[1],vex(2,Xv,Yv))\n",
    "p_err=error(A2_2[2],pex(2,X,Y))\n",
    "    \n",
    "print('u error={}'.format(u_err))\n",
    "print('v error={}'.format(v_err))\n",
    "print('p error={}'.format(p_err))"
   ]
  },
  {
   "cell_type": "code",
   "execution_count": 21,
   "metadata": {
    "collapsed": false
   },
   "outputs": [
    {
     "name": "stdout",
     "output_type": "stream",
     "text": [
      "0 8.17245200317e-05 8.17245200318e-05 0.177414999849\n",
      "1000 3.25067001322e-05 3.25067001321e-05 0.118951042707\n",
      "2000 1.58386415357e-06 1.5838641547e-06 0.0797209651812\n",
      "3000 2.43583640334e-05 2.43583640375e-05 0.0534503389885\n",
      "4000 3.882612842e-05 3.88261284342e-05 0.0358367303818\n",
      "5000 4.72499802319e-05 4.72499802552e-05 0.0240273734262\n",
      "6000 5.13453928839e-05 5.13453929377e-05 0.0161095803008\n",
      "7000 5.24045609822e-05 5.24045611408e-05 0.0108009557712\n",
      "8000 5.13934776774e-05 5.13934780145e-05 0.00724169334668\n",
      "9000 4.9027728056e-05 4.90277284702e-05 0.00485532305013\n",
      "10000 4.58315239796e-05 4.58315246653e-05 0.00325533807961\n",
      "11000 4.21835663776e-05 4.21835671506e-05 0.00218259999352\n",
      "12000 3.83525690807e-05 3.83525699264e-05 0.00146336351975\n",
      "13000 3.45246864961e-05 3.45246874376e-05 0.000981138792002\n",
      "14000 3.08246122406e-05 3.08246132754e-05 0.000657822680857\n",
      "15000 2.73317418486e-05 2.73317430133e-05 0.000441049493912\n",
      "16000 2.40924960028e-05 2.40924972408e-05 0.00029571003077\n",
      "17000 2.11296647299e-05 2.11296659904e-05 0.000198264742929\n",
      "18000 1.84494478124e-05 1.84494491417e-05 0.000132930848657\n",
      "19000 1.60467195664e-05 1.60467210077e-05 8.91268973771e-05\n",
      "u error=1.3910941031736632e-05\n",
      "v error=1.3910942592422947e-05\n",
      "p error=5.978083505863146e-05\n"
     ]
    }
   ],
   "source": [
    "A2_3=RK3(81,81,1e-4)\n",
    "u_err=error(A2_3[0],uex(2,Xu,Yu))\n",
    "v_err=error(A2_3[1],vex(2,Xv,Yv))\n",
    "p_err=error(A2_3[2],pex(2,X,Y))\n",
    "    \n",
    "print('u error={}'.format(u_err))\n",
    "print('v error={}'.format(v_err))\n",
    "print('p error={}'.format(p_err))"
   ]
  },
  {
   "cell_type": "code",
   "execution_count": null,
   "metadata": {
    "collapsed": false
   },
   "outputs": [],
   "source": [
    "X,Y=grid_p(121,121)\n",
    "Xu,Yu=grid_u(121,121)\n",
    "Xv,Yv=grid_v(121,121)"
   ]
  },
  {
   "cell_type": "code",
   "execution_count": null,
   "metadata": {
    "collapsed": false
   },
   "outputs": [],
   "source": [
    "A3_1=RK3(121,121,4e-4)\n",
    "u_err=error(A3_1[0],uex(2,Xu,Yu))\n",
    "v_err=error(A3_1[1],vex(2,Xv,Yv))\n",
    "p_err=error(A3_1[2],pex(2,X,Y))\n",
    "    \n",
    "print('u error={}'.format(u_err))\n",
    "print('v error={}'.format(v_err))\n",
    "print('p error={}'.format(p_err))"
   ]
  },
  {
   "cell_type": "code",
   "execution_count": null,
   "metadata": {
    "collapsed": false
   },
   "outputs": [],
   "source": [
    "A3_2=RK3(121,121,2e-4)\n",
    "u_err=error(A3_2[0],uex(2,Xu,Yu))\n",
    "v_err=error(A3_2[1],vex(2,Xv,Yv))\n",
    "p_err=error(A3_2[2],pex(2,X,Y))\n",
    "    \n",
    "print('u error={}'.format(u_err))\n",
    "print('v error={}'.format(v_err))\n",
    "print('p error={}'.format(p_err))"
   ]
  },
  {
   "cell_type": "code",
   "execution_count": null,
   "metadata": {
    "collapsed": false,
    "scrolled": false
   },
   "outputs": [],
   "source": [
    "A3_2=RK3(121,121,1e-4)\n",
    "u_err=error(A3_2[0],uex(2,Xu,Yu))\n",
    "v_err=error(A3_2[1],vex(2,Xv,Yv))\n",
    "p_err=error(A3_2[2],pex(2,X,Y))\n",
    "    \n",
    "print('u error={}'.format(u_err))\n",
    "print('v error={}'.format(v_err))\n",
    "print('p error={}'.format(p_err))"
   ]
  },
  {
   "cell_type": "code",
   "execution_count": null,
   "metadata": {
    "collapsed": false
   },
   "outputs": [],
   "source": [
    "pyplot.figure(figsize=(14,5))\n",
    "pyplot.subplot(121)\n",
    "pyplot.contour(Xu,Yu,A3_3[0],10)\n",
    "pyplot.colorbar()\n",
    "pyplot.xlabel('$x$')\n",
    "pyplot.ylabel('$y$')\n",
    "pyplot.title('$u$ velocity')\n",
    "\n",
    "pyplot.subplot(122)\n",
    "pyplot.contour(Xv,Yv,A3_3[1],10)\n",
    "pyplot.colorbar()\n",
    "pyplot.xlabel('$x$')\n",
    "pyplot.ylabel('$y$')\n",
    "pyplot.title('$v$ velocity');"
   ]
  },
  {
   "cell_type": "code",
   "execution_count": null,
   "metadata": {
    "collapsed": false
   },
   "outputs": [],
   "source": [
    "pyplot.figure(figsize=(6.5,5))\n",
    "pyplot.contour(X,Y,A3_3[2],10)\n",
    "pyplot.colorbar()\n",
    "pyplot.xlabel('$x$')\n",
    "pyplot.ylabel('$y$')\n",
    "pyplot.title('$p$ pressure');"
   ]
  },
  {
   "cell_type": "code",
   "execution_count": null,
   "metadata": {
    "collapsed": true
   },
   "outputs": [],
   "source": []
  }
 ],
 "metadata": {
  "kernelspec": {
   "display_name": "Python 3",
   "language": "python",
   "name": "python3"
  },
  "language_info": {
   "codemirror_mode": {
    "name": "ipython",
    "version": 3
   },
   "file_extension": ".py",
   "mimetype": "text/x-python",
   "name": "python",
   "nbconvert_exporter": "python",
   "pygments_lexer": "ipython3",
   "version": "3.4.4"
  }
 },
 "nbformat": 4,
 "nbformat_minor": 0
}
