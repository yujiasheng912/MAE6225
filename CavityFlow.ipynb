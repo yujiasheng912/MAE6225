{
 "cells": [
  {
   "cell_type": "code",
   "execution_count": 1,
   "metadata": {
    "collapsed": true
   },
   "outputs": [],
   "source": [
    "from matplotlib import pyplot\n",
    "from math import pi\n",
    "import numpy\n",
    "%matplotlib inline\n",
    "from matplotlib import rcParams\n",
    "rcParams['font.family'] = 'serif'\n",
    "rcParams['font.size'] = 16\n",
    "import numba\n",
    "from numba import jit"
   ]
  },
  {
   "cell_type": "code",
   "execution_count": 2,
   "metadata": {
    "collapsed": true
   },
   "outputs": [],
   "source": [
    "@jit\n",
    "def Fc1(u,v,dx,dy):\n",
    "    F=numpy.zeros(numpy.shape(u))\n",
    "    F[1:-1,1:-1]=-((u[1:-1,1:-1]+u[1:-1,2:])**2-(u[1:-1,1:-1]+u[1:-1,:-2])**2)/(4*dx)-\\\n",
    "                  ((u[1:-1,1:-1]+u[2:,1:-1])*(v[1:-1,2:]+v[1:-1,1:-1])-\\\n",
    "                  (u[1:-1,1:-1]+u[:-2,1:-1])*(v[:-2,2:]+v[:-2,1:-1]))/(4*dy)\n",
    "        \n",
    "    F[:,0]=-F[:,1]\n",
    "    F[:,-1]=-F[:,-2]\n",
    "    F[0,:]=-F[1,:]\n",
    "    F[-1,:]=-F[-2,:]\n",
    "    return F"
   ]
  },
  {
   "cell_type": "code",
   "execution_count": 3,
   "metadata": {
    "collapsed": true
   },
   "outputs": [],
   "source": [
    "@jit\n",
    "def Fv1(u,v,dx,dy):\n",
    "    F=numpy.zeros(numpy.shape(u))\n",
    "    F[1:-1,1:-1]=((u[1:-1,2:]-2*u[1:-1,1:-1]+u[1:-1,:-2])/dx**2+\\\n",
    "                 (u[2:,1:-1]-2*u[1:-1,1:-1]+u[:-2,1:-1])/dy**2)/100\n",
    "    \n",
    "    F[:,0]=-F[:,1]\n",
    "    F[:,-1]=-F[:,-2]\n",
    "    F[0,:]=-F[1,:]\n",
    "    F[-1,:]=-F[-2,:]\n",
    "    return F"
   ]
  },
  {
   "cell_type": "code",
   "execution_count": 4,
   "metadata": {
    "collapsed": true
   },
   "outputs": [],
   "source": [
    "@jit\n",
    "def Fp1(p,dx,dy):\n",
    "    F=numpy.zeros(numpy.shape(p))\n",
    "    F[1:-1,1:-1]=-(p[1:-1,2:]-p[1:-1,1:-1])/dx\n",
    "    F[:,0]=-F[:,1]\n",
    "    F[:,-1]=-F[:,-2]\n",
    "    F[0,:]=-F[1,:]\n",
    "    F[-1,:]=-F[-2,:]\n",
    "    return F"
   ]
  },
  {
   "cell_type": "code",
   "execution_count": 5,
   "metadata": {
    "collapsed": true
   },
   "outputs": [],
   "source": [
    "@jit\n",
    "def Fc2(u,v,dx,dy):\n",
    "    F=numpy.zeros((numpy.shape(u)))\n",
    "    F[1:-1,1:-1]=-((u[2:,1:-1]+u[1:-1,1:-1])*(v[1:-1,1:-1]+v[1:-1,2:])-\\\n",
    "                   (u[2:,:-2]+u[1:-1,:-2])*(v[1:-1,1:-1]+v[1:-1,:-2]))/(4*dx)-\\\n",
    "                  ((v[1:-1,1:-1]+[v[2:,1:-1]])**2-(v[1:-1,1:-1]+v[:-2,1:-1])**2)/(4*dy)\n",
    "        \n",
    "    F[:,0]=-F[:,1]\n",
    "    F[:,-1]=-F[:,-2]\n",
    "    F[0,:]=-F[1,:]\n",
    "    F[-1,:]=-F[-2,:]\n",
    "    return F"
   ]
  },
  {
   "cell_type": "code",
   "execution_count": 6,
   "metadata": {
    "collapsed": true
   },
   "outputs": [],
   "source": [
    "@jit\n",
    "def Fv2(u,v,dx,dy):\n",
    "    F=numpy.zeros((numpy.shape(u)))\n",
    "    F[1:-1,1:-1]=((v[1:-1,2:]-2*v[1:-1,1:-1]+v[1:-1,:-2])/dx**2+\\\n",
    "                 (v[2:,1:-1]-2*v[1:-1,1:-1]+v[:-2,1:-1])/dy**2)/100\n",
    "        \n",
    "    F[:,0]=-F[:,1]\n",
    "    F[:,-1]=-F[:,-2]\n",
    "    F[0,:]=-F[1,:]\n",
    "    F[-1,:]=-F[-2,:]\n",
    "    return F"
   ]
  },
  {
   "cell_type": "code",
   "execution_count": 7,
   "metadata": {
    "collapsed": true
   },
   "outputs": [],
   "source": [
    "@jit\n",
    "def Fp2(p,dx,dy):\n",
    "    F=numpy.zeros((numpy.shape(p)))\n",
    "    F[1:-1,1:-1]=-(p[2:,1:-1]-p[1:-1,1:-1])/dy\n",
    "        \n",
    "    F[:,0]=-F[:,1]\n",
    "    F[:,-1]=-F[:,-2]\n",
    "    F[0,:]=-F[1,:]\n",
    "    F[-1,:]=-F[-2,:]\n",
    "    return F"
   ]
  },
  {
   "cell_type": "code",
   "execution_count": 8,
   "metadata": {
    "collapsed": true
   },
   "outputs": [],
   "source": [
    "@jit\n",
    "def poisson(f,omega):\n",
    "    nj,ni=numpy.shape(f)-numpy.array((1,1))\n",
    "    dx=1./(ni-1)\n",
    "    dy=1./(nj-1)\n",
    "    x=numpy.linspace(-dx/2,1+dx/2,ni+1)\n",
    "    y=numpy.linspace(-dy/2,1+dy/2,nj+1)\n",
    "    X,Y=numpy.meshgrid(x,y)\n",
    "    p=numpy.zeros(numpy.shape(f))\n",
    "    res=numpy.zeros(numpy.shape(f))\n",
    "    \n",
    "    res_max=1e3\n",
    "    \n",
    "    while res_max>1e-6:\n",
    "        \n",
    "        for j in range(1,nj):\n",
    "            for i in range(1,ni):\n",
    "                p[j,i]=omega/(2*(dx**2+dy**2))*((p[j,i-1]+p[j,i+1])*dy**2+\\\n",
    "                       (p[j-1,i]+p[j+1,i])*dx**2-f[j,i]*dx**2*dy**2)+\\\n",
    "                       (1-omega)*p[j,i]\n",
    "        p[0,:]=-p[1,:]\n",
    "        p[-1,:]=-p[-2,:]\n",
    "        p[:,0]=-p[:,1]\n",
    "        p[:,-1]=-p[:,-2]\n",
    "        \n",
    "        for j in range(1,nj):\n",
    "            for i in range(1,ni):\n",
    "                res[j,i]=numpy.abs(f[j,i]-(p[j,i-1]-2*p[j,i]+p[j,i+1])/dx**2-\\\n",
    "                                  (p[j-1,i]-2*p[j,i]+p[j+1,i])/dy**2)\n",
    "        res_max=numpy.max(res)\n",
    "    \n",
    "    return p"
   ]
  },
  {
   "cell_type": "code",
   "execution_count": 9,
   "metadata": {
    "collapsed": true
   },
   "outputs": [],
   "source": [
    "@jit\n",
    "def getuv(w1,w2,p,dx,dy,dt):\n",
    "    u=w1+Fp1(p,dx,dy)*dt\n",
    "    v=w2+Fp2(p,dx,dy)*dt\n",
    "    \n",
    "    u[0,:]=-u[1,:]\n",
    "    u[-1,:]=2-u[-2,:]\n",
    "    u[:,0]=0\n",
    "    u[:,-2]=0\n",
    "    u[:,-1]=-u[:,-3]\n",
    "\n",
    "    v[:,0]=-v[:,1]\n",
    "    v[:,-1]=-v[:,-2]\n",
    "    v[0,:]=0\n",
    "    v[-2,:]=0\n",
    "    v[-1,:]=-v[-3,:]\n",
    "    \n",
    "    return u,v"
   ]
  },
  {
   "cell_type": "code",
   "execution_count": 10,
   "metadata": {
    "collapsed": true
   },
   "outputs": [],
   "source": [
    "@jit\n",
    "def difference(p,pold):\n",
    "    nj,ni=numpy.shape(p)-numpy.array((1,1))\n",
    "    diff=numpy.zeros(numpy.shape(p))\n",
    "    for j in range(nj+1):\n",
    "        for i in range(ni+1):\n",
    "            diff[j,i]=numpy.abs(p[j,i]-pold[j,i])\n",
    "    diff_max=numpy.max(diff)\n",
    "    return diff_max"
   ]
  },
  {
   "cell_type": "code",
   "execution_count": 11,
   "metadata": {
    "collapsed": true
   },
   "outputs": [],
   "source": [
    "def grid_p(ni,nj):\n",
    "    dx=1./(ni-1)\n",
    "    dy=1./(nj-1)\n",
    "    x=numpy.linspace(-dx/2,1+dx/2,ni+1)\n",
    "    y=numpy.linspace(-dy/2,1+dy/2,nj+1)\n",
    "    X,Y=numpy.meshgrid(x,y)\n",
    "    return X,Y\n",
    "\n",
    "def grid_u(ni,nj):\n",
    "    dx=1./(ni-1)\n",
    "    dy=1./(nj-1)\n",
    "    xu=numpy.linspace(0,1+dx,ni+1)\n",
    "    yu=numpy.linspace(-dy/2,1+dy/2,nj+1)\n",
    "    X,Y=numpy.meshgrid(xu,yu)\n",
    "    return X,Y\n",
    "\n",
    "def grid_v(ni,nj):\n",
    "    dx=1./(ni-1)\n",
    "    dy=1./(nj-1)\n",
    "    xv=numpy.linspace(-dx/2,1+dx/2,ni+1)\n",
    "    yv=numpy.linspace(0,1+dy,nj+1)\n",
    "    X,Y=numpy.meshgrid(xv,yv)\n",
    "    return X,Y"
   ]
  },
  {
   "cell_type": "code",
   "execution_count": 12,
   "metadata": {
    "collapsed": true
   },
   "outputs": [],
   "source": [
    "@jit\n",
    "def RK3(ni,nj,dt):\n",
    "    \n",
    "    dx=1./(ni-1)\n",
    "    dy=1./(nj-1)\n",
    "    x=numpy.linspace(-dx/2,1+dx/2,ni+1)\n",
    "    y=numpy.linspace(-dy/2,1+dy/2,nj+1)\n",
    "    xu=numpy.linspace(0,1+dx,ni+1)\n",
    "    yu=numpy.linspace(-dy/2,1+dy/2,nj+1)\n",
    "    xv=numpy.linspace(-dx/2,1+dx/2,ni+1)\n",
    "    yv=numpy.linspace(0,1+dy,nj+1)\n",
    "\n",
    "    X,Y=numpy.meshgrid(x,y)\n",
    "    Xu,Yu=numpy.meshgrid(xu,yu)\n",
    "    Xv,Yv=numpy.meshgrid(xv,yv)\n",
    "\n",
    "    u0=numpy.zeros((nj+1,ni+1))\n",
    "    v0=numpy.zeros((nj+1,ni+1))\n",
    "    u0[-1,1:-3]=2.\n",
    "    p0=numpy.zeros((nj+1,ni+1))\n",
    "    omega0=numpy.zeros((nj+1,ni+1))\n",
    "            \n",
    "    u=u0.copy()\n",
    "    v=v0.copy()\n",
    "    p=p0.copy()\n",
    "    omega=omega0.copy()\n",
    "    \n",
    "    G1=numpy.zeros((nj+1,ni+1))\n",
    "    G2=numpy.zeros((nj+1,ni+1))\n",
    "    w1=numpy.zeros((nj+1,ni+1))\n",
    "    w2=numpy.zeros((nj+1,ni+1)) \n",
    "    f=numpy.zeros((nj+1,ni+1))\n",
    "    T=4.\n",
    "    t=0.\n",
    "    nt=0\n",
    "    uold=numpy.ones((nj+1))\n",
    "    \n",
    "    \n",
    "    while t<T:\n",
    "        uold=u.copy()\n",
    "        vold=v.copy()\n",
    "        pold=p.copy()\n",
    "        \n",
    "        #from t to t+dt/3\n",
    "        #t+=dt/3\n",
    "        G1=Fc1(u,v,dx,dy)+Fv1(u,v,dx,dy)\n",
    "        G2=Fc2(u,v,dx,dy)+Fv2(u,v,dx,dy)\n",
    "        w1=u+dt/3*G1\n",
    "        w2=v+dt/3*G2\n",
    "        f[1:-1,1:-1]=3./dt*((w1[1:-1,1:-1]-w1[1:-1,:-2])/dx+(w2[1:-1,1:-1]-w2[:-2,1:-1])/dy)\n",
    "        p=poisson(f,1.85)\n",
    "        u,v=getuv(w1,w2,p,dx,dy,dt/3)\n",
    "        \n",
    "        #from t+dt/3 to t+3dt/4\n",
    "        #t+=5/12*dt\n",
    "        G1=-5./9*G1+Fc1(u,v,dx,dy)+Fv1(u,v,dx,dy)\n",
    "        G2=-5./9*G2+Fc2(u,v,dx,dy)+Fv2(u,v,dx,dy)\n",
    "        w1=u+dt*15./16*G1\n",
    "        w2=v+dt*15./16*G2\n",
    "        f[1:-1,1:-1]=12./5/dt*((w1[1:-1,1:-1]-w1[1:-1,:-2])/dx+(w2[1:-1,1:-1]-w2[:-2,1:-1])/dy)        \n",
    "        p=poisson(f,1.85)\n",
    "        u,v=getuv(w1,w2,p,dx,dy,5*dt/12)\n",
    "        \n",
    "        #from t+3dt/4 to t+dt\n",
    "        #t+=dt/4\n",
    "        G1=-153./128*G1+Fc1(u,v,dx,dy)+Fv1(u,v,dx,dy)\n",
    "        G2=-153./128*G2+Fc2(u,v,dx,dy)+Fv2(u,v,dx,dy)\n",
    "        w1=u+dt*8./15*G1\n",
    "        w2=v+dt*8./15*G2\n",
    "        f[1:-1,1:-1]=4./dt*((w1[1:-1,1:-1]-w1[1:-1,:-2])/dx+(w2[1:-1,1:-1]-w2[:-2,1:-1])/dy)\n",
    "        p=poisson(f,1.85)\n",
    "        u,v=getuv(w1,w2,p,dx,dy,dt/4)\n",
    "        \n",
    "        if nt%100==0:\n",
    "            print(nt,difference(u,uold))\n",
    "        nt+=1\n",
    "        t+=dt\n",
    "        \n",
    "    psi=numpy.zeros((nj+1,ni+1))\n",
    "    for j in range(1,nj+1):\n",
    "        for i in range(ni+1):\n",
    "            psi[j,i]=psi[j-1,i]+u[j,i]*dy\n",
    "        \n",
    "    return u,v,p,psi"
   ]
  },
  {
   "cell_type": "code",
   "execution_count": null,
   "metadata": {
    "collapsed": false
   },
   "outputs": [],
   "source": [
    "u,v,p,psi=RK3(129,129,1e-3)"
   ]
  },
  {
   "cell_type": "code",
   "execution_count": null,
   "metadata": {
    "collapsed": false
   },
   "outputs": [],
   "source": [
    "X,Y=grid_p(129,129)\n",
    "Xu,Yu=grid_u(129,129)\n",
    "Xv,Yv=grid_v(129,129)\n",
    "\n",
    "pyplot.figure(figsize=(6.5,5))\n",
    "pyplot.contour(X[1:-2,1:-2],Y[1:-2,1:-2],psi1[1:-2,1:-2],12)\n",
    "pyplot.xlabel('$x$')\n",
    "pyplot.ylabel('$y$')\n",
    "pyplot.colorbar()\n",
    "pyplot.quiver(X[1:-2:8,1:-2:8],Y[1:-2:8,1:-2:8],u1[1:-2:8,1:-2:8],v1[1:-2:8,1:-2:8],scale=5)"
   ]
  },
  {
   "cell_type": "code",
   "execution_count": null,
   "metadata": {
    "collapsed": false
   },
   "outputs": [],
   "source": [
    "psimin=1.\n",
    "#find the minimum psi\n",
    "for j in range(65,90):\n",
    "    for i in range(65,90):\n",
    "        if psimin>psi[j,i]:\n",
    "            psimin=psi[j,i]\n",
    "            imin=i\n",
    "            jmin=j\n"
   ]
  },
  {
   "cell_type": "code",
   "execution_count": null,
   "metadata": {
    "collapsed": true
   },
   "outputs": [],
   "source": [
    "uc=u[:,imin]\n",
    "vc=v[jmin,:]\n",
    "#find average value of each two points \n",
    "uver=numpy.zeros(129)\n",
    "for j in range(129):\n",
    "    uver[j]=(uc[j+1]+uc[j])/2\n",
    "\n",
    "vhor=numpy.zeros(129)\n",
    "for i in range(129):\n",
    "    vhor[i]=(vc[i+1]+vc[i])/2"
   ]
  },
  {
   "cell_type": "code",
   "execution_count": null,
   "metadata": {
    "collapsed": true
   },
   "outputs": [],
   "source": [
    "#point no. and u,v values in the reference \n",
    "yuc=numpy.array([0,7,8,9,13,22,36,58,64,79,94,109,122,123,124,125,128])\n",
    "xvc=numpy.array([0,8,9,10,12,20,29,30,64,103,110,116,121,122,123,124,128])\n",
    "uref=numpy.array([0.,-0.03717,-0.04192,-0.04775,-0.06434,-0.10150,-0.15662,\\\n",
    "                 -0.21090,-0.20581,-0.13641,0.00332,0.23151,0.68717,0.73722,\\\n",
    "                0.78871,0.84123,1.])\n",
    "vref=numpy.array([0.,0.09233,0.10091,0.10890,0.12317,0.16077,0.17507,0.17527,\\\n",
    "                 0.05454,-0.24533,-0.22445,-0.16914,-0.10313,-0.08864,-0.07391,\\\n",
    "                 -0.05906,0.])"
   ]
  },
  {
   "cell_type": "code",
   "execution_count": null,
   "metadata": {
    "collapsed": false
   },
   "outputs": [],
   "source": [
    "#corresponding point u,v values during my computation\n",
    "ucver=numpy.zeros(numpy.shape(uref))\n",
    "for j in range(17):\n",
    "    ucver[j]=uver[yuc[j]]\n",
    "\n",
    "vchor=numpy.zeros(numpy.shape(vref))\n",
    "for i in range(17):\n",
    "    vchor[i]=vhor[xvc[i]]"
   ]
  },
  {
   "cell_type": "code",
   "execution_count": null,
   "metadata": {
    "collapsed": false
   },
   "outputs": [],
   "source": [
    "pyplot.figure(figsize=(10,6))\n",
    "pyplot.grid(True)\n",
    "pyplot.xlabel('grid pt. no.')\n",
    "pyplot.ylabel('$u$')\n",
    "pyplot.plot(yuc,ucver,color='b',marker='o')\n",
    "pyplot.plot(yuc,uref,color='r',marker='x')\n",
    "pyplot.title('Results for u-velocity along Vertical Line through Geometric Center of Cavity',fontsize=18)\n",
    "pyplot.legend(['Computation result','Reference result'],loc='best');"
   ]
  },
  {
   "cell_type": "code",
   "execution_count": null,
   "metadata": {
    "collapsed": false
   },
   "outputs": [],
   "source": [
    "pyplot.figure(figsize=(10,6))\n",
    "pyplot.grid(True)\n",
    "pyplot.xlabel('grid pt. no.')\n",
    "pyplot.ylabel('$v$')\n",
    "pyplot.plot(xvc,vchor,color='b',marker='o')\n",
    "pyplot.plot(xvc,vref,color='r',marker='x')\n",
    "pyplot.title('Results for u-Velocity along Horizontal Line through Geometric Center of Cavity ',fontsize=18)\n",
    "pyplot.legend(['Computation result','Reference result'],loc='best');"
   ]
  },
  {
   "cell_type": "code",
   "execution_count": null,
   "metadata": {
    "collapsed": true
   },
   "outputs": [],
   "source": []
  }
 ],
 "metadata": {
  "kernelspec": {
   "display_name": "Python 3",
   "language": "python",
   "name": "python3"
  },
  "language_info": {
   "codemirror_mode": {
    "name": "ipython",
    "version": 3
   },
   "file_extension": ".py",
   "mimetype": "text/x-python",
   "name": "python",
   "nbconvert_exporter": "python",
   "pygments_lexer": "ipython3",
   "version": "3.4.4"
  }
 },
 "nbformat": 4,
 "nbformat_minor": 0
}
