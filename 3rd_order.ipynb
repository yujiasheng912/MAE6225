{
 "cells": [
  {
   "cell_type": "code",
   "execution_count": 1,
   "metadata": {
    "collapsed": true
   },
   "outputs": [],
   "source": [
    "import numpy\n",
    "import sympy\n",
    "sympy.init_printing()\n",
    "phi,h1,h2,h3,h4,a,b,c,d,e=sympy.symbols('phi h_1 h_2 h_3 h_4 a b c d e')"
   ]
  },
  {
   "cell_type": "code",
   "execution_count": 2,
   "metadata": {
    "collapsed": true
   },
   "outputs": [],
   "source": [
    "def f(h1,h2,n):\n",
    "    return a*(h1+h2)**n+b*h1**n"
   ]
  },
  {
   "cell_type": "code",
   "execution_count": 3,
   "metadata": {
    "collapsed": false
   },
   "outputs": [
    {
     "data": {
      "image/png": "[encoded data removed]",
      "text/latex": [
       "$$\\left \\{ a : - \\frac{h_{1}}{h_{2} \\left(h_{1} + h_{2}\\right)}, \\quad b : \\frac{h_{1} + h_{2}}{h_{1} h_{2}}, \\quad c : - \\frac{2 h_{1} + h_{2}}{h_{1} \\left(h_{1} + h_{2}\\right)}\\right \\}$$"
      ],
      "text/plain": [
       "⎧       -h₁          h₁ + h₂     -(2⋅h₁ + h₂) ⎫\n",
       "⎨a: ────────────, b: ───────, c: ─────────────⎬\n",
       "⎩   h₂⋅(h₁ + h₂)      h₁⋅h₂       h₁⋅(h₁ + h₂)⎭"
      ]
     },
     "execution_count": 3,
     "metadata": {},
     "output_type": "execute_result"
    }
   ],
   "source": [
    "sympy.solve([a+b+c,f(h1,h2,1)-1,f(h1,h2,2)],[a,b,c])"
   ]
  },
  {
   "cell_type": "code",
   "execution_count": null,
   "metadata": {
    "collapsed": true
   },
   "outputs": [],
   "source": []
  }
 ],
 "metadata": {
  "kernelspec": {
   "display_name": "Python 3",
   "language": "python",
   "name": "python3"
  },
  "language_info": {
   "codemirror_mode": {
    "name": "ipython",
    "version": 3
   },
   "file_extension": ".py",
   "mimetype": "text/x-python",
   "name": "python",
   "nbconvert_exporter": "python",
   "pygments_lexer": "ipython3",
   "version": "3.5.0"
  }
 },
 "nbformat": 4,
 "nbformat_minor": 0
}
