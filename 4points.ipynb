{
 "cells": [
  {
   "cell_type": "code",
   "execution_count": 1,
   "metadata": {
    "collapsed": false
   },
   "outputs": [],
   "source": [
    "import numpy\n",
    "import sympy\n",
    "sympy.init_printing()\n",
    "h1,h2,h3,a,b,c,d=sympy.symbols('h_1 h_2 h_3 a b c d')"
   ]
  },
  {
   "cell_type": "code",
   "execution_count": 2,
   "metadata": {
    "collapsed": true
   },
   "outputs": [],
   "source": [
    "def f(h1,h2,h3,n):\n",
    "    return a*(h1+h2+h3)**n+b*(h1+h2)**n+c*h1**n"
   ]
  },
  {
   "cell_type": "code",
   "execution_count": 3,
   "metadata": {
    "collapsed": false,
    "scrolled": true
   },
   "outputs": [
    {
     "data": {
      "image/png": "[encoded data removed]",
      "text/latex": [
       "$$\\left \\{ a : \\frac{h_{1} \\left(h_{1} + h_{2}\\right)}{h_{3} \\left(h_{1} h_{2} + h_{1} h_{3} + h_{2}^{2} + 2 h_{2} h_{3} + h_{3}^{2}\\right)}, \\quad b : - \\frac{h_{1} \\left(h_{1} + h_{2} + h_{3}\\right)}{h_{2} h_{3} \\left(h_{1} + h_{2}\\right)}, \\quad c : \\frac{1}{h_{1} h_{2} \\left(h_{2} + h_{3}\\right)} \\left(h_{1}^{2} + 2 h_{1} h_{2} + h_{1} h_{3} + h_{2}^{2} + h_{2} h_{3}\\right), \\quad d : - \\frac{3 h_{1}^{2} + 4 h_{1} h_{2} + 2 h_{1} h_{3} + h_{2}^{2} + h_{2} h_{3}}{h_{1} \\left(h_{1}^{2} + 2 h_{1} h_{2} + h_{1} h_{3} + h_{2}^{2} + h_{2} h_{3}\\right)}\\right \\}$$"
      ],
      "text/plain": [
       "⎧                                                                          2  \n",
       "⎪                 h₁⋅(h₁ + h₂)                   -h₁⋅(h₁ + h₂ + h₃)      h₁  +\n",
       "⎨a: ────────────────────────────────────────, b: ───────────────────, c: ─────\n",
       "⎪      ⎛                  2               2⎞       h₂⋅h₃⋅(h₁ + h₂)            \n",
       "⎩   h₃⋅⎝h₁⋅h₂ + h₁⋅h₃ + h₂  + 2⋅h₂⋅h₃ + h₃ ⎠                                  \n",
       "\n",
       "                     2              ⎛    2                         2        ⎞ \n",
       " 2⋅h₁⋅h₂ + h₁⋅h₃ + h₂  + h₂⋅h₃     -⎝3⋅h₁  + 4⋅h₁⋅h₂ + 2⋅h₁⋅h₃ + h₂  + h₂⋅h₃⎠ \n",
       "──────────────────────────────, d: ───────────────────────────────────────────\n",
       "     h₁⋅h₂⋅(h₂ + h₃)                    ⎛  2                       2        ⎞ \n",
       "                                     h₁⋅⎝h₁  + 2⋅h₁⋅h₂ + h₁⋅h₃ + h₂  + h₂⋅h₃⎠ \n",
       "\n",
       "⎫\n",
       "⎪\n",
       "⎬\n",
       "⎪\n",
       "⎭"
      ]
     },
     "execution_count": 3,
     "metadata": {},
     "output_type": "execute_result"
    }
   ],
   "source": [
    "sympy.solve([a+b+c+d,f(h1,h2,h3,1)-1,f(h1,h2,h3,2),f(h1,h2,h3,3)],[a,b,c,d])"
   ]
  },
  {
   "cell_type": "code",
   "execution_count": null,
   "metadata": {
    "collapsed": true
   },
   "outputs": [],
   "source": []
  },
  {
   "cell_type": "code",
   "execution_count": null,
   "metadata": {
    "collapsed": true
   },
   "outputs": [],
   "source": []
  }
 ],
 "metadata": {
  "kernelspec": {
   "display_name": "Python 3",
   "language": "python",
   "name": "python3"
  },
  "language_info": {
   "codemirror_mode": {
    "name": "ipython",
    "version": 3
   },
   "file_extension": ".py",
   "mimetype": "text/x-python",
   "name": "python",
   "nbconvert_exporter": "python",
   "pygments_lexer": "ipython3",
   "version": "3.5.0"
  }
 },
 "nbformat": 4,
 "nbformat_minor": 0
}
