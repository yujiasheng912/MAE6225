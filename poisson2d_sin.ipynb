{
 "cells": [
  {
   "cell_type": "code",
   "execution_count": null,
   "metadata": {
    "collapsed": true
   },
   "outputs": [],
   "source": [
    "from math import pi\n",
    "import numpy\n",
    "%matplotlib inline\n",
    "from matplotlib import pyplot\n",
    "from matplotlib import rcParams\n",
    "rcParams['font.family']='serif'\n",
    "rcParams['font.size']=16\n",
    "from mpl_toolkits.mplot3d import Axes3D\n",
    "from matplotlib import cm\n",
    "import numba\n",
    "from numba import jit"
   ]
  },
  {
   "cell_type": "code",
   "execution_count": null,
   "metadata": {
    "collapsed": true
   },
   "outputs": [],
   "source": [
    "def plot_3D(x,y,u):    \n",
    "    fig = pyplot.figure(figsize=(11,7), dpi=100)\n",
    "    ax = fig.gca(projection='3d')\n",
    "    X,Y = numpy.meshgrid(x,y)\n",
    "    surf = ax.plot_surface(X,Y,u[:], rstride=1, cstride=1, cmap=cm.viridis,\n",
    "            linewidth=0, antialiased=False)\n",
    "\n",
    "    ax.set_xlim(0,1)\n",
    "    ax.set_ylim(0,1)\n",
    "    ax.set_xlabel('$x$')\n",
    "    ax.set_ylabel('$y$')\n",
    "    ax.set_zlabel('$u$')\n",
    "    ax.view_init(30,45)"
   ]
  },
  {
   "cell_type": "code",
   "execution_count": null,
   "metadata": {
    "collapsed": true
   },
   "outputs": [],
   "source": [
    "def poisson_initial(ni,nj):\n",
    "    u0=numpy.random.random((nj+1,ni+1))\n",
    "    dx=1./(ni-1)\n",
    "    dy=1./(nj-1)\n",
    "    x=numpy.linspace(0-dx/2,1+dx/2,ni+1)\n",
    "    y=numpy.linspace(0-dy/2,1+dy/2,nj+1)\n",
    "    plot_3D(x,y,u0)\n",
    "    return u0"
   ]
  },
  {
   "cell_type": "code",
   "execution_count": null,
   "metadata": {
    "collapsed": false
   },
   "outputs": [],
   "source": [
    "u0=poisson_initial(41,41)"
   ]
  },
  {
   "cell_type": "code",
   "execution_count": null,
   "metadata": {
    "collapsed": true
   },
   "outputs": [],
   "source": [
    "@jit\n",
    "def jacobi(ni,nj,n,res_target):\n",
    "    dx=1./(ni-1)\n",
    "    dy=1./(nj-1)\n",
    "    x=numpy.linspace(0-dx/2,1+dx/2,ni+1)\n",
    "    y=numpy.linspace(0-dy/2,1+dy/2,nj+1)\n",
    "    \n",
    "    X,Y=numpy.meshgrid(x,y)\n",
    "    f=-2*(2*pi*n)**2*numpy.sin(2*pi*n*X)*numpy.sin(2*pi*n*Y)\n",
    "    u_ex=numpy.sin(2*pi*n*X)*numpy.sin(2*pi*n*Y)\n",
    "    u0=numpy.random.random((nj+1,ni+1))\n",
    "    u=u0.copy()\n",
    "    u[0,:]=u_ex[0,:]\n",
    "    u[-1,:]=-u[-2,:]\n",
    "    u[:,0]=-u[:,1]\n",
    "    u[:,-1]=-u[:,-2]\n",
    "    iterations=0\n",
    "    dif=numpy.zeros((nj+1,ni+1))\n",
    "    err=numpy.zeros((nj+1,ni+1))\n",
    "    res=numpy.zeros((nj+1,ni+1))\n",
    "    res_max=1e3\n",
    "    \n",
    "    while res_max>res_target:\n",
    "        uold=u.copy()\n",
    "        u[1:-1,1:-1]=1/(2*(dx**2+dy**2))*((uold[1:-1,2:]+uold[1:-1,:-2])*dy**2+\\\n",
    "                     (uold[2:,1:-1]+uold[:-2,1:-1])*dx**2-f[1:-1,1:-1]*dx**2*dy**2)\n",
    "        #for j in range(1,nj-1):\n",
    "            #for i in range(1,ni-1):\n",
    "                #u[j,i]=1./(2*(dx**2+dy**2))*((uold[j,i+1]+uold[j,i-1])*dy**2+\\\n",
    "                       #(uold[j+1,i]+uold[j-1,i])*dx**2-f[j,i]*dx**2*dy**2)\n",
    "        u[0,:]=u_ex[0,:]\n",
    "        u[-1,:]=-u[-2,:]\n",
    "        u[:,0]=-u[:,1]\n",
    "        u[:,-1]=-u[:,-2]\n",
    "        \n",
    "        for j in range(1,nj):\n",
    "            for i in range(1,ni):\n",
    "                res[j,i]=numpy.abs(f[j,i]-(u[j,i-1]-2*u[j,i]+u[j,i+1])/dx**2-\\\n",
    "                                  (u[j-1,i]-2*u[j,i]+u[j+1,i])/dy**2)\n",
    "        res_max=numpy.max(res)\n",
    "                   \n",
    "        iterations+=1\n",
    "        \n",
    "    for j in range(nj+1):\n",
    "        for i in range(ni+1):\n",
    "            dif[j,i]=numpy.abs(u[j,i]-uold[j,i])\n",
    "            err[j,i]=numpy.abs(u[j,i]-u_ex[j,i])\n",
    "    \n",
    "    dif_max=numpy.max(dif)\n",
    "    err_max=numpy.max(err)\n",
    "        \n",
    "    A=numpy.array([u,x,y,dif_max,err_max,res_max,iterations])\n",
    "    \n",
    "    return A"
   ]
  },
  {
   "cell_type": "code",
   "execution_count": null,
   "metadata": {
    "collapsed": false
   },
   "outputs": [],
   "source": [
    "@jit\n",
    "def SOR(ni,nj,n,res_target,omega):\n",
    "    dx=1./(ni-1)\n",
    "    dy=1./(nj-1)\n",
    "    x=numpy.linspace(0-dx/2,1+dx/2,ni+1)\n",
    "    y=numpy.linspace(0-dy/2,1+dy/2,nj+1)\n",
    "    \n",
    "    X,Y=numpy.meshgrid(x,y)\n",
    "    f=-2*(2*pi*n)**2*numpy.sin(2*pi*n*X)*numpy.sin(2*pi*n*Y)\n",
    "    u_ex=numpy.sin(2*pi*n*X)*numpy.sin(2*pi*n*Y)\n",
    "    u0=numpy.random.random((nj,ni))\n",
    "    u=u0.copy()\n",
    "    u[0,:]=u_ex[0,:]\n",
    "    u[-1,:]=-u[-2,:]\n",
    "    u[:,0]=-u[:,1]\n",
    "    u[:,-1]=u[:,-2]\n",
    "    dif=numpy.zeros((nj+1,ni+1))\n",
    "    err=numpy.zeros((nj+1,ni+1))\n",
    "    res=numpy.zeros((nj+1,ni+1))\n",
    "    res_max=1e3\n",
    "    iterations=0\n",
    "    \n",
    "    while res_max>res_target:\n",
    "        uold=u.copy()\n",
    "        for j in range(1,nj-1):\n",
    "            for i in range(1,ni-1):\n",
    "                u[j,i]=omega/(2*(dx**2+dy**2))*((u[j,i-1]+u[j,i+1])*dy**2+\\\n",
    "                       (u[j-1,i]+u[j+1,i])*dx**2-f[j,i]*dx**2*dy**2)+\\\n",
    "                       (1-omega)*u[j,i]\n",
    "        \n",
    "        u[0,:]=u_ex[0,:]\n",
    "        u[-1,:]=-u[-2,:]\n",
    "        u[:,0]=-u[:,1]\n",
    "        u[:,-1]=u[:,-2]\n",
    "        \n",
    "        for j in range(1,nj):\n",
    "            for i in range(1,ni):\n",
    "                res[j,i]=numpy.abs(f[j,i]-(u[j,i-1]-2*u[j,i]+u[j,i+1])/dx**2-\\\n",
    "                                  (u[j-1,i]-2*u[j,i]+u[j+1,i])/dy**2)\n",
    "        res_max=numpy.max(res)\n",
    "        \n",
    "        iterations+=1\n",
    "        \n",
    "    for j in range(nj+1):\n",
    "        for i in range(ni+1):\n",
    "            dif[j,i]=numpy.abs(u[j,i]-uold[j,i])\n",
    "            err[j,i]=numpy.abs(u[j,i]-u_ex[j,i])\n",
    "            \n",
    "    dif_max=numpy.max(dif)\n",
    "    err_max=numpy.max(err)\n",
    "    \n",
    "    A=numpy.array([u,x,y,dif_max,err_max,res_max,iterations])\n",
    "    \n",
    "    return A"
   ]
  },
  {
   "cell_type": "code",
   "execution_count": null,
   "metadata": {
    "collapsed": false
   },
   "outputs": [],
   "source": [
    "error40_jac=[]\n",
    "for k in range(1,20):\n",
    "    error40_jac.append(jacobi(41,41,k,1e-9)[4])\n",
    "    \n",
    "pyplot.figure(figsize=(10,6))\n",
    "pyplot.grid(True)\n",
    "pyplot.xlabel('$n$')\n",
    "pyplot.ylabel('error')\n",
    "pyplot.plot(numpy.linspace(1,19,19),error40_jac,'o')\n",
    "pyplot.title('Error for different n values, ni=nj=41',fontsize=18)\n",
    "pyplot.legend()"
   ]
  },
  {
   "cell_type": "code",
   "execution_count": null,
   "metadata": {
    "collapsed": false
   },
   "outputs": [],
   "source": [
    "error_grid_jac=[]\n",
    "ninj=[]\n",
    "for ni in range(40,81,20):\n",
    "    for nj in range(40,81,20):\n",
    "        error_grid_jac.append(jacobi(ni,nj,1,1e-9)[4])\n",
    "        ninj.append(ni*nj)\n",
    "        \n",
    "pyplot.figure(figsize=(10,6))\n",
    "pyplot.grid(True)\n",
    "pyplot.xlabel('$ni \\cdot nj$')\n",
    "pyplot.ylabel('error')\n",
    "pyplot.plot(ninj,error_grid_jac,'o')\n",
    "pyplot.title('Error for different grid numbers, n=1',fontsize=18)\n",
    "pyplot.legend()"
   ]
  },
  {
   "cell_type": "code",
   "execution_count": null,
   "metadata": {
    "collapsed": false
   },
   "outputs": [],
   "source": [
    "error40_SOR=[]\n",
    "for k in range(1,20):\n",
    "    error40_SOR.append(SOR(41,41,k,1e-9,1.9)[4])\n",
    "    \n",
    "pyplot.figure(figsize=(10,6))\n",
    "pyplot.grid(True)\n",
    "pyplot.xlabel('$ni \\cdot nj$')\n",
    "pyplot.ylabel('error')\n",
    "pyplot.plot(numpy.linspace(1,19,19),error40_jac,'o')\n",
    "pyplot.title('Error for different n values, ni=nj=41',fontsize=18)\n",
    "pyplot.legend()"
   ]
  },
  {
   "cell_type": "code",
   "execution_count": null,
   "metadata": {
    "collapsed": false
   },
   "outputs": [],
   "source": [
    "error_grid_SOR=[]\n",
    "ninj=[]\n",
    "for ni in range(20,101,20):\n",
    "    for nj in range(20,101,20):\n",
    "        error_grid_SOR.append(SOR(ni,nj,1,1e-9,1.9)[4])\n",
    "        ninj.append(ni*nj)\n",
    "        \n",
    "pyplot.figure(figsize=(10,6))\n",
    "pyplot.grid(True)\n",
    "pyplot.xlabel('$ni \\cdot nj$')\n",
    "pyplot.ylabel('error')\n",
    "pyplot.plot(ninj,error_grid_jac,'o')\n",
    "pyplot.title('Error for different grid numbers, n=1',fontsize=18)\n",
    "pyplot.legend()"
   ]
  },
  {
   "cell_type": "code",
   "execution_count": null,
   "metadata": {
    "collapsed": false
   },
   "outputs": [],
   "source": [
    "error40_SOR_omega=[]\n",
    "k=1.5\n",
    "while k<1.96:\n",
    "    error40_SOR_omega.append(SOR(41,41,1,1e-9,k)[4])\n",
    "    k+=0.05\n",
    "pyplot.figure(figsize=(10,6))\n",
    "pyplot.grid(True)\n",
    "pyplot.xlabel('$n$')\n",
    "pyplot.ylabel('error')\n",
    "pyplot.plot(numpy.array(numpy.array([1.3,1.5,1.6,1.7,1.8,1.9,1.95]),error40_jac,'o')\n",
    "pyplot.title('Error for different n values, ni=nj=41',fontsize=18)\n",
    "pyplot.legend()"
   ]
  },
  {
   "cell_type": "code",
   "execution_count": null,
   "metadata": {
    "collapsed": false
   },
   "outputs": [],
   "source": [
    "u40_jac1,x40_jac1,y40_jac1,dif40_jac1,err40_jac1,res40_jac1,iterations40_jac1=jacobi(41,41,1,1e-9)\n",
    "plot_3D(x40_jac1,y40_jac1,u40_jac1)\n",
    "print('dif40_jacobi1={}'.format(dif40_jac1))\n",
    "print('err40_jacobi1={}'.format(err40_jac1))\n",
    "print('res40_jacobi1={}'.format(res40_jac1))\n",
    "print('iterations40_jacobi1={}'.format(iterations40_jac1))"
   ]
  },
  {
   "cell_type": "code",
   "execution_count": null,
   "metadata": {
    "collapsed": false
   },
   "outputs": [],
   "source": [
    "u_jac2,x_jac2,y_jac2,dif_jac2,err_jac2,res_jac2,iterations_jac2=jacobi(41,41,2,1e-9)\n",
    "plot_3D(x_jac2,y_jac2,u_jac2)\n",
    "print('dif_jacobi2={}'.format(dif_jac2))\n",
    "print('err_jacobi2={}'.format(err_jac2))\n",
    "print('res_jacobi2={}'.format(res_jac2))\n",
    "print('iterations_jacobi2={}'.format(iterations_jac2))"
   ]
  },
  {
   "cell_type": "code",
   "execution_count": null,
   "metadata": {
    "collapsed": false
   },
   "outputs": [],
   "source": [
    "u_jac3,x_jac3,y_jac3,dif_jac3,err_jac3,res_jac3,iterations_jac3=jacobi(41,41,3,1e-9)\n",
    "plot_3D(x_jac3,y_jac3,u_jac3)\n",
    "print('dif_jacobi3={}'.format(dif_jac3))\n",
    "print('err_jacobi3={}'.format(err_jac3))\n",
    "print('res_jacobi3={}'.format(res_jac3))\n",
    "print('iterations_jacobi3={}'.format(iterations_jac3))"
   ]
  },
  {
   "cell_type": "code",
   "execution_count": null,
   "metadata": {
    "collapsed": false
   },
   "outputs": [],
   "source": [
    "u_jac4,x_jac4,y_jac4,dif_jac4,err_jac4,res_jac4,iterations_jac4=jacobi(41,41,4,1e-9)\n",
    "print('dif_jacobi4={}'.format(dif_jac4))\n",
    "print('err_jacobi4={}'.format(err_jac4))\n",
    "print('res_jacobi4={}'.format(res_jac4))\n",
    "print('iterations_jacobi4={}'.format(iterations_jac4))"
   ]
  },
  {
   "cell_type": "code",
   "execution_count": null,
   "metadata": {
    "collapsed": false
   },
   "outputs": [],
   "source": [
    "u80_jac1,x80_jac1,y80_jac1,dif80_jac1,err80_jac1,res80_jac1,iterations80_jac1=jacobi(81,81,1,1e-9)\n",
    "plot_3D(x80_jac1,y80_jac1,u80_jac1)\n",
    "print('dif80_jacobi1={}'.format(dif80_jac1))\n",
    "print('err80_jacobi1={}'.format(err80_jac1))\n",
    "print('res80_jacobi1={}'.format(res80_jac1))\n",
    "print('iterations80_jacobi1={}'.format(iterations80_jac1))"
   ]
  },
  {
   "cell_type": "code",
   "execution_count": null,
   "metadata": {
    "collapsed": false
   },
   "outputs": [],
   "source": [
    "u120_jac1,x120_jac1,y120_jac1,dif120_jac1,err120_jac1,res120_jac1,iterations120_jac1=jacobi(121,121,1,1e-9)\n",
    "print('dif120_jacobi1={}'.format(dif120_jac1))\n",
    "print('err120_jacobi1={}'.format(err120_jac1))\n",
    "print('res120_jacobi1={}'.format(res120_jac1))\n",
    "print('iterations120_jacobi1={}'.format(iterations120_jac1))"
   ]
  },
  {
   "cell_type": "code",
   "execution_count": null,
   "metadata": {
    "collapsed": false
   },
   "outputs": [],
   "source": [
    "u160_jac1,x160_jac1,y160_jac1,dif160_jac1,err160_jac1,res160_jac1,iterations160_jac1=jacobi(161,161,1,1e-9)\n",
    "print('dif160_jacobi1={}'.format(dif160_jac1))\n",
    "print('err160_jacobi1={}'.format(err160_jac1))\n",
    "print('res160_jacobi1={}'.format(res160_jac1))\n",
    "print('iterations160_jacobi1={}'.format(iterations160_jac1))"
   ]
  },
  {
   "cell_type": "code",
   "execution_count": null,
   "metadata": {
    "collapsed": false
   },
   "outputs": [],
   "source": [
    "u_SOR1,x_SOR1,y_SOR1,dif_SOR1,err_SOR1,res_SOR1,iterations_SOR1=SOR(41,41,1,1e-9,1.5)\n",
    "plot_3D(x_SOR1,y_SOR1,u_SOR1)\n",
    "print('dif_SOR1={}'.format(dif_SOR1))\n",
    "print('err_SOR1={}'.format(err_SOR1))\n",
    "print('res_SOR1={}'.format(res_SOR1))\n",
    "print('iterations_SOR1={}'.format(iterations_SOR1))"
   ]
  },
  {
   "cell_type": "code",
   "execution_count": null,
   "metadata": {
    "collapsed": false
   },
   "outputs": [],
   "source": [
    "u_SOR2,x_SOR2,y_SOR2,dif_SOR2,err_SOR2,res_SOR2,iterations_SOR2=SOR(41,41,2,1e-9,1.5)\n",
    "plot_3D(x_SOR2,y_SOR2,u_SOR2)\n",
    "print('dif_SOR2={}'.format(dif_SOR2))\n",
    "print('err_SOR2={}'.format(err_SOR2))\n",
    "print('res_SOR2={}'.format(res_SOR2))\n",
    "print('iterations_SOR2={}'.format(iterations_SOR2))"
   ]
  },
  {
   "cell_type": "code",
   "execution_count": null,
   "metadata": {
    "collapsed": false
   },
   "outputs": [],
   "source": [
    "u_SOR3,x_SOR3,y_SOR3,dif_SOR3,err_SOR3,res_SOR3,iterations_SOR3=SOR(41,41,3,1e-9,1.5)\n",
    "plot_3D(x_SOR3,y_SOR3,u_SOR3)\n",
    "print('dif_SOR3={}'.format(dif_SOR3))\n",
    "print('err_SOR3={}'.format(err_SOR3))\n",
    "print('res_SOR3={}'.format(res_SOR3))\n",
    "print('iterations_SOR3={}'.format(iterations_SOR3))"
   ]
  },
  {
   "cell_type": "code",
   "execution_count": null,
   "metadata": {
    "collapsed": true
   },
   "outputs": [],
   "source": [
    "u_SOR4,x_SOR4,y_SOR4,dif_SOR4,err_SOR4,res_SOR4,iterations_SOR4=SOR(41,41,4,1e-9,1.5)\n",
    "print('dif_SOR4={}'.format(dif_SOR4))\n",
    "print('err_SOR4={}'.format(err_SOR4))\n",
    "print('res_SOR4}'.format(res_SOR4))\n",
    "print('iterations_SOR4={}'.format(iterations_SOR4))"
   ]
  }
 ],
 "metadata": {
  "kernelspec": {
   "display_name": "Python 3",
   "language": "python",
   "name": "python3"
  },
  "language_info": {
   "codemirror_mode": {
    "name": "ipython",
    "version": 3
   },
   "file_extension": ".py",
   "mimetype": "text/x-python",
   "name": "python",
   "nbconvert_exporter": "python",
   "pygments_lexer": "ipython3",
   "version": "3.4.4"
  }
 },
 "nbformat": 4,
 "nbformat_minor": 0
}
