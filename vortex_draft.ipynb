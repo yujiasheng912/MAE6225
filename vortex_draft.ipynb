{
 "cells": [
  {
   "cell_type": "code",
   "execution_count": null,
   "metadata": {
    "collapsed": true
   },
   "outputs": [],
   "source": [
    "from matplotlib import pyplot, cm\n",
    "from math import pi\n",
    "import numpy\n",
    "%matplotlib inline\n",
    "from matplotlib import rcParams\n",
    "rcParams['font.family'] = 'serif'\n",
    "rcParams['font.size'] = 16\n",
    "import numba\n",
    "from numba import jit"
   ]
  },
  {
   "cell_type": "code",
   "execution_count": null,
   "metadata": {
    "collapsed": true
   },
   "outputs": [],
   "source": [
    "ni=41\n",
    "nj=41\n",
    "dx=2*pi/(nx-1)\n",
    "dy=2*pi/(ny-1)\n",
    "x=numpy.linspace(-dx/2,2*pi+dx/2,ni+1)\n",
    "y=numpy.linspace(-dy/2,2*pi+dy/2,nj+1)\n",
    "\n",
    "X,Y=numpy.meshgrid(x,y)\n",
    "\n",
    "u0=numpy.cos(X)*numpy.sin(Y)\n",
    "v0=numpy.sin(X)*numpy.cos(Y)\n",
    "p0=numpy.cos(2*X)+numpy.cos(2*Y)"
   ]
  },
  {
   "cell_type": "code",
   "execution_count": null,
   "metadata": {
    "collapsed": true
   },
   "outputs": [],
   "source": [
    "def Fc1(u,v,dx,dy):\n",
    "    F=numpy.zeros(numpy.shape(u))\n",
    "    F[1:-1.1:-1]=((u[1:-1,1:-1]+u[1:-1,2:])**2-(u[1:-1,1:-1]+u[:-2])**2)/(4*dx)-\\\n",
    "      ((u[1:-1,1:-1]+u[2:,1:-1])*(v[1:-1,2,:]+v[1:-1,1:-1])-(u[1:-1,1:-1]+u[:-2,1:-1])*(v[:-2,2:]+v[:-2,1:-1]))/(4*dy)\n",
    "        \n",
    "    F[:,0]=F[:,1]\n",
    "    F[:,-1]=F[:,-2]\n",
    "    F[0,:]=-F[1,:]\n",
    "    F[-1,:]=-F[-2,:]\n",
    "    return F"
   ]
  },
  {
   "cell_type": "code",
   "execution_count": null,
   "metadata": {
    "collapsed": true
   },
   "outputs": [],
   "source": [
    "def Fv1(u,v,dx,dy):\n",
    "    F=numpy.zeros(numpy.shape(u))\n",
    "    F[1:-1,1:-1]=(u[1:-1,2:]-2*u[1:-1,1:-1]+u[1:-1,:-2])/dx**2+(u[2:,1:-1]-2*u[1:-1,1:-1]+u[:-2,1:-1])/dy**2\n",
    "    \n",
    "    F[:,0]=F[:,1]\n",
    "    F[:,-1]=F[:,-2]\n",
    "    F[0,:]=-F[1,:]\n",
    "    F[-1,:]=-F[-2,:]\n",
    "    return F"
   ]
  },
  {
   "cell_type": "code",
   "execution_count": null,
   "metadata": {
    "collapsed": true
   },
   "outputs": [],
   "source": [
    "def Fp1(p,dx,dy):\n",
    "    F=numpy.zeros(numpy.shape(u))\n",
    "    F[1:-1,1:-1]=(p[1:-1,2,:]-p[1:-1,1:-1])/dx\n",
    "    F[:,0]=F[:,1]\n",
    "    F[:,-1]=F[:,-2]\n",
    "    F[0,:]=-F[1,:]\n",
    "    F[-1,:]=-F[-2,:]\n",
    "    return F"
   ]
  },
  {
   "cell_type": "code",
   "execution_count": null,
   "metadata": {
    "collapsed": true
   },
   "outputs": [],
   "source": [
    "def poisson(f,res_target,omega):\n",
    "    p=numpy.zeros(numpy.shape(f))\n",
    "    while res_max>res_target:\n",
    "        \n",
    "        for j in range(1,nj):\n",
    "            for i in range(1,ni):\n",
    "                p[j,i]=omega/(2*(dx**2+dy**2))*((p[j,i-1]+p[j,i+1])*dy**2+\\\n",
    "                       (p[j-1,i]+p[j+1,i])*dx**2-f[j,i]*dx**2*dy**2)+\\\n",
    "                       (1-omega)*u[j,i]\n",
    "                    \n",
    "        p[0,:]=p[1,:]\n",
    "        p[-1,:]=p[-2,:]\n",
    "        p[:,0]=p[:,1]\n",
    "        p[:,-1]=p[:,-2]\n",
    "        \n",
    "        return "
   ]
  },
  {
   "cell_type": "code",
   "execution_count": null,
   "metadata": {
    "collapsed": true
   },
   "outputs": [],
   "source": [
    "dt=0.05\n",
    "T=10\n",
    "nt=int(T/dt)\n",
    "t=0\n",
    "u=u0.copy()\n",
    "v=v0.copy()\n",
    "p=p0,copy()\n",
    "for t in range(nt):\n",
    "    \n",
    "    Fc=Fc1(u0,v0,dx,dy)\n",
    "    Fv=Fv1(u0,v0,dx,dy)\n",
    "    Gi=Fc+Fv\n",
    "    vi=u+dt*Gi/3\n",
    "    #lp_p1=3./dt*(vi[1:-1,2:]-vi[1:-1,1:-1])/dx\n",
    "    u=vi+dt/3*Fp1(p,dx,dy)\n",
    "    \n",
    "    Gi=-5./9*Gi+Fc1(u,v,dx,dy)+Fv1(u,v,dx,dy)\n",
    "    vi=u"
   ]
  },
  {
   "cell_type": "code",
   "execution_count": null,
   "metadata": {
    "collapsed": false
   },
   "outputs": [],
   "source": [
    "pyplot.figure(figsize=(8,6))\n",
    "pyplot.contourf(x,y,ui,10,cmap=cm.viridis)\n",
    "pyplot.xlabel('$x$')\n",
    "pyplot.ylabel('$y$')\n",
    "pyplot.colorbar();"
   ]
  },
  {
   "cell_type": "code",
   "execution_count": null,
   "metadata": {
    "collapsed": true
   },
   "outputs": [],
   "source": []
  }
 ],
 "metadata": {
  "kernelspec": {
   "display_name": "Python 3",
   "language": "python",
   "name": "python3"
  },
  "language_info": {
   "codemirror_mode": {
    "name": "ipython",
    "version": 3
   },
   "file_extension": ".py",
   "mimetype": "text/x-python",
   "name": "python",
   "nbconvert_exporter": "python",
   "pygments_lexer": "ipython3",
   "version": "3.4.4"
  }
 },
 "nbformat": 4,
 "nbformat_minor": 0
}
