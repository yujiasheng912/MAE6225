{
 "cells": [
  {
   "cell_type": "code",
   "execution_count": null,
   "metadata": {
    "collapsed": true
   },
   "outputs": [],
   "source": [
    "from matplotlib import pyplot,cm\n",
    "from math import pi\n",
    "import numpy\n",
    "%matplotlib inline\n",
    "from matplotlib import rcParams\n",
    "rcParams['font.family'] = 'serif'\n",
    "rcParams['font.size'] = 16\n",
    "import numba\n",
    "from numba import jit"
   ]
  },
  {
   "cell_type": "code",
   "execution_count": null,
   "metadata": {
    "collapsed": false
   },
   "outputs": [],
   "source": [
    "ni=51\n",
    "nj=51\n",
    "dx=2*pi/(ni-1)\n",
    "dy=2*pi/(nj-1)\n",
    "x=numpy.linspace(-dx/2,2*pi+dx/2,ni+1)\n",
    "y=numpy.linspace(-dy/2,2*pi+dy/2,nj+1)\n",
    "\n",
    "X,Y=numpy.meshgrid(x,y)\n",
    "\n",
    "u0=-numpy.cos(X)*numpy.sin(Y)\n",
    "v0=numpy.sin(X)*numpy.cos(Y)\n",
    "p0=numpy.cos(2*X)+numpy.cos(2*Y)"
   ]
  },
  {
   "cell_type": "code",
   "execution_count": null,
   "metadata": {
    "collapsed": false
   },
   "outputs": [],
   "source": [
    "omega0=numpy.zeros((nj+1,ni+1))\n",
    "for i in range(1,ni):\n",
    "    for j in range(1,nj):\n",
    "        omega0[j,i]=(v0[j,i+1]-v0[j,i])/dx-(u0[j+1,i]-u0[j,i])/dy"
   ]
  },
  {
   "cell_type": "code",
   "execution_count": null,
   "metadata": {
    "collapsed": true
   },
   "outputs": [],
   "source": [
    "def Fc1(u,v,dx,dy):\n",
    "    F=numpy.zeros(numpy.shape(u))\n",
    "    F[1:-1,1:-1]=-((u[1:-1,1:-1]+u[1:-1,2:])**2-(u[1:-1,1:-1]+u[:-2])**2)/(4*dx)-\\\n",
    "                ((u[1:-1,1:-1]+u[2:,1:-1])*(v[1:-1,2,:]+v[1:-1,1:-1])-(u[1:-1,1:-1]+u[:-2,1:-1])*(v[:-2,2:]+v[:-2,1:-1]))/(4*dy)\n",
    "        \n",
    "    F[:,0]=F[:,1]\n",
    "    F[:,-1]=F[:,-2]\n",
    "    F[0,:]=-F[1,:]\n",
    "    F[-1,:]=-F[-2,:]\n",
    "    return F"
   ]
  },
  {
   "cell_type": "code",
   "execution_count": null,
   "metadata": {
    "collapsed": true
   },
   "outputs": [],
   "source": [
    "def Fv1(u,v,dx,dy):\n",
    "    F=numpy.zeros(numpy.shape(u))\n",
    "    F[1:-1,1:-1]=(u[1:-1,2:]-2*u[1:-1,1:-1]+u[1:-1,:-2])/dx**2+(u[2:,1:-1]-2*u[1:-1,1:-1]+u[:-2,1:-1])/dy**2\n",
    "    \n",
    "    F[:,0]=F[:,1]\n",
    "    F[:,-1]=F[:,-2]\n",
    "    F[0,:]=-F[1,:]\n",
    "    F[-1,:]=-F[-2,:]\n",
    "    return F"
   ]
  },
  {
   "cell_type": "code",
   "execution_count": null,
   "metadata": {
    "collapsed": true
   },
   "outputs": [],
   "source": [
    "def Fp1(p,dx,dy):\n",
    "    F=numpy.zeros(numpy.shape(u))\n",
    "    F[1:-1,1:-1]=-(p[1:-1,2,:]-p[1:-1,1:-1])/dx\n",
    "    F[:,0]=F[:,1]\n",
    "    F[:,-1]=F[:,-2]\n",
    "    F[0,:]=-F[1,:]\n",
    "    F[-1,:]=-F[-2,:]\n",
    "    return F"
   ]
  },
  {
   "cell_type": "code",
   "execution_count": null,
   "metadata": {
    "collapsed": true
   },
   "outputs": [],
   "source": [
    "def Fc2(u,v,dx,dy):\n",
    "    F=numpy.zeros((numpy.shape(u)))\n",
    "    F[1:-1,1:-1]=-((u[2:,1:-1]+u[1:-1,1:-1])*(v[1:-1,1:-1]+v[1:-1,2:])-(u[2:,:-2]+u[1:-1,:-2])*(v[1:-1,1:-1]+v[1:-1,:-2]))/(4*dx)-\\\n",
    "                 ((v[1:-1,1:-1]+[v[2:,1:-1]])**2-(v[1:-1,1:-1]+v[:-2,1:-1])**2)/(4*dy)\n",
    "        \n",
    "    F[:,0]=-F[:,1]\n",
    "    F[:,-1]=-F[:,-2]\n",
    "    F[0,:]=F[1,:]\n",
    "    F[-1,:]=F[-2,:]\n",
    "    return F"
   ]
  },
  {
   "cell_type": "code",
   "execution_count": null,
   "metadata": {
    "collapsed": true
   },
   "outputs": [],
   "source": [
    "def Fv2(u,v,dx,dy):\n",
    "    F=numpy.zeros((numpy.shape(u)))\n",
    "    F[1:-1,1:-1]=(v[1:-1,2:]-2*v[1:-1,1:-1]+v[1:-1,:-2])/dx**2+(v[2:,1:-1]-2*v[1:-1,1:-1]+v[:-2,1:-1])/dy**2\n",
    "        \n",
    "    F[:,0]=-F[:,1]\n",
    "    F[:,-1]=-F[:,-2]\n",
    "    F[0,:]=F[1,:]\n",
    "    F[-1,:]=F[-2,:]\n",
    "    return F"
   ]
  },
  {
   "cell_type": "code",
   "execution_count": null,
   "metadata": {
    "collapsed": true
   },
   "outputs": [],
   "source": [
    "def Fp2(p,dx,dy):\n",
    "    F=numpy.zeros((numpy.shape(u)))\n",
    "    F[1:-1,1:-1]=-(p[2:,1:-1]-p[:-2,1:-1])/dy\n",
    "        \n",
    "    F[:,0]=-F[:,1]\n",
    "    F[:,-1]=-F[:,-2]\n",
    "    F[0,:]=F[1,:]\n",
    "    F[-1,:]=F[-2,:]\n",
    "    return F"
   ]
  },
  {
   "cell_type": "code",
   "execution_count": null,
   "metadata": {
    "collapsed": true
   },
   "outputs": [],
   "source": [
    "def poisson(f,res_target,omega):\n",
    "    p=numpy.zeros(numpy.shape(f))\n",
    "    res_max=1e3\n",
    "    while res_max>res_target:\n",
    "        \n",
    "        for j in range(1,nj):\n",
    "            for i in range(1,ni):\n",
    "                p[j,i]=omega/(2*(dx**2+dy**2))*((p[j,i-1]+p[j,i+1])*dy**2+\\\n",
    "                       (p[j-1,i]+p[j+1,i])*dx**2-f[j,i]*dx**2*dy**2)+\\\n",
    "                       (1-omega)*u[j,i]\n",
    "                    \n",
    "        p[0,:]=p[1,:]\n",
    "        p[-1,:]=p[-2,:]\n",
    "        p[:,0]=p[:,1]\n",
    "        p[:,-1]=p[:,-2]\n",
    "        \n",
    "        for j in range(1,nj):\n",
    "            for i in range(1,ni):\n",
    "                res[j,i]=numpy.abs(f[j,i]-(p[j,i-1]-2*p[j,i]+p[j,i+1])/dx**2-\\\n",
    "                                  (p[j-1,i]-2*p[j,i]+p[j+1,i])/dy**2)\n",
    "        res_max=numpy.max(res)\n",
    "        \n",
    "    return p"
   ]
  },
  {
   "cell_type": "code",
   "execution_count": null,
   "metadata": {
    "collapsed": true
   },
   "outputs": [],
   "source": [
    "def grad(v,dx,dy):\n",
    "    g=numpy.zeros(numpy.shape(v))\n",
    "    g[1:-1,1:-1]=(v[:,2:]-v[:,:-2])/2/dx+(v[2:,:]-v[:-2,:])/2/dy\n",
    "    return g"
   ]
  },
  {
   "cell_type": "code",
   "execution_count": null,
   "metadata": {
    "collapsed": true
   },
   "outputs": [],
   "source": [
    "dt=0.05\n",
    "T=10\n",
    "nt=int(T/dt)\n",
    "t=0\n",
    "u=u0.copy()\n",
    "v=v0.copy()\n",
    "p=p0.copy()\n",
    "for t in range(nt):\n",
    "    \n",
    "    Gu=Fc1(u,v,dx,dy)+Fv1(u,v,dx,dy)\n",
    "    vu=u+dt*Gu/3\n",
    "    p1=poisson(3./dt*(grad(v1)))\n",
    "    Fp_1=Fp1(p,dx,dy)+Fp2(p,dx,dy)\n",
    "    u=v_1+dt/3*Fp_1\n",
    "    \n",
    "    G_2=-5./9*G_1+Fc1(u,v,dx,dy)+Fv1(u,v,dx,dy)\n",
    "    vi="
   ]
  },
  {
   "cell_type": "code",
   "execution_count": null,
   "metadata": {
    "collapsed": false
   },
   "outputs": [],
   "source": [
    "pyplot.figure(figsize=(8,6))\n",
    "#pyplot.contour(X,Y,2*numpy.cos(x)*numpy.cos(Y),10)#,cmap=cm.viridis)\n",
    "pyplot.contour(X,Y,omega0,10)\n",
    "pyplot.colorbar();\n",
    "pyplot.quiver(X[::3,::3],Y[::3,::3],u0[::3,::3],v0[::3,::3],scale=13)\n",
    "pyplot.xlabel('$x$')\n",
    "pyplot.ylabel('$y$')"
   ]
  },
  {
   "cell_type": "code",
   "execution_count": null,
   "metadata": {
    "collapsed": true
   },
   "outputs": [],
   "source": []
  }
 ],
 "metadata": {
  "kernelspec": {
   "display_name": "Python 3",
   "language": "python",
   "name": "python3"
  },
  "language_info": {
   "codemirror_mode": {
    "name": "ipython",
    "version": 3
   },
   "file_extension": ".py",
   "mimetype": "text/x-python",
   "name": "python",
   "nbconvert_exporter": "python",
   "pygments_lexer": "ipython3",
   "version": "3.4.4"
  }
 },
 "nbformat": 4,
 "nbformat_minor": 0
}
