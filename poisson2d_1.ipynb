{
 "cells": [
  {
   "cell_type": "code",
   "execution_count": null,
   "metadata": {
    "collapsed": false
   },
   "outputs": [],
   "source": [
    "from math import pi\n",
    "import numpy\n",
    "%matplotlib inline\n",
    "from matplotlib import pyplot\n",
    "from matplotlib import rcParams\n",
    "rcParams['font.family']='serif'\n",
    "rcParams['font.size']=16\n",
    "from laplace_helper import plot_3D"
   ]
  },
  {
   "cell_type": "code",
   "execution_count": null,
   "metadata": {
    "collapsed": true
   },
   "outputs": [],
   "source": [
    "ni=41\n",
    "nj=41\n",
    "xmin=0\n",
    "xmax=1\n",
    "ymin=0\n",
    "ymax=1\n",
    "e_target=2e-7"
   ]
  },
  {
   "cell_type": "code",
   "execution_count": null,
   "metadata": {
    "collapsed": true
   },
   "outputs": [],
   "source": [
    "def poisson_IG(nx,ny,n,xmax,xmin,ymax,ymin):\n",
    "    dx=(xmax-xmin)/(nx-1)\n",
    "    dy=(ymax-ymin)/(ny-1)\n",
    "    x=numpy.linspace(xmin,xmax,nx)\n",
    "    y=numpy.linspace(ymin,ymax,ny)\n",
    "    X,Y=meshgrid(x,y)\n",
    "    n=(min(ni,nj)-1)/2\n",
    "    f=-(2*pi*n)**2*numpy.sin(2*pi*n*X)*numpy.sin(2*pi*n*Y)\n",
    "    u0=numpy.zeros((ny,nx))\n",
    "    return X,Y,x,y,u0,f,dx,dy,n"
   ]
  },
  {
   "cell_type": "code",
   "execution_count": null,
   "metadata": {
    "collapsed": true
   },
   "outputs": [],
   "source": [
    "def poisson(u,f,dx,dy,e_target):\n",
    "    e_norm=1\n",
    "    iterations=0\n",
    "    e_conv=[]\n",
    "    while e_norm>e_target:\n",
    "        ud=u.copy()\n",
    "        u[1:-1,1:-1]=1/(2*(dx**2+dy**2))*\\\n",
    "                      ((ud[1:-1,2:]+ud[1:-1,:-2])*dy**2+\\\n",
    "                       (ud[2:,1:-1]+ud[:-2,1:-1])*dx**2-\\\n",
    "                        f[1:-1,1:-1]*dx**2*dy**2)\n",
    "        e_norm=numpy.sum((u-ud)**2)\n",
    "        iterations+=1\n",
    "        e_conv.append(e_norm)\n",
    "    print('Number of Jacobi iterations: {0:d}'.format(iterations))\n",
    "    return u, e_conv"
   ]
  },
  {
   "cell_type": "code",
   "execution_count": null,
   "metadata": {
    "collapsed": true
   },
   "outputs": [],
   "source": []
  }
 ],
 "metadata": {
  "kernelspec": {
   "display_name": "Python 3",
   "language": "python",
   "name": "python3"
  },
  "language_info": {
   "codemirror_mode": {
    "name": "ipython",
    "version": 3
   },
   "file_extension": ".py",
   "mimetype": "text/x-python",
   "name": "python",
   "nbconvert_exporter": "python",
   "pygments_lexer": "ipython3",
   "version": "3.5.0"
  }
 },
 "nbformat": 4,
 "nbformat_minor": 0
}
