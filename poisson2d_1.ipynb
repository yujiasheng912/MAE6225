{
 "cells": [
  {
   "cell_type": "code",
   "execution_count": null,
   "metadata": {
    "collapsed": false
   },
   "outputs": [],
   "source": [
    "from math import pi\n",
    "import numpy\n",
    "%matplotlib inline\n",
    "from matplotlib import pyplot\n",
    "from matplotlib import rcParams\n",
    "rcParams['font.family']='serif'\n",
    "rcParams['font.size']=16\n",
    "from mpl_toolkits.mplot3d import Axes3D\n",
    "from matplotlib import cm"
   ]
  },
  {
   "cell_type": "code",
   "execution_count": null,
   "metadata": {
    "collapsed": true
   },
   "outputs": [],
   "source": [
    "ni=41\n",
    "nj=41\n",
    "xmin=0\n",
    "xmax=1\n",
    "ymin=0\n",
    "ymax=1\n",
    "e_target=2e-5"
   ]
  },
  {
   "cell_type": "code",
   "execution_count": null,
   "metadata": {
    "collapsed": true
   },
   "outputs": [],
   "source": [
    "def plot_3D(x, y, u):    \n",
    "    fig = pyplot.figure(figsize=(11,7), dpi=100)\n",
    "    ax = fig.gca(projection='3d')\n",
    "    X,Y = numpy.meshgrid(x,y)\n",
    "    surf = ax.plot_surface(X,Y,u[:], rstride=1, cstride=1, cmap=cm.viridis,\n",
    "            linewidth=0, antialiased=False)\n",
    "\n",
    "    ax.set_xlim(xmin,xmax)\n",
    "    ax.set_ylim(ymin,ymax)\n",
    "    ax.set_xlabel('$x$')\n",
    "    ax.set_ylabel('$y$')\n",
    "    ax.set_zlabel('$u$')\n",
    "    ax.view_init(45,45)"
   ]
  },
  {
   "cell_type": "code",
   "execution_count": null,
   "metadata": {
    "collapsed": true
   },
   "outputs": [],
   "source": [
    "def poisson_exact1(x,y,n):\n",
    "    X,Y=numpy.meshgrid(x,y)\n",
    "    u_ex=numpy.sin(2*pi*n*X)*numpy.sin(2*pi*n*Y)\n",
    "    return u_ex"
   ]
  },
  {
   "cell_type": "code",
   "execution_count": null,
   "metadata": {
    "collapsed": true
   },
   "outputs": [],
   "source": [
    "def poisson_IG(nx,ny,xmax,xmin,ymax,ymin):\n",
    "    dx=(xmax-xmin)/(nx-1)\n",
    "    dy=(ymax-ymin)/(ny-1)\n",
    "    x=numpy.linspace(xmin,xmax,nx)\n",
    "    y=numpy.linspace(ymin,ymax,ny)\n",
    "    X,Y=numpy.meshgrid(x,y)\n",
    "    n=1\n",
    "    f=-(2*pi*n)**2*numpy.sin(2*pi*n*X)*numpy.sin(2*pi*n*Y)\n",
    "    u0=numpy.zeros((ny,nx))\n",
    "    return X,Y,x,y,u0,f,dx,dy,n"
   ]
  },
  {
   "cell_type": "code",
   "execution_count": null,
   "metadata": {
    "collapsed": false
   },
   "outputs": [],
   "source": [
    "X,Y,x,y,u0,f,dx,dy,n=poisson_IG(ni,nj,xmax,xmin,ymax,ymin)\n",
    "plot_3D(x,y,u0)"
   ]
  },
  {
   "cell_type": "code",
   "execution_count": null,
   "metadata": {
    "collapsed": false
   },
   "outputs": [],
   "source": [
    "u_ex1=poisson_exact1(x,y,n)\n",
    "plot_3D(x,y,u_ex1)"
   ]
  },
  {
   "cell_type": "code",
   "execution_count": null,
   "metadata": {
    "collapsed": true
   },
   "outputs": [],
   "source": [
    "def poisson(u,f,dx,dy,r_target):\n",
    "    e_norm=1\n",
    "    iterations=0\n",
    "    e_conv=[]\n",
    "    while e_norm>e_target:\n",
    "        ud=u.copy()\n",
    "        u[1:-1,1:-1]=1/(2*(dx**2+dy**2))*\\\n",
    "                      ((ud[1:-1,2:]+ud[1:-1,:-2])*dy**2+\\\n",
    "                       (ud[2:,1:-1]+ud[:-2,1:-1])*dx**2-\\\n",
    "                        f[1:-1,1:-1]*dx**2*dy**2)\n",
    "        e_norm=numpy.sum((u-u_exact)**2)\n",
    "        iterations+=1\n",
    "        e_conv.append(e_norm)\n",
    "    print('Number of Jacobi iterations: {0:d}'.format(iterations))\n",
    "    return u,e_conv"
   ]
  },
  {
   "cell_type": "code",
   "execution_count": null,
   "metadata": {
    "collapsed": true
   },
   "outputs": [],
   "source": [
    "u_exact=numpy.zeros((nj,ni))\n",
    "for j in range(nj):\n",
    "    for i in range(ni):\n",
    "        u_exact[j,i]=numpy.sin(2*pi*n*(i*dx-xmin))*numpy.sin(2*pi*n*(j*dy-ymin))"
   ]
  },
  {
   "cell_type": "code",
   "execution_count": null,
   "metadata": {
    "collapsed": false
   },
   "outputs": [],
   "source": [
    "u,e_conv=poisson(u0.copy(),f,dx,dy,e_target)"
   ]
  },
  {
   "cell_type": "code",
   "execution_count": null,
   "metadata": {
    "collapsed": true
   },
   "outputs": [],
   "source": []
  }
 ],
 "metadata": {
  "kernelspec": {
   "display_name": "Python 3",
   "language": "python",
   "name": "python3"
  },
  "language_info": {
   "codemirror_mode": {
    "name": "ipython",
    "version": 3
   },
   "file_extension": ".py",
   "mimetype": "text/x-python",
   "name": "python",
   "nbconvert_exporter": "python",
   "pygments_lexer": "ipython3",
   "version": "3.5.0"
  }
 },
 "nbformat": 4,
 "nbformat_minor": 0
}
