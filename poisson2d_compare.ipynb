{
 "cells": [
  {
   "cell_type": "code",
   "execution_count": 1,
   "metadata": {
    "collapsed": true
   },
   "outputs": [],
   "source": [
    "from math import pi\n",
    "import numpy\n",
    "%matplotlib inline\n",
    "from matplotlib import pyplot\n",
    "from matplotlib import rcParams\n",
    "rcParams['font.family']='serif'\n",
    "rcParams['font.size']=16\n",
    "from mpl_toolkits.mplot3d import Axes3D\n",
    "from matplotlib import cm\n",
    "import numba\n",
    "from numba import jit"
   ]
  },
  {
   "cell_type": "code",
   "execution_count": 2,
   "metadata": {
    "collapsed": true
   },
   "outputs": [],
   "source": [
    "def plot_3D(x,y,u):    \n",
    "    fig = pyplot.figure(figsize=(11,7), dpi=100)\n",
    "    ax = fig.gca(projection='3d')\n",
    "    X,Y = numpy.meshgrid(x,y)\n",
    "    surf = ax.plot_surface(X,Y,u[:], rstride=1, cstride=1, cmap=cm.viridis,\n",
    "            linewidth=0, antialiased=False)\n",
    "\n",
    "    ax.set_xlim(0,1)\n",
    "    ax.set_ylim(0,1)\n",
    "    ax.set_xlabel('$x$') \n",
    "    ax.set_ylabel('$y$')\n",
    "    ax.set_zlabel('$u$')\n",
    "    ax.view_init(30,45)"
   ]
  },
  {
   "cell_type": "code",
   "execution_count": 3,
   "metadata": {
    "collapsed": true
   },
   "outputs": [],
   "source": [
    "@jit\n",
    "def SORsin(ni,nj,n,res_target,omega):\n",
    "    dx=1./(ni-1)\n",
    "    dy=1./(nj-1)\n",
    "    x=numpy.linspace(-dx/2,1+dx/2,ni+1)\n",
    "    y=numpy.linspace(-dy/2,1+dy/2,nj+1)\n",
    "    \n",
    "    X,Y=numpy.meshgrid(x,y)\n",
    "    f=-2*(2*pi*n)**2*numpy.sin(2*pi*n*X)*numpy.sin(2*pi*n*Y)\n",
    "    u_ex=numpy.sin(2*pi*n*X)*numpy.sin(2*pi*n*Y)\n",
    "    u0=numpy.random.random((nj+1,ni+1))\n",
    "    u=u0.copy()\n",
    "    \n",
    "    dif=numpy.zeros((nj+1,ni+1))\n",
    "    err=numpy.zeros((nj+1,ni+1))\n",
    "    res=numpy.zeros((nj+1,ni+1))\n",
    "    res_max=1e3\n",
    "    iterations=0\n",
    "    \n",
    "    while res_max>res_target:\n",
    "        uold=u.copy()\n",
    "        for j in range(1,nj):\n",
    "            for i in range(1,ni):\n",
    "                \n",
    "                if j==1 and i==1:\n",
    "                    u[j,i]=omega/(3*(dx**2+dy**2))*\\\n",
    "                           (u[j,i+1]*dy**2+u[j+1,i]*dx**2-f[j,i]*dx**2*dy**2)+(1-omega)*u[j,i]\n",
    "                elif j==1 and i==ni-1:\n",
    "                    u[j,i]=omega/(3*(dx**2+dy**2))*\\\n",
    "                           (u[j,i-1]*dy**2+u[j+1,i]*dx**2-f[j,i]*dx**2*dy**2)+(1-omega)*u[j,i]\n",
    "                elif j==nj-1 and i==1:\n",
    "                    u[j,i]=omega/(3*(dx**2+dy**2))*\\\n",
    "                           (u[j,i+1]*dy**2+u[j-1,i]*dx**2-f[j,i]*dx**2*dy**2)+(1-omega)*u[j,i]\n",
    "                elif j==nj-1 and i==ni-1:\n",
    "                    u[j,i]=omega/(3*(dx**2+dy**2))*\\\n",
    "                           (u[j,i-1]*dy**2+u[j-1,i]*dx**2-f[j,i]*dx**2*dy**2)+(1-omega)*u[j,i]\n",
    "                elif j==1:\n",
    "                    u[j,i]=omega/(3*dx**2+2*dy**2)*\\\n",
    "                           (u[j+1,i]*dx**2+(u[j,i+1]+u[j,i-1])*dy**2-f[j,i]*dx**2*dy**2)+(1-omega)*u[j,i]\n",
    "                elif i==1:\n",
    "                    u[j,i]=omega/(2*dx**2+3*dy**2)*\\\n",
    "                           (u[j,i+1]*dy**2+(u[j+1,i]+u[j-1,i])*dx**2-f[j,i]*dx**2*dy**2)+(1-omega)*u[j,i]\n",
    "                elif j==nj-1:\n",
    "                    u[j,i]=omega/(3*dx**2+2*dy**2)*\\\n",
    "                           (u[j-1,i]*dx**2+(u[j,i+1]+u[j,i-1])*dy**2-f[j,i]*dx**2*dy**2)+(1-omega)*u[j,i]\n",
    "                elif i==ni-1:\n",
    "                    u[j,i]=omega/(2*dx**2+3*dy**2)*\\\n",
    "                           (u[j,i-1]*dy**2+(u[j+1,i]+u[j-1,i])*dx**2-f[j,i]*dx**2*dy**2)+(1-omega)*u[j,i]\n",
    "                else:\n",
    "                \n",
    "                    u[j,i]=omega/(2*(dx**2+dy**2))*((u[j,i-1]+u[j,i+1])*dy**2+\\\n",
    "                       (u[j-1,i]+u[j+1,i])*dx**2-f[j,i]*dx**2*dy**2)+(1-omega)*u[j,i]\n",
    "                \n",
    "        \n",
    "        u[0,:]=-u[1,:] \n",
    "        u[-1,:]=-u[-2,:]\n",
    "        u[:,0]=-u[:,1]\n",
    "        u[:,-1]=-u[:,-2]\n",
    "        \n",
    "        for j in range(1,nj):\n",
    "            for i in range(1,ni):\n",
    "                res[j,i]=numpy.abs(f[j,i]-(u[j,i-1]-2*u[j,i]+u[j,i+1])/dx**2-\\\n",
    "                                  (u[j-1,i]-2*u[j,i]+u[j+1,i])/dy**2)\n",
    "        res_max=numpy.max(res)\n",
    "        \n",
    "        iterations+=1\n",
    "        \n",
    "    for j in range(nj+1):\n",
    "        for i in range(ni+1):\n",
    "            dif[j,i]=numpy.abs(u[j,i]-uold[j,i])\n",
    "            err[j,i]=numpy.abs(u[j,i]-u_ex[j,i])\n",
    "            \n",
    "    dif_max=numpy.max(dif)\n",
    "    err_max=numpy.max(err)\n",
    "    \n",
    "    A=numpy.array([u,x,y,dif_max,err_max,res_max,iterations])\n",
    "    \n",
    "    return A"
   ]
  },
  {
   "cell_type": "code",
   "execution_count": 4,
   "metadata": {
    "collapsed": true
   },
   "outputs": [],
   "source": [
    "@jit\n",
    "def SORcos(ni,nj,n,res_target,omega):\n",
    "    dx=1./(ni-1)\n",
    "    dy=1./(nj-1)\n",
    "    x=numpy.linspace(-dx/2,1+dx/2,ni+1)\n",
    "    y=numpy.linspace(-dy/2,1+dy/2,nj+1)\n",
    "    \n",
    "    X,Y=numpy.meshgrid(x,y)\n",
    "    f=-2*(2*pi*n)**2*numpy.cos(2*pi*n*X)*numpy.cos(2*pi*n*Y)\n",
    "    u_ex=numpy.cos(2*pi*n*X)*numpy.cos(2*pi*n*Y)\n",
    "    u0=numpy.random.random((nj+1,ni+1))\n",
    "    u=u0.copy()\n",
    "    dif=numpy.zeros((nj+1,ni+1))\n",
    "    err=numpy.zeros((nj+1,ni+1))\n",
    "    res=numpy.zeros((nj+1,ni+1))\n",
    "    res_max=1e3\n",
    "    iterations=0\n",
    "    \n",
    "    while res_max>res_target:\n",
    "        uold=u.copy()\n",
    "        for j in range(1,nj):\n",
    "            for i in range(1,ni):\n",
    "                u[j,i]=omega/(2*(dx**2+dy**2))*((u[j,i-1]+u[j,i+1])*dy**2+\\\n",
    "                       (u[j-1,i]+u[j+1,i])*dx**2-f[j,i]*dx**2*dy**2)+\\\n",
    "                       (1-omega)*u[j,i]\n",
    "                    \n",
    "        u[0,:]=2*numpy.cos(2*pi*n*x)-u[1,:]\n",
    "        u[-1,:]=u[-2,:]\n",
    "        u[:,0]=u[:,1]\n",
    "        u[:,-1]=u[:,-2]\n",
    "        \n",
    "        for j in range(1,nj):\n",
    "            for i in range(1,ni):\n",
    "                res[j,i]=numpy.abs(f[j,i]-(u[j,i-1]-2*u[j,i]+u[j,i+1])/dx**2-\\\n",
    "                                  (u[j-1,i]-2*u[j,i]+u[j+1,i])/dy**2)\n",
    "        res_max=numpy.max(res)\n",
    "        iterations+=1\n",
    "        \n",
    "    for j in range(nj+1):\n",
    "        for i in range(ni+1):\n",
    "            dif[j,i]=numpy.abs(u[j,i]-uold[j,i])\n",
    "            err[j,i]=numpy.abs(u[j,i]-u_ex[j,i])\n",
    "    \n",
    "    dif_max=numpy.max(dif)\n",
    "    err_max=numpy.max(err)\n",
    "    \n",
    "    A=numpy.array([u,x,y,dif_max,err_max,res_max,iterations])\n",
    "    \n",
    "    return A"
   ]
  },
  {
   "cell_type": "code",
   "execution_count": 5,
   "metadata": {
    "collapsed": false
   },
   "outputs": [
    {
     "data": {
      "image/png": "[encoded data removed]",
      "text/plain": [
       "<matplotlib.figure.Figure at 0x7f3f02f354e0>"
      ]
     },
     "metadata": {},
     "output_type": "display_data"
    }
   ],
   "source": [
    "error_SORsin_grid=[]\n",
    "error_SORcos_grid=[]\n",
    "ninj=[]\n",
    "for ni in range(41,102,20):\n",
    "    for nj in range(41,102,20):\n",
    "        error_SORsin_grid.append(SORsin(ni,nj,1,1e-9,1.9)[4])\n",
    "        error_SORcos_grid.append(SORcos(ni,nj,1,1e-9,1.9)[4])\n",
    "        ninj.append(ni*nj)\n",
    "        \n",
    "pyplot.figure(figsize=(10,6))\n",
    "pyplot.grid(True)\n",
    "pyplot.xlabel('$ni \\cdot nj$')\n",
    "pyplot.ylabel('error')\n",
    "pyplot.plot(ninj,error_SORsin_grid,'o')\n",
    "pyplot.plot(ninj,error_SORcos_grid,'x')\n",
    "pyplot.title('Error for different grid numbers, SOR method, n=1',fontsize=18)\n",
    "pyplot.legend(['sin error','cos error']);"
   ]
  },
  {
   "cell_type": "code",
   "execution_count": null,
   "metadata": {
    "collapsed": true
   },
   "outputs": [],
   "source": []
  }
 ],
 "metadata": {
  "kernelspec": {
   "display_name": "Python 3",
   "language": "python",
   "name": "python3"
  },
  "language_info": {
   "codemirror_mode": {
    "name": "ipython",
    "version": 3
   },
   "file_extension": ".py",
   "mimetype": "text/x-python",
   "name": "python",
   "nbconvert_exporter": "python",
   "pygments_lexer": "ipython3",
   "version": "3.4.4"
  }
 },
 "nbformat": 4,
 "nbformat_minor": 0
}
