{
 "cells": [
  {
   "cell_type": "code",
   "execution_count": null,
   "metadata": {
    "collapsed": true
   },
   "outputs": [],
   "source": [
    "from matplotlib import pyplot,cm\n",
    "from math import pi\n",
    "import numpy\n",
    "%matplotlib inline\n",
    "from matplotlib import rcParams\n",
    "rcParams['font.family'] = 'serif'\n",
    "rcParams['font.size'] = 16\n",
    "from mpl_toolkits.mplot3d import Axes3D\n",
    "import numba\n",
    "from numba import jit"
   ]
  },
  {
   "cell_type": "code",
   "execution_count": null,
   "metadata": {
    "collapsed": true
   },
   "outputs": [],
   "source": [
    "ni=51\n",
    "nj=51\n",
    "dx=2*pi/(ni-1)\n",
    "dy=2*pi/(nj-1)\n",
    "x=numpy.linspace(-dx/2,2*pi+dx/2,ni+1)\n",
    "y=numpy.linspace(-dy/2,2*pi+dy/2,nj+1)\n",
    "xu=numpy.linspace(0,2*pi+dx,ni+1)\n",
    "yu=numpy.linspace(-dy/2,2*pi+dy/2,nj+1)\n",
    "xv=numpy.linspace(-dx/2,2*pi+dx/2,ni+1)\n",
    "yv=numpy.linspace(0,2*pi+dy,nj+1)\n",
    "\n",
    "X,Y=numpy.meshgrid(x,y)\n",
    "Xu,Yu=numpy.meshgrid(xu,yu)\n",
    "Xv,Yv=numpy.meshgrid(xv,yv)\n",
    "\n",
    "u0=-numpy.cos(Xu)*numpy.sin(Yu)\n",
    "v0=numpy.sin(Xv)*numpy.cos(Yv)\n",
    "p0=numpy.cos(2*X)+numpy.cos(2*Y)\n",
    "omega0=numpy.zeros((nj+1,ni+1))\n",
    "for i in range(ni):\n",
    "    for j in range(nj):\n",
    "        omega0[j,i]=(v0[j,i+1]-v0[j,i])/dx-(u0[j+1,i]-u0[j,i])/dy"
   ]
  },
  {
   "cell_type": "code",
   "execution_count": null,
   "metadata": {
    "collapsed": false
   },
   "outputs": [],
   "source": [
    "pyplot.figure(figsize=(6.5,5))\n",
    "pyplot.contour(X[1:-1,1:-1],Y[1:-1,1:-1],omega0[1:-1,1:-1],10)\n",
    "pyplot.colorbar()\n",
    "pyplot.quiver(X[1:-1:3,1:-1:3],Y[1:-1:3,1:-1:3],u0[1:-1:3,1:-1:3],v0[1:-1:3,1:-1:3],scale=13)\n",
    "pyplot.xlabel('$x$')\n",
    "pyplot.ylabel('$y$')\n",
    "pyplot.title('vorticity and velocity vectors');"
   ]
  },
  {
   "cell_type": "code",
   "execution_count": null,
   "metadata": {
    "collapsed": true
   },
   "outputs": [],
   "source": [
    "dt=0.05\n",
    "T=10\n",
    "nt=int(T/dt)\n",
    "t=0\n",
    "u=u0.copy()\n",
    "v=v0.copy()\n",
    "p=p0.copy()"
   ]
  },
  {
   "cell_type": "code",
   "execution_count": null,
   "metadata": {
    "collapsed": true
   },
   "outputs": [],
   "source": [
    "def uex(t,X,Y):\n",
    "    return -numpy.exp(-2*t)*numpy.cos(X)*numpy.sin(Y)\n",
    "\n",
    "def vex(t,X,Y):\n",
    "    return numpy.exp(-2*t)*numpy.sin(X)*numpy.cos(Y)\n",
    "\n",
    "def pex(t,X,Y):\n",
    "    return -numpy.exp(-4*t)*numpy.cos(2*X)*numpy.cos(2*Y)/4"
   ]
  },
  {
   "cell_type": "code",
   "execution_count": null,
   "metadata": {
    "collapsed": true
   },
   "outputs": [],
   "source": [
    "@jit\n",
    "def Fc1(u,v,i,j,dx,dy):\n",
    "    nj,ni=numpy.shape(u)-numpy.array((1,1))\n",
    "    if i==0 and j==0:\n",
    "        F=-((u[j,i]+u[j,i+1])**2-(u[j,i]+u[j,ni-2])**2)/4/dx-\\\n",
    "            ((u[j,i]+u[j+1,i])*(v[j,i+1]+v[j,i])-\\\n",
    "            (u[j,i]+u[nj-2,i])*(v[nj-2,i+1]+v[nj-2,i]))/4/dy\n",
    "    elif i==0 and j==nj:\n",
    "        F=-((u[j,i]+u[j,i+1])**2-(u[j,i]+u[j,ni-2])**2)/4/dx-\\\n",
    "            ((u[j,i]+u[2,i])*(v[j,i+1]+v[j,i])-\\\n",
    "            (u[j,i]+u[j-1,i])*(v[j-1,i+1]+v[j-1,i]))/4/dy\n",
    "    elif i==ni and j==0:\n",
    "        F=-((u[j,i]+u[j,2])**2-(u[j,i]+u[j,i-1])**2)/4/dx-\\\n",
    "            ((u[j,i]+u[j+1,i])*(v[j,2]+v[j,i])-\\\n",
    "            (u[j,i]+u[nj-2,i])*(v[nj-2,2]+v[nj-2,i]))/4/dy\n",
    "    elif i==ni and j==nj:\n",
    "        F=-((u[j,i]+u[j,2])**2-(u[j,i]+u[j,i-1])**2)/4/dx-\\\n",
    "            ((u[j,i]+u[2,i])*(v[j,2]+v[j,i])-\\\n",
    "            (u[j,i]+u[j-1,i])*(v[j-1,i+1]+v[j-1,i]))/4/dy\n",
    "    elif j==0:\n",
    "        F=-((u[j,i]+u[j,i+1])**2-(u[j,i]+u[j,i-1])**2)/4/dx-\\\n",
    "            ((u[j,i]+u[j+1,i])*(v[j,i+1]+v[j,i])-\\\n",
    "            (u[j,i]+u[nj-2,i])*(v[nj-2,i+1]+v[nj-2,i]))/4/dy\n",
    "    elif i==0:\n",
    "        F=-((u[j,i]+u[j,i+1])**2-(u[j,i]+u[j,ni-2])**2)/4/dx-\\\n",
    "            ((u[j,i]+u[j+1,i])*(v[j,i+1]+v[j,i])-\\\n",
    "            (u[j,i]+u[j-1,i])*(v[j-1,i+1]+v[j-1,i]))/4/dy\n",
    "    elif j==nj:\n",
    "        F=-((u[j,i]+u[j,i+1])**2-(u[j,i]+u[j,i-1])**2)/4/dx-\\\n",
    "            ((u[j,i]+u[2,i])*(v[j,i+1]+v[j,i])-\\\n",
    "            (u[j,i]+u[j-1,i])*(v[j-1,i+1]+v[j-1,i]))/4/dy\n",
    "    elif i==ni:\n",
    "        F=-((u[j,i]+u[j,2])**2-(u[j,i]+u[j,i-1])**2)/4/dx-\\\n",
    "            ((u[j,i]+u[j+1,i])*(v[j,2]+v[j,i])-\\\n",
    "            (u[j,i]+u[j-1,i])*(v[j-1,2]+v[j-1,i]))/4/dy\n",
    "    else:\n",
    "        F=-((u[j,i]+u[j,i+1])**2-(u[j,i]+u[j,i-1])**2)/4/dx-\\\n",
    "            ((u[j,i]+u[j+1,i])*(v[j,i+1]+v[j,i])-\\\n",
    "            (u[j,i]+u[j-1,i])*(v[j-1,i+1]+v[j-1,i]))/4/dy    \n",
    "    return F"
   ]
  },
  {
   "cell_type": "code",
   "execution_count": null,
   "metadata": {
    "collapsed": true
   },
   "outputs": [],
   "source": [
    "@jit\n",
    "def Fc2(u,v,i,j,dx,dy):\n",
    "    nj,ni=numpy.shape(u)-numpy.array((1,1))\n",
    "    if i==0 and j==0:\n",
    "        F=-((u[j+1,i]+u[j,i])*(v[j,i]+v[j,i+1])-\\\n",
    "            (u[j+1,ni-2]+u[j,ni-2])*(v[j,i]+v[j,ni-2]))/4/dx-\\\n",
    "            ((v[j,i]+v[j+1,i])**2-(v[j,i]+v[nj-2,i])**2)/4/dy\n",
    "    elif i==0 and j==nj:\n",
    "        F=-((u[2,i]+u[j,i])*(v[j,i]+v[j,i+1])-\\\n",
    "            (u[2,ni-2]+u[j,ni-2])*(v[j,i]+v[j,ni-2]))/4/dx-\\\n",
    "            ((v[j,i]+v[2,i])**2-(v[j,i]+v[j-1,i])**2)/4/dy\n",
    "    elif i==ni and j==0:\n",
    "        F=-((u[j+1,i]+u[j,i])*(v[j,i]+v[j,2])-\\\n",
    "            (u[j+1,i-1]+u[j,i-1])*(v[j,i]+v[j,i-1]))/4/dx-\\\n",
    "            ((v[j,i]+v[j+1,i])**2-(v[j,i]+v[nj-2,i])**2)/4/dy\n",
    "    elif i==ni and j==nj:\n",
    "        F=-((u[2,i]+u[j,i])*(v[j,i]+v[j,2])-\\\n",
    "            (u[2,i-1]+u[j,i-1])*(v[j,i]+v[j,i-1]))/4/dx-\\\n",
    "            ((v[j,i]+v[2,i])**2-(v[j,i]+v[j-1,i])**2)/4/dy\n",
    "    elif j==0:\n",
    "        F=-((u[j+1,i]+u[j,i])*(v[j,i]+v[j,i+1])-\\\n",
    "            (u[j+1,i-1]+u[j,i-1])*(v[j,i]+v[j,i-1]))/4/dx-\\\n",
    "            ((v[j,i]+v[j+1,i])**2-(v[j,i]+v[nj-2,i])**2)/4/dy\n",
    "    elif i==0:\n",
    "        F=-((u[j+1,i]+u[j,i])*(v[j,i]+v[j,i+1])-\\\n",
    "            (u[j+1,ni-2]+u[j,ni-2])*(v[j,i]+v[j,ni-2]))/4/dx-\\\n",
    "            ((v[j,i]+v[j+1,i])**2-(v[j,i]+v[j-1,i])**2)/4/dy\n",
    "    elif j==nj:\n",
    "        F=-((u[2,i]+u[j,i])*(v[j,i]+v[j,i+1])-\\\n",
    "            (u[2,i-1]+u[j,i-1])*(v[j,i]+v[j,i-1]))/4/dx-\\\n",
    "            ((v[j,i]+v[2,i])**2-(v[j,i]+v[j-1,i])**2)/4/dy\n",
    "    elif i==ni:\n",
    "        F=--((u[j+1,i]+u[j,i])*(v[j,i]+v[j,2])-\\\n",
    "            (u[j+1,i-1]+u[j,i-1])*(v[j,i]+v[j,i-1]))/4/dx-\\\n",
    "            ((v[j,i]+v[j+1,i])**2-(v[j,i]+v[j-1,i])**2)/4/dy\n",
    "    else:\n",
    "        F=-((u[j+1,i]+u[j,i])*(v[j,i]+v[j,i+1])-\\\n",
    "            (u[j+1,i-1]+u[j,i-1])*(v[j,i]+v[j,i-1]))/4/dx-\\\n",
    "            ((v[j,i]+v[j+1,i])**2-(v[j,i]+v[j-1,i])**2)/4/dy\n",
    "    return F"
   ]
  },
  {
   "cell_type": "code",
   "execution_count": null,
   "metadata": {
    "collapsed": true
   },
   "outputs": [],
   "source": [
    "@jit\n",
    "def Fv1(u,v,i,j,dx,dy):\n",
    "    nj,ni=numpy.shape(u)-numpy.array((1,1))\n",
    "    if i==0 and j==0:\n",
    "        F=(u[j,i+1]-2*u[j,i]+u[j,ni-2])/dx**2+(u[j+1,i]-2*u[j,i]+u[nj-2,i])/dy**2\n",
    "    elif i==0 and j==nj:\n",
    "        F=(u[j,i+1]-2*u[j,i]+u[j,ni-2])/dx**2+(u[2,i]-2*u[j,i]+u[j-1,i])/dy**2\n",
    "    elif i==ni and j==0:\n",
    "        F=(u[j,2]-2*u[j,i]+u[j,i-1])/dx**2+(u[j+1,i]-2*u[j,i]+u[nj-2,i])/dy**2\n",
    "    elif i==ni and j==nj:\n",
    "        F=(u[j,2]-2*u[j,i]+u[j,i-1])/dx**2+(u[2,i]-2*u[j,i]+u[j-1,i])/dy**2\n",
    "    elif j==0:\n",
    "        F=(u[j,i+1]-2*u[j,i]+u[j,i-1])/dx**2+(u[j+1,i]-2*u[j,i]+u[nj-2,i])/dy**2\n",
    "    elif i==0:\n",
    "        F=(u[j,i+1]-2*u[j,i]+u[j,ni-2])/dx**2+(u[j+1,i]-2*u[j,i]+u[j-1,i])/dy**2\n",
    "    elif j==nj:\n",
    "        F=(u[j,i+1]-2*u[j,i]+u[j,i-1])/dx**2+(u[2,i]-2*u[j,i]+u[j-1,i])/dy**2\n",
    "    elif i==ni:\n",
    "        F=(u[j,2]-2*u[j,i]+u[j,i-1])/dx**2+(u[j+1,i]-2*u[j,i]+u[j-1,i])/dy**2\n",
    "    else:\n",
    "        F=(u[j,i+1]-2*u[j,i]+u[j,i-1])/dx**2+(u[j+1,i]-2*u[j,i]+u[j-1,i])/dy**2\n",
    "    return F"
   ]
  },
  {
   "cell_type": "code",
   "execution_count": null,
   "metadata": {
    "collapsed": true
   },
   "outputs": [],
   "source": [
    "@jit\n",
    "def Fv2(u,v,i,j,dx,dy):\n",
    "    nj,ni=numpy.shape(u)-numpy.array((1,1))\n",
    "    if i==0 and j==0:\n",
    "        F=(v[j,i+1]-2*v[j,i]+v[j,ni-2])/dx**2+(v[j+1,i]-2*v[j,i]+v[nj-2,i])/dy**2\n",
    "    elif i==0 and j==nj:\n",
    "        F=(v[j,i+1]-2*v[j,i]+v[j,ni-2])/dx**2+(v[2,i]-2*v[j,i]+v[j-1,i])/dy**2\n",
    "    elif i==ni and j==0:\n",
    "        F=(v[j,2]-2*v[j,i]+v[j,i-1])/dx**2+(v[j+1,i]-2*v[j,i]+v[nj-2,i])/dy**2\n",
    "    elif i==ni and j==nj:\n",
    "        F=(v[j,2]-2*v[j,i]+v[j,i-1])/dx**2+(v[2,i]-2*v[j,i]+v[j-1,i])/dy**2\n",
    "    elif j==0:\n",
    "        F=(v[j,i+1]-2*v[j,i]+v[j,i-1])/dx**2+(v[j+1,i]-2*v[j,i]+v[nj-2,i])/dy**2\n",
    "    elif i==0:\n",
    "        F=(v[j,i+1]-2*v[j,i]+v[j,ni-2])/dx**2+(v[j+1,i]-2*v[j,i]+v[j-1,i])/dy**2\n",
    "    elif j==nj:\n",
    "        F=(v[j,i+1]-2*v[j,i]+v[j,i-1])/dx**2+(v[2,i]-2*v[j,i]+v[j-1,i])/dy**2\n",
    "    elif i==ni:\n",
    "        F=(v[j,2]-2*v[j,i]+v[j,i-1])/dx**2+(v[j+1,i]-2*v[j,i]+v[j-1,i])/dy**2\n",
    "    else:\n",
    "        F=(v[j,i+1]-2*v[j,i]+v[j,i-1])/dx**2+(v[j+1,i]-2*v[j,i]+v[j-1,i])/dy**2\n",
    "    return F"
   ]
  },
  {
   "cell_type": "code",
   "execution_count": null,
   "metadata": {
    "collapsed": false
   },
   "outputs": [],
   "source": [
    "@jit\n",
    "def Fp1(p,i,j,dx,dy):\n",
    "    nj,ni=numpy.shape(u)-numpy.array((1,1))\n",
    "    if i==ni:\n",
    "        F=(p[j,2]-p[j,i])/dx\n",
    "    else:\n",
    "        F=(p[j,i+1]-p[j,i])/dx\n",
    "    return F"
   ]
  },
  {
   "cell_type": "code",
   "execution_count": null,
   "metadata": {
    "collapsed": true
   },
   "outputs": [],
   "source": [
    "@jit\n",
    "def Fp2(p,i,j,dx,dy):\n",
    "    nj,ni=numpy.shape(u)-numpy.array((1,1))\n",
    "    if j==nj:\n",
    "        F=(p[2,i]-p[j,i])/dy\n",
    "    else:\n",
    "        F=(p[j+1,i]-p[j,i])/dy\n",
    "    return F"
   ]
  },
  {
   "cell_type": "code",
   "execution_count": null,
   "metadata": {
    "collapsed": true
   },
   "outputs": [],
   "source": [
    "@jit\n",
    "def poisson(f,N,omega):\n",
    "    nj,ni=numpy.shape(f)-numpy.array((1,1))\n",
    "    p=numpy.zeros(numpy.shape(f))\n",
    "    res=numpy.zeros(numpy.shape(f))\n",
    "    res_max=1e3\n",
    "    n=0\n",
    "    while n<N:\n",
    "        \n",
    "        for j in range(1,nj):\n",
    "            for i in range(1,ni):\n",
    "                p[j,i]=omega/(2*(dx**2+dy**2))*((p[j,i-1]+p[j,i+1])*dy**2+\\\n",
    "                       (p[j-1,i]+p[j+1,i])*dx**2-f[j,i]*dx**2*dy**2)+\\\n",
    "                       (1-omega)*p[j,i]\n",
    "        p[0,:]=p[1,:]\n",
    "        p[-1,:]=p[-2,:]\n",
    "        p[:,0]=p[:,1]\n",
    "        p[:,-1]=p[:,-2]             \n",
    "        n+=1\n",
    "        \n",
    "    for j in range(1,nj):\n",
    "        for i in range(1,ni):\n",
    "            res[j,i]=numpy.abs(f[j,i]-(p[j,i-1]-2*p[j,i]+p[j,i+1])/dx**2-\\\n",
    "                            (p[j-1,i]-2*p[j,i]+p[j+1,i])/dy**2)\n",
    "            \n",
    "        res_max=numpy.max(res)\n",
    "    return p,res_max"
   ]
  },
  {
   "cell_type": "code",
   "execution_count": null,
   "metadata": {
    "collapsed": false
   },
   "outputs": [],
   "source": [
    "G1=numpy.zeros((nj+1,ni+1))\n",
    "G2=numpy.zeros((nj+1,ni+1))\n",
    "w1=numpy.zeros((nj+1,ni+1))\n",
    "w2=numpy.zeros((nj+1,ni+1))\n",
    "f=numpy.zeros((nj+1,ni+1))\n",
    "for j in range(nj):\n",
    "    for i in range(ni):\n",
    "        G1[j,i]=Fc1(u,v,i,j,dx,dy)+Fv1(u,v,i,j,dx,dy)\n",
    "        G2[j,i]=Fc2(u,v,i,j,dx,dy)+Fv2(u,v,i,j,dx,dy)\n",
    "        w1[j,i]=u[j,i]+dt*G1[j,i]/3\n",
    "        w2[j,i]=v[j,i]+dt*G2[j,i]/3\n",
    "#w1[0,;]=u[0,:]+dt*((u[0,i+1]-2*u[0,i]+u[0,i-1])/dx**2+(2*u[1,i]-2*u[0,i])/dy**2)\n",
    "        f[j,i]=3./dt*((w1[j,i+1]-w1[j,i])/dx+(w2[j+1,i]-w2[j,i])/dy)"
   ]
  },
  {
   "cell_type": "code",
   "execution_count": null,
   "metadata": {
    "collapsed": false
   },
   "outputs": [],
   "source": [
    "pyplot.figure(figsize=(8,6))\n",
    "pyplot.contour(X[1:-1,1:-1],Y[1:-1,1:-1],f[1:-1,1:-1],10)\n",
    "pyplot.colorbar()\n",
    "pyplot.quiver(X[1:-1:3,1:-1:3],Y[1:-1:3,1:-1:3],w1[1:-1:3,1:-1:3],w1[1:-1:3,1:-1:3],scale=13)\n",
    "pyplot.xlabel('$x$')\n",
    "pyplot.ylabel('$y$')"
   ]
  },
  {
   "cell_type": "code",
   "execution_count": null,
   "metadata": {
    "collapsed": false,
    "scrolled": false
   },
   "outputs": [],
   "source": [
    "p,res=poisson(f,1000,1.4)\n",
    "print(res)"
   ]
  },
  {
   "cell_type": "code",
   "execution_count": null,
   "metadata": {
    "collapsed": false
   },
   "outputs": [],
   "source": [
    "numpy.shape(f)"
   ]
  },
  {
   "cell_type": "code",
   "execution_count": null,
   "metadata": {
    "collapsed": false
   },
   "outputs": [],
   "source": [
    "plot_3D(x,y,u)"
   ]
  },
  {
   "cell_type": "code",
   "execution_count": null,
   "metadata": {
    "collapsed": false
   },
   "outputs": [],
   "source": [
    "pyplot.plot()"
   ]
  },
  {
   "cell_type": "code",
   "execution_count": null,
   "metadata": {
    "collapsed": true
   },
   "outputs": [],
   "source": [
    "p=poisson(f,1e-6,1.8)\n",
    "for j in range(1,nj):\n",
    "        for i in range(1,ni):\n",
    "            u[j,i]=w1[j,i]+dt/3*Fp1(p,i,j,dx,dy)\n",
    "            v[j,i]=w2[j,i]+dt/3*Fp2(p,i,j,dx,dy)\n",
    "            \n",
    "            G1[j,i]=-5./9*G1[j,i]+Fc1(u,v,i,j,dx,dy)+Fv1(u,v,i,j,dx,dy)\n",
    "            G2[j,i]=-5./9*G2[j,i]+Fc2(u,v,i,j,dx,dy)+Fv2(u,v,i,j,dx,dy)\n",
    "            w1[j,i]=u[j,i]+dt*15./16*G1[j,i]\n",
    "            w2[j,i]=v[j,i]+dt*15./16*G2[j,i]\n",
    "            f[j,i]=12./5/dt*((w1[j,i+1]-w1[j,i-1])/2/dx+(w2[j+1,i]-w2[j-1,i])/2/dy)\n",
    "    p=poisson(f,1e-6,1.8)\n",
    "    for j in range(1,nj):\n",
    "        for i in range(1,ni):\n",
    "            u[j,i]=w1[j,i]+5./12*dt*Fp1(p,i,j,dx,dy)\n",
    "            v[j,i]=w2[j,i]+5./12*dt*Fp2(p,i,j,dx,dy)\n",
    "            \n",
    "            G1[j,i]=-153./128*G1[j,i]+Fc1(u,v,i,j,dx,dy)+Fv1(u,v,i,j,dx,dy)\n",
    "            G2[j,i]=-153./128*G2[j,i]+Fc2(u,v,i,j,dx,dy)+Fv2(u,v,i,j,dx,dy)\n",
    "            w1[j,i]=u[j,i]+8./15*dt*G1[j,i]\n",
    "            w2[j,i]=v[j,i]+8./15*dt*G2[j,i]\n",
    "            f[j,i]=4./dt*((w1[j,i+1]-w1[j,i-1])/2/dx+(w2[j+1,i]-w2[j-1,i])/2/dy)\n",
    "    p=poisson(f,1e-6,1.8)\n",
    "    for j in range(1,nj):\n",
    "        for i in range(1,ni):\n",
    "            u[j,i]=w1[j,i]+dt/4*Fp1(p,i,j,dx,dy)\n",
    "            v[j,i]=w2[j,i]+dt/4*Fp2(p,i,j,dx,dy)\n",
    "    t+=1"
   ]
  },
  {
   "cell_type": "code",
   "execution_count": null,
   "metadata": {
    "collapsed": false
   },
   "outputs": [],
   "source": [
    "ut"
   ]
  },
  {
   "cell_type": "code",
   "execution_count": null,
   "metadata": {
    "collapsed": false
   },
   "outputs": [],
   "source": [
    "pyplot.figure(figsize=(8,6))\n",
    "pyplot.contour(X[1:-1,1:-1],Y[1:-1,1:-1],omega[1:-1,1:-1],10)\n",
    "pyplot.colorbar();\n",
    "pyplot.quiver(X[1:-1:3,1:-1:3],Y[1:-1:3,1:-1:3],ut[1:-1:3,1:-1:3],vt[1:-1:3,1:-1:3],scale=13)\n",
    "pyplot.xlabel('$x$')\n",
    "pyplot.ylabel('$y$')"
   ]
  },
  {
   "cell_type": "code",
   "execution_count": null,
   "metadata": {
    "collapsed": false
   },
   "outputs": [],
   "source": [
    "\n",
    "omega=numpy.zeros((nj+1,ni+1))\n",
    "for i in range(1,ni-1):\n",
    "    for j in range(1,nj-1):\n",
    "        omega[j,i]=(vt[j,i+1]-vt[j,i-1])/2/dx-(ut[j+1,i]-ut[j-1,i])/2/dy"
   ]
  },
  {
   "cell_type": "code",
   "execution_count": null,
   "metadata": {
    "collapsed": true
   },
   "outputs": [],
   "source": [
    "@jit\n",
    "def compute(u,v,dx,dy):\n",
    "    G1=numpy.zeros((nj+1,ni+1))\n",
    "    G2=numpy.zeros((nj+1,ni+1))\n",
    "    w1=numpy.zeros((nj+1,ni+1))\n",
    "    w2=numpy.zeros((nj+1,ni+1))\n",
    "    f=numpy.zeros((nj+1,ni+1))\n",
    "    un=u.copy()\n",
    "    vn=v.copy()\n",
    "    for j in range(1,nj):\n",
    "        for i in range(1,ni):\n",
    "            G1[j,i]=Fc1(un,vn,i,j,dx,dy)+Fv1(un,vn,i,j,dx,dy)\n",
    "            G2[j,i]=Fc2(un,vn,i,j,dx,dy)+Fv2(un,vn,i,j,dx,dy)\n",
    "            w1[j,i]=un[j,i]+dt*G1[j,i]/3\n",
    "            w2[j,i]=vn[j,i]+dt*G2[j,i]/3\n",
    "            f[j,i]=3./dt*((w1[j,i+1]-w1[j,i-1])/2/dx+(w2[j+1,i]-w2[j-1,i])/2/dy)\n",
    "    p=poisson(f,1e-6,1.8)\n",
    "    for j in range(1,nj):\n",
    "        for i in range(1,ni):\n",
    "            un[j,i]=w1[j,i]+dt/3*Fp1(p,i,j,dx,dy)\n",
    "            vn[j,i]=w2[j,i]+dt/3*Fp2(p,i,j,dx,dy)\n",
    "            \n",
    "            G1[j,i]=-5./9*G1[j,i]+Fc1(un,vn,i,j,dx,dy)+Fv1(un,vn,i,j,dx,dy)\n",
    "            G2[j,i]=-5./9*G2[j,i]+Fc2(un,vn,i,j,dx,dy)+Fv2(un,vn,i,j,dx,dy)\n",
    "            w1[j,i]=un[j,i]+dt*15./16*G1[j,i]\n",
    "            w2[j,i]=vn[j,i]+dt*15./16*G2[j,i]\n",
    "            f[j,i]=12./5/dt*((w1[j,i+1]-w1[j,i-1])/2/dx+(w2[j+1,i]-w2[j-1,i])/2/dy)\n",
    "    p=poisson(f,1e-6,1.8)\n",
    "    for j in range(1,nj):\n",
    "        for i in range(1,ni):\n",
    "            un[j,i]=w1[j,i]+5./12*dt*Fp1(p,i,j,dx,dy)\n",
    "            vn[j,i]=w2[j,i]+5./12*dt*Fp2(p,i,j,dx,dy)\n",
    "            \n",
    "            G1[j,i]=-153./128*G1[j,i]+Fc1(un,vn,i,j,dx,dy)+Fv1(un,vn,i,j,dx,dy)\n",
    "            G2[j,i]=-153./128*G2[j,i]+Fc2(un,vn,i,j,dx,dy)+Fv2(un,vn,i,j,dx,dy)\n",
    "            w1[j,i]=un[j,i]+8./15*dt*G1[j,i]\n",
    "            w2[j,i]=vn[j,i]+8./15*dt*G2[j,i]\n",
    "            f[j,i]=4./dt*((w1[j,i+1]-w1[j,i-1])/2/dx+(w2[j+1,i]-w2[j-1,i])/2/dy)\n",
    "    p=poisson(f,1e-6,1.8)\n",
    "    for j in range(1,nj):\n",
    "        for i in range(1,ni):\n",
    "            un[j,i]=w1[j,i]+dt/4*Fp1(p,i,j,dx,dy)\n",
    "            vn[j,i]=w2[j,i]+dt/4*Fp2(p,i,j,dx,dy)\n",
    "    \n",
    "    return un,vn"
   ]
  },
  {
   "cell_type": "code",
   "execution_count": null,
   "metadata": {
    "collapsed": true
   },
   "outputs": [],
   "source": [
    "omega=numpy.zeros((nj+1,ni+1))\n",
    "for i in range(1,ni-1):\n",
    "    for j in range(1,nj-1):\n",
    "        omega0[j,i]=(v[j,i+1]-v[j,i-1])/2/dx-(u[j+1,i]-u[j-1,i])/2/dy"
   ]
  },
  {
   "cell_type": "code",
   "execution_count": null,
   "metadata": {
    "collapsed": true
   },
   "outputs": [],
   "source": []
  }
 ],
 "metadata": {
  "kernelspec": {
   "display_name": "Python 3",
   "language": "python",
   "name": "python3"
  },
  "language_info": {
   "codemirror_mode": {
    "name": "ipython",
    "version": 3
   },
   "file_extension": ".py",
   "mimetype": "text/x-python",
   "name": "python",
   "nbconvert_exporter": "python",
   "pygments_lexer": "ipython3",
   "version": "3.4.4"
  }
 },
 "nbformat": 4,
 "nbformat_minor": 0
}
